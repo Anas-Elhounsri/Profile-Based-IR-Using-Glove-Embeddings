{
  "cells": [
    {
      "cell_type": "code",
      "execution_count": null,
      "metadata": {
        "id": "D0_6jk6Q2UbK"
      },
      "outputs": [],
      "source": [
        "!pip install scikit-learn numpy pandas nltk matplotlib seaborn"
      ]
    },
    {
      "cell_type": "code",
      "source": [
        "import string as st\n",
        "import pandas as pd\n",
        "import numpy as np\n",
        "import seaborn as sns\n",
        "import matplotlib.pyplot as plt\n",
        "from sklearn.model_selection import train_test_split\n",
        "from sklearn.feature_extraction.text import TfidfVectorizer\n",
        "from tqdm.notebook import tqdm\n",
        "tqdm.pandas()"
      ],
      "metadata": {
        "id": "xSqELB4oQcLH"
      },
      "execution_count": null,
      "outputs": []
    },
    {
      "cell_type": "code",
      "execution_count": null,
      "metadata": {
        "id": "hLkwMpSg7s5f"
      },
      "outputs": [],
      "source": [
        "import nltk\n",
        "from nltk.corpus import stopwords\n",
        "from nltk import PorterStemmer, WordNetLemmatizer\n",
        "from nltk.tokenize import word_tokenize\n",
        "nltk.download('all')"
      ]
    },
    {
      "cell_type": "code",
      "execution_count": null,
      "metadata": {
        "colab": {
          "base_uri": "https://localhost:8080/"
        },
        "id": "VYf-SDWf9rLt",
        "outputId": "abf00c44-e6da-467a-9880-f092e6e09562"
      },
      "outputs": [
        {
          "output_type": "stream",
          "name": "stdout",
          "text": [
            "Mounted at /content/drive\n"
          ]
        }
      ],
      "source": [
        "from google.colab import drive\n",
        "drive.mount('/content/drive')"
      ]
    },
    {
      "cell_type": "code",
      "execution_count": null,
      "metadata": {
        "id": "b72pSmn09sCf"
      },
      "outputs": [],
      "source": [
        "path = \"/content/drive/MyDrive/profile_based_dataset/df_file.csv\""
      ]
    },
    {
      "cell_type": "markdown",
      "metadata": {
        "id": "Oh7uLhLE-IuU"
      },
      "source": [
        "# Dataset Preprocessing"
      ]
    },
    {
      "cell_type": "markdown",
      "metadata": {
        "id": "Vb2Q32A1-N1N"
      },
      "source": [
        "Our dataset is a text documents collection that contains **2225 text data** and **five categories** of document, these categories are listed like the following:\n",
        "\n",
        "*   Politics = 0\n",
        "*   Sport = 1\n",
        "*   Technology = 2\n",
        "*   Entertainment =3\n",
        "*   Business = 4\n",
        "\n",
        "We will be implementing some necessary preprocessing methods and techniques to normalize our dataset, the process will be the following:\n",
        "\n",
        "*   Lower-case text\n",
        "*   Remove punctuations\n",
        "*   Tokenize the strings\n",
        "*   Remove extra whitespaces\n",
        "*   Remove stopwords\n",
        "*   Lemmatize\n",
        "\n"
      ]
    },
    {
      "cell_type": "code",
      "execution_count": null,
      "metadata": {
        "colab": {
          "base_uri": "https://localhost:8080/"
        },
        "id": "oxpgvVqwRsxX",
        "outputId": "a13086b0-969e-4162-ba09-a382a5fcbbb9"
      },
      "outputs": [
        {
          "output_type": "execute_result",
          "data": {
            "text/plain": [
              "(2225, 2)"
            ]
          },
          "metadata": {},
          "execution_count": 14
        }
      ],
      "source": [
        "df = pd.read_csv(path)\n",
        "df.shape"
      ]
    },
    {
      "cell_type": "code",
      "execution_count": null,
      "metadata": {
        "colab": {
          "base_uri": "https://localhost:8080/",
          "height": 206
        },
        "id": "95vt1rgxS5Ib",
        "outputId": "0062e143-d4da-4beb-fe70-5295e647ac3f"
      },
      "outputs": [
        {
          "output_type": "execute_result",
          "data": {
            "text/plain": [
              "                                                Text  Label\n",
              "0  Budget to set scene for election\\n \\n Gordon B...      0\n",
              "1  Army chiefs in regiments decision\\n \\n Militar...      0\n",
              "2  Howard denies split over ID cards\\n \\n Michael...      0\n",
              "3  Observers to monitor UK election\\n \\n Minister...      0\n",
              "4  Kilroy names election seat target\\n \\n Ex-chat...      0"
            ],
            "text/html": [
              "\n",
              "  <div id=\"df-49c93182-5aad-4c42-8098-52ec85bd0779\" class=\"colab-df-container\">\n",
              "    <div>\n",
              "<style scoped>\n",
              "    .dataframe tbody tr th:only-of-type {\n",
              "        vertical-align: middle;\n",
              "    }\n",
              "\n",
              "    .dataframe tbody tr th {\n",
              "        vertical-align: top;\n",
              "    }\n",
              "\n",
              "    .dataframe thead th {\n",
              "        text-align: right;\n",
              "    }\n",
              "</style>\n",
              "<table border=\"1\" class=\"dataframe\">\n",
              "  <thead>\n",
              "    <tr style=\"text-align: right;\">\n",
              "      <th></th>\n",
              "      <th>Text</th>\n",
              "      <th>Label</th>\n",
              "    </tr>\n",
              "  </thead>\n",
              "  <tbody>\n",
              "    <tr>\n",
              "      <th>0</th>\n",
              "      <td>Budget to set scene for election\\n \\n Gordon B...</td>\n",
              "      <td>0</td>\n",
              "    </tr>\n",
              "    <tr>\n",
              "      <th>1</th>\n",
              "      <td>Army chiefs in regiments decision\\n \\n Militar...</td>\n",
              "      <td>0</td>\n",
              "    </tr>\n",
              "    <tr>\n",
              "      <th>2</th>\n",
              "      <td>Howard denies split over ID cards\\n \\n Michael...</td>\n",
              "      <td>0</td>\n",
              "    </tr>\n",
              "    <tr>\n",
              "      <th>3</th>\n",
              "      <td>Observers to monitor UK election\\n \\n Minister...</td>\n",
              "      <td>0</td>\n",
              "    </tr>\n",
              "    <tr>\n",
              "      <th>4</th>\n",
              "      <td>Kilroy names election seat target\\n \\n Ex-chat...</td>\n",
              "      <td>0</td>\n",
              "    </tr>\n",
              "  </tbody>\n",
              "</table>\n",
              "</div>\n",
              "    <div class=\"colab-df-buttons\">\n",
              "\n",
              "  <div class=\"colab-df-container\">\n",
              "    <button class=\"colab-df-convert\" onclick=\"convertToInteractive('df-49c93182-5aad-4c42-8098-52ec85bd0779')\"\n",
              "            title=\"Convert this dataframe to an interactive table.\"\n",
              "            style=\"display:none;\">\n",
              "\n",
              "  <svg xmlns=\"http://www.w3.org/2000/svg\" height=\"24px\" viewBox=\"0 -960 960 960\">\n",
              "    <path d=\"M120-120v-720h720v720H120Zm60-500h600v-160H180v160Zm220 220h160v-160H400v160Zm0 220h160v-160H400v160ZM180-400h160v-160H180v160Zm440 0h160v-160H620v160ZM180-180h160v-160H180v160Zm440 0h160v-160H620v160Z\"/>\n",
              "  </svg>\n",
              "    </button>\n",
              "\n",
              "  <style>\n",
              "    .colab-df-container {\n",
              "      display:flex;\n",
              "      gap: 12px;\n",
              "    }\n",
              "\n",
              "    .colab-df-convert {\n",
              "      background-color: #E8F0FE;\n",
              "      border: none;\n",
              "      border-radius: 50%;\n",
              "      cursor: pointer;\n",
              "      display: none;\n",
              "      fill: #1967D2;\n",
              "      height: 32px;\n",
              "      padding: 0 0 0 0;\n",
              "      width: 32px;\n",
              "    }\n",
              "\n",
              "    .colab-df-convert:hover {\n",
              "      background-color: #E2EBFA;\n",
              "      box-shadow: 0px 1px 2px rgba(60, 64, 67, 0.3), 0px 1px 3px 1px rgba(60, 64, 67, 0.15);\n",
              "      fill: #174EA6;\n",
              "    }\n",
              "\n",
              "    .colab-df-buttons div {\n",
              "      margin-bottom: 4px;\n",
              "    }\n",
              "\n",
              "    [theme=dark] .colab-df-convert {\n",
              "      background-color: #3B4455;\n",
              "      fill: #D2E3FC;\n",
              "    }\n",
              "\n",
              "    [theme=dark] .colab-df-convert:hover {\n",
              "      background-color: #434B5C;\n",
              "      box-shadow: 0px 1px 3px 1px rgba(0, 0, 0, 0.15);\n",
              "      filter: drop-shadow(0px 1px 2px rgba(0, 0, 0, 0.3));\n",
              "      fill: #FFFFFF;\n",
              "    }\n",
              "  </style>\n",
              "\n",
              "    <script>\n",
              "      const buttonEl =\n",
              "        document.querySelector('#df-49c93182-5aad-4c42-8098-52ec85bd0779 button.colab-df-convert');\n",
              "      buttonEl.style.display =\n",
              "        google.colab.kernel.accessAllowed ? 'block' : 'none';\n",
              "\n",
              "      async function convertToInteractive(key) {\n",
              "        const element = document.querySelector('#df-49c93182-5aad-4c42-8098-52ec85bd0779');\n",
              "        const dataTable =\n",
              "          await google.colab.kernel.invokeFunction('convertToInteractive',\n",
              "                                                    [key], {});\n",
              "        if (!dataTable) return;\n",
              "\n",
              "        const docLinkHtml = 'Like what you see? Visit the ' +\n",
              "          '<a target=\"_blank\" href=https://colab.research.google.com/notebooks/data_table.ipynb>data table notebook</a>'\n",
              "          + ' to learn more about interactive tables.';\n",
              "        element.innerHTML = '';\n",
              "        dataTable['output_type'] = 'display_data';\n",
              "        await google.colab.output.renderOutput(dataTable, element);\n",
              "        const docLink = document.createElement('div');\n",
              "        docLink.innerHTML = docLinkHtml;\n",
              "        element.appendChild(docLink);\n",
              "      }\n",
              "    </script>\n",
              "  </div>\n",
              "\n",
              "\n",
              "<div id=\"df-c4461eb0-e7e6-4ad8-85fc-0d2d2e46b642\">\n",
              "  <button class=\"colab-df-quickchart\" onclick=\"quickchart('df-c4461eb0-e7e6-4ad8-85fc-0d2d2e46b642')\"\n",
              "            title=\"Suggest charts\"\n",
              "            style=\"display:none;\">\n",
              "\n",
              "<svg xmlns=\"http://www.w3.org/2000/svg\" height=\"24px\"viewBox=\"0 0 24 24\"\n",
              "     width=\"24px\">\n",
              "    <g>\n",
              "        <path d=\"M19 3H5c-1.1 0-2 .9-2 2v14c0 1.1.9 2 2 2h14c1.1 0 2-.9 2-2V5c0-1.1-.9-2-2-2zM9 17H7v-7h2v7zm4 0h-2V7h2v10zm4 0h-2v-4h2v4z\"/>\n",
              "    </g>\n",
              "</svg>\n",
              "  </button>\n",
              "\n",
              "<style>\n",
              "  .colab-df-quickchart {\n",
              "      --bg-color: #E8F0FE;\n",
              "      --fill-color: #1967D2;\n",
              "      --hover-bg-color: #E2EBFA;\n",
              "      --hover-fill-color: #174EA6;\n",
              "      --disabled-fill-color: #AAA;\n",
              "      --disabled-bg-color: #DDD;\n",
              "  }\n",
              "\n",
              "  [theme=dark] .colab-df-quickchart {\n",
              "      --bg-color: #3B4455;\n",
              "      --fill-color: #D2E3FC;\n",
              "      --hover-bg-color: #434B5C;\n",
              "      --hover-fill-color: #FFFFFF;\n",
              "      --disabled-bg-color: #3B4455;\n",
              "      --disabled-fill-color: #666;\n",
              "  }\n",
              "\n",
              "  .colab-df-quickchart {\n",
              "    background-color: var(--bg-color);\n",
              "    border: none;\n",
              "    border-radius: 50%;\n",
              "    cursor: pointer;\n",
              "    display: none;\n",
              "    fill: var(--fill-color);\n",
              "    height: 32px;\n",
              "    padding: 0;\n",
              "    width: 32px;\n",
              "  }\n",
              "\n",
              "  .colab-df-quickchart:hover {\n",
              "    background-color: var(--hover-bg-color);\n",
              "    box-shadow: 0 1px 2px rgba(60, 64, 67, 0.3), 0 1px 3px 1px rgba(60, 64, 67, 0.15);\n",
              "    fill: var(--button-hover-fill-color);\n",
              "  }\n",
              "\n",
              "  .colab-df-quickchart-complete:disabled,\n",
              "  .colab-df-quickchart-complete:disabled:hover {\n",
              "    background-color: var(--disabled-bg-color);\n",
              "    fill: var(--disabled-fill-color);\n",
              "    box-shadow: none;\n",
              "  }\n",
              "\n",
              "  .colab-df-spinner {\n",
              "    border: 2px solid var(--fill-color);\n",
              "    border-color: transparent;\n",
              "    border-bottom-color: var(--fill-color);\n",
              "    animation:\n",
              "      spin 1s steps(1) infinite;\n",
              "  }\n",
              "\n",
              "  @keyframes spin {\n",
              "    0% {\n",
              "      border-color: transparent;\n",
              "      border-bottom-color: var(--fill-color);\n",
              "      border-left-color: var(--fill-color);\n",
              "    }\n",
              "    20% {\n",
              "      border-color: transparent;\n",
              "      border-left-color: var(--fill-color);\n",
              "      border-top-color: var(--fill-color);\n",
              "    }\n",
              "    30% {\n",
              "      border-color: transparent;\n",
              "      border-left-color: var(--fill-color);\n",
              "      border-top-color: var(--fill-color);\n",
              "      border-right-color: var(--fill-color);\n",
              "    }\n",
              "    40% {\n",
              "      border-color: transparent;\n",
              "      border-right-color: var(--fill-color);\n",
              "      border-top-color: var(--fill-color);\n",
              "    }\n",
              "    60% {\n",
              "      border-color: transparent;\n",
              "      border-right-color: var(--fill-color);\n",
              "    }\n",
              "    80% {\n",
              "      border-color: transparent;\n",
              "      border-right-color: var(--fill-color);\n",
              "      border-bottom-color: var(--fill-color);\n",
              "    }\n",
              "    90% {\n",
              "      border-color: transparent;\n",
              "      border-bottom-color: var(--fill-color);\n",
              "    }\n",
              "  }\n",
              "</style>\n",
              "\n",
              "  <script>\n",
              "    async function quickchart(key) {\n",
              "      const quickchartButtonEl =\n",
              "        document.querySelector('#' + key + ' button');\n",
              "      quickchartButtonEl.disabled = true;  // To prevent multiple clicks.\n",
              "      quickchartButtonEl.classList.add('colab-df-spinner');\n",
              "      try {\n",
              "        const charts = await google.colab.kernel.invokeFunction(\n",
              "            'suggestCharts', [key], {});\n",
              "      } catch (error) {\n",
              "        console.error('Error during call to suggestCharts:', error);\n",
              "      }\n",
              "      quickchartButtonEl.classList.remove('colab-df-spinner');\n",
              "      quickchartButtonEl.classList.add('colab-df-quickchart-complete');\n",
              "    }\n",
              "    (() => {\n",
              "      let quickchartButtonEl =\n",
              "        document.querySelector('#df-c4461eb0-e7e6-4ad8-85fc-0d2d2e46b642 button');\n",
              "      quickchartButtonEl.style.display =\n",
              "        google.colab.kernel.accessAllowed ? 'block' : 'none';\n",
              "    })();\n",
              "  </script>\n",
              "</div>\n",
              "    </div>\n",
              "  </div>\n"
            ],
            "application/vnd.google.colaboratory.intrinsic+json": {
              "type": "dataframe",
              "variable_name": "df",
              "summary": "{\n  \"name\": \"df\",\n  \"rows\": 2225,\n  \"fields\": [\n    {\n      \"column\": \"Text\",\n      \"properties\": {\n        \"dtype\": \"string\",\n        \"num_unique_values\": 2127,\n        \"samples\": [\n          \"Blair congratulates Bush on win\\n \\n Tony Blair has said he looks forward to continuing his strong relationship with George Bush and working with him during his second term as president.\\n \\n Mr Bush's re-election came at a crucial time for a world that was \\\"fractured, divided and uncertain\\\", Mr Blair said. It had to be brought together, he added, saying action was needed on poverty, the Middle East and the conditions on which terrorists prey. Mr Blair said states had to work with the US to fight global terrorism.\\n \\n But there was a need to recognise it would not be defeated by \\\"military might alone but also by demonstrating the strength of our common values\\\" he added. Solving the conflict in the Middle East was the world's single most \\\"pressing political challenge\\\" of the present day, Mr Blair warned. The prime minister also urged Europe and the US to \\\"build anew their alliance\\\".\\n \\n \\\"All of us in positions of leadership, not just President Bush, have a responsibility to rise to this challenge. It is urgent that we do so.\\\" Mr Blair also paid tribute to Democrat John Kerry's campaign, saying he had helped make the presidential election \\\"a true celebration of American democracy\\\". The election of the US president was significant for the world but particularly so for Britain because of its special relationship, he added. Earlier Tory leader Michael Howard sent Mr Bush his \\\"warmest congratulations\\\", saying: \\\"We look to the president to be a unifying force for those all over the world who share our determination to defend freedom.\\\" Liberal Democrat leader Charles Kennedy welcomed the fact there had been a quick conclusion to the election, unlike in 2000.\\n \\n Mr Bush's first task was to \\\"rebuild a sense of domestic purpose\\\" within the US, he said. Mr Kennedy said: \\\"Internationally, it is to be hoped that a second term will see a more sensitive approach to relations with long-standing allies, not least for the global efforts to combat terrorism.\\\" Lib Dem foreign affairs spokesman Menzies Campbell said a win by Mr Kerry would have given Mr Blair the chance of a fresh start, adding it was almost as if there was an \\\"umbilical cord\\\" between Mr Bush and the UK premier.\\n \\n \\\"Europeans must hope that his administration will be much more multilateral in character, and that he will act swiftly to rebuild the Atlantic partnership which is so vital to security. \\\"Iraq will remain an issue of potential division for some time to come.\\\" Even before the result became clear, Mr Blair was being urged to push for action on climate change at his first meeting with whichever candidate won.\\n \\n Liberal Democrat environment spokesman Norman Baker underlined the issue of global warming during a Commons debate on Anglo-American relations on Wednesday. Environment Secretary Margaret Beckett has said the US will act on global warming despite George Bush's refusal to sign up to the Kyoto protocol on carbon emissions. Public opinion would force change, she told BBC news. But Myron Ebell, an adviser on climate change to President Bush, has said there would be no change in the US stance and rejected the threat of climate change. He claimed the US was the only country with independent scientists.\\n\",\n          \"China Aviation seeks rescue deal\\n \\n Scandal-hit jet fuel supplier China Aviation Oil has offered to repay its creditors $220m (\\u00c2\\u00a3117m) of the $550m it lost on trading in oil futures.\\n \\n The firm said it hoped to pay $100m now and another $120m over eight years. With assets of $200m and liabilities totalling $648m, it needs creditors' backing for the offer to avoid going into bankruptcy. The trading scandal is the biggest to hit Singapore since the $1.2bn collapse of Barings Bank in 1995. Chen Jiulin, chief executive of China Aviation Oil (CAO), was arrested by at Changi Airport by Singapore police on 8 December. He was returning from China, where he had headed when CAO announced its trading debacle in late-November. The firm had been betting heavily on a fall in the price of oil during October, but prices rose sharply instead.\\n \\n Among the creditors whose backing CAO needs for its restructuring plan are banking giants such as Barclay's Capital and Sumitomo Mitsui, as well as South Korean firm SK Energy. Of the immediate payment, the firm - China's biggest jet fuel supplier - said it would be paying $30m out of its own resources. The rest would come from its parent company, China Aviation Oil Holding Company in Beijing. The holding company, owned by the Chinese government, holds most of CAO's Singapore-listed shares. It cut its holding from 75% to 60% on 20 October.\\n\",\n          \"Yukos heading back to US courts\\n \\n Russian oil and gas company Yukos is due in a US court on Thursday as it continues to fight for its survival.\\n \\n The firm is in the process of being broken up by Russian authorities in order to pay a $27bn (\\u00c2\\u00a314bn) tax bill. Yukos filed for bankruptcy in the US, hoping to use international business law to halt the forced sale of its key oil production unit, Yuganskneftegas. The unit was however sold for $9.4bn to state oil firm Rosneft but only after the state auction had been disrupted.\\n \\n Yukos lawyers now say the auction violated US bankruptcy law. The company and its main shareholders have vowed to go after any company that buys its assets, using all and every legal means. The company wants damages of $20bn, claiming Yuganskneftegas was sold at less than market value. Judge Letitia Clark will hear different motions, including one from Deutsche Bank to throw out the Chapter 11 bankruptcy filing. The German lender is one of six banks that were barred from providing financing to Gazprom, the Russian state-owned company that was expected to win the auction for Yuganskneftegas. Deutsche Bank, which is also an advisor to Gazprom, has called on the US court to overturn its decision to provide Yukos with bankruptcy protection.\\n \\n Lifting the injunction would remove the uncertainty that surrounds the court case and clarify Deutsche Bank's business position, analysts said.\\n \\n Analysts are not optimistic about Yukos' chances in court. Russian President Vladimir Putin and the country's legal authorities have repeatedly said that the US has no jurisdiction over Yukos and its legal wranglings. On top of that, the firm only has limited assets in the US. Yukos has won small victories, however, and is bullish about its chances in court. \\\"Do we have an ability to influence what happens? We think we do,\\\" said Mike Lake, a Yukos spokesman. \\\"The litigation risks are real,\\\" said Credit Suisse First Boston analyst Vadim Mitroshin The dispute with the Russian authorities is partly driven by President Putin's clampdown on the political ambitions of ex-Yukos boss Mikhail Khodorkovsky. Mr Khodorkovsky is in jail on charges of fraud and tax evasion.\\n\"\n        ],\n        \"semantic_type\": \"\",\n        \"description\": \"\"\n      }\n    },\n    {\n      \"column\": \"Label\",\n      \"properties\": {\n        \"dtype\": \"number\",\n        \"std\": 1,\n        \"min\": 0,\n        \"max\": 4,\n        \"num_unique_values\": 5,\n        \"samples\": [\n          1,\n          4,\n          2\n        ],\n        \"semantic_type\": \"\",\n        \"description\": \"\"\n      }\n    }\n  ]\n}"
            }
          },
          "metadata": {},
          "execution_count": 15
        }
      ],
      "source": [
        "df.head()"
      ]
    },
    {
      "cell_type": "code",
      "execution_count": null,
      "metadata": {
        "colab": {
          "base_uri": "https://localhost:8080/",
          "height": 206
        },
        "id": "eMp6Ko1-R_yC",
        "outputId": "45aff84a-8faa-4e75-9aba-b4401af8b35a"
      },
      "outputs": [
        {
          "output_type": "execute_result",
          "data": {
            "text/plain": [
              "                                            headline  category\n",
              "0  Budget to set scene for election\\n \\n Gordon B...         0\n",
              "1  Army chiefs in regiments decision\\n \\n Militar...         0\n",
              "2  Howard denies split over ID cards\\n \\n Michael...         0\n",
              "3  Observers to monitor UK election\\n \\n Minister...         0\n",
              "4  Kilroy names election seat target\\n \\n Ex-chat...         0"
            ],
            "text/html": [
              "\n",
              "  <div id=\"df-3a9e7d9e-eeb3-4986-971c-7301f9697ad8\" class=\"colab-df-container\">\n",
              "    <div>\n",
              "<style scoped>\n",
              "    .dataframe tbody tr th:only-of-type {\n",
              "        vertical-align: middle;\n",
              "    }\n",
              "\n",
              "    .dataframe tbody tr th {\n",
              "        vertical-align: top;\n",
              "    }\n",
              "\n",
              "    .dataframe thead th {\n",
              "        text-align: right;\n",
              "    }\n",
              "</style>\n",
              "<table border=\"1\" class=\"dataframe\">\n",
              "  <thead>\n",
              "    <tr style=\"text-align: right;\">\n",
              "      <th></th>\n",
              "      <th>headline</th>\n",
              "      <th>category</th>\n",
              "    </tr>\n",
              "  </thead>\n",
              "  <tbody>\n",
              "    <tr>\n",
              "      <th>0</th>\n",
              "      <td>Budget to set scene for election\\n \\n Gordon B...</td>\n",
              "      <td>0</td>\n",
              "    </tr>\n",
              "    <tr>\n",
              "      <th>1</th>\n",
              "      <td>Army chiefs in regiments decision\\n \\n Militar...</td>\n",
              "      <td>0</td>\n",
              "    </tr>\n",
              "    <tr>\n",
              "      <th>2</th>\n",
              "      <td>Howard denies split over ID cards\\n \\n Michael...</td>\n",
              "      <td>0</td>\n",
              "    </tr>\n",
              "    <tr>\n",
              "      <th>3</th>\n",
              "      <td>Observers to monitor UK election\\n \\n Minister...</td>\n",
              "      <td>0</td>\n",
              "    </tr>\n",
              "    <tr>\n",
              "      <th>4</th>\n",
              "      <td>Kilroy names election seat target\\n \\n Ex-chat...</td>\n",
              "      <td>0</td>\n",
              "    </tr>\n",
              "  </tbody>\n",
              "</table>\n",
              "</div>\n",
              "    <div class=\"colab-df-buttons\">\n",
              "\n",
              "  <div class=\"colab-df-container\">\n",
              "    <button class=\"colab-df-convert\" onclick=\"convertToInteractive('df-3a9e7d9e-eeb3-4986-971c-7301f9697ad8')\"\n",
              "            title=\"Convert this dataframe to an interactive table.\"\n",
              "            style=\"display:none;\">\n",
              "\n",
              "  <svg xmlns=\"http://www.w3.org/2000/svg\" height=\"24px\" viewBox=\"0 -960 960 960\">\n",
              "    <path d=\"M120-120v-720h720v720H120Zm60-500h600v-160H180v160Zm220 220h160v-160H400v160Zm0 220h160v-160H400v160ZM180-400h160v-160H180v160Zm440 0h160v-160H620v160ZM180-180h160v-160H180v160Zm440 0h160v-160H620v160Z\"/>\n",
              "  </svg>\n",
              "    </button>\n",
              "\n",
              "  <style>\n",
              "    .colab-df-container {\n",
              "      display:flex;\n",
              "      gap: 12px;\n",
              "    }\n",
              "\n",
              "    .colab-df-convert {\n",
              "      background-color: #E8F0FE;\n",
              "      border: none;\n",
              "      border-radius: 50%;\n",
              "      cursor: pointer;\n",
              "      display: none;\n",
              "      fill: #1967D2;\n",
              "      height: 32px;\n",
              "      padding: 0 0 0 0;\n",
              "      width: 32px;\n",
              "    }\n",
              "\n",
              "    .colab-df-convert:hover {\n",
              "      background-color: #E2EBFA;\n",
              "      box-shadow: 0px 1px 2px rgba(60, 64, 67, 0.3), 0px 1px 3px 1px rgba(60, 64, 67, 0.15);\n",
              "      fill: #174EA6;\n",
              "    }\n",
              "\n",
              "    .colab-df-buttons div {\n",
              "      margin-bottom: 4px;\n",
              "    }\n",
              "\n",
              "    [theme=dark] .colab-df-convert {\n",
              "      background-color: #3B4455;\n",
              "      fill: #D2E3FC;\n",
              "    }\n",
              "\n",
              "    [theme=dark] .colab-df-convert:hover {\n",
              "      background-color: #434B5C;\n",
              "      box-shadow: 0px 1px 3px 1px rgba(0, 0, 0, 0.15);\n",
              "      filter: drop-shadow(0px 1px 2px rgba(0, 0, 0, 0.3));\n",
              "      fill: #FFFFFF;\n",
              "    }\n",
              "  </style>\n",
              "\n",
              "    <script>\n",
              "      const buttonEl =\n",
              "        document.querySelector('#df-3a9e7d9e-eeb3-4986-971c-7301f9697ad8 button.colab-df-convert');\n",
              "      buttonEl.style.display =\n",
              "        google.colab.kernel.accessAllowed ? 'block' : 'none';\n",
              "\n",
              "      async function convertToInteractive(key) {\n",
              "        const element = document.querySelector('#df-3a9e7d9e-eeb3-4986-971c-7301f9697ad8');\n",
              "        const dataTable =\n",
              "          await google.colab.kernel.invokeFunction('convertToInteractive',\n",
              "                                                    [key], {});\n",
              "        if (!dataTable) return;\n",
              "\n",
              "        const docLinkHtml = 'Like what you see? Visit the ' +\n",
              "          '<a target=\"_blank\" href=https://colab.research.google.com/notebooks/data_table.ipynb>data table notebook</a>'\n",
              "          + ' to learn more about interactive tables.';\n",
              "        element.innerHTML = '';\n",
              "        dataTable['output_type'] = 'display_data';\n",
              "        await google.colab.output.renderOutput(dataTable, element);\n",
              "        const docLink = document.createElement('div');\n",
              "        docLink.innerHTML = docLinkHtml;\n",
              "        element.appendChild(docLink);\n",
              "      }\n",
              "    </script>\n",
              "  </div>\n",
              "\n",
              "\n",
              "<div id=\"df-c71cf742-5a77-4bc0-8b93-d385ebae40ab\">\n",
              "  <button class=\"colab-df-quickchart\" onclick=\"quickchart('df-c71cf742-5a77-4bc0-8b93-d385ebae40ab')\"\n",
              "            title=\"Suggest charts\"\n",
              "            style=\"display:none;\">\n",
              "\n",
              "<svg xmlns=\"http://www.w3.org/2000/svg\" height=\"24px\"viewBox=\"0 0 24 24\"\n",
              "     width=\"24px\">\n",
              "    <g>\n",
              "        <path d=\"M19 3H5c-1.1 0-2 .9-2 2v14c0 1.1.9 2 2 2h14c1.1 0 2-.9 2-2V5c0-1.1-.9-2-2-2zM9 17H7v-7h2v7zm4 0h-2V7h2v10zm4 0h-2v-4h2v4z\"/>\n",
              "    </g>\n",
              "</svg>\n",
              "  </button>\n",
              "\n",
              "<style>\n",
              "  .colab-df-quickchart {\n",
              "      --bg-color: #E8F0FE;\n",
              "      --fill-color: #1967D2;\n",
              "      --hover-bg-color: #E2EBFA;\n",
              "      --hover-fill-color: #174EA6;\n",
              "      --disabled-fill-color: #AAA;\n",
              "      --disabled-bg-color: #DDD;\n",
              "  }\n",
              "\n",
              "  [theme=dark] .colab-df-quickchart {\n",
              "      --bg-color: #3B4455;\n",
              "      --fill-color: #D2E3FC;\n",
              "      --hover-bg-color: #434B5C;\n",
              "      --hover-fill-color: #FFFFFF;\n",
              "      --disabled-bg-color: #3B4455;\n",
              "      --disabled-fill-color: #666;\n",
              "  }\n",
              "\n",
              "  .colab-df-quickchart {\n",
              "    background-color: var(--bg-color);\n",
              "    border: none;\n",
              "    border-radius: 50%;\n",
              "    cursor: pointer;\n",
              "    display: none;\n",
              "    fill: var(--fill-color);\n",
              "    height: 32px;\n",
              "    padding: 0;\n",
              "    width: 32px;\n",
              "  }\n",
              "\n",
              "  .colab-df-quickchart:hover {\n",
              "    background-color: var(--hover-bg-color);\n",
              "    box-shadow: 0 1px 2px rgba(60, 64, 67, 0.3), 0 1px 3px 1px rgba(60, 64, 67, 0.15);\n",
              "    fill: var(--button-hover-fill-color);\n",
              "  }\n",
              "\n",
              "  .colab-df-quickchart-complete:disabled,\n",
              "  .colab-df-quickchart-complete:disabled:hover {\n",
              "    background-color: var(--disabled-bg-color);\n",
              "    fill: var(--disabled-fill-color);\n",
              "    box-shadow: none;\n",
              "  }\n",
              "\n",
              "  .colab-df-spinner {\n",
              "    border: 2px solid var(--fill-color);\n",
              "    border-color: transparent;\n",
              "    border-bottom-color: var(--fill-color);\n",
              "    animation:\n",
              "      spin 1s steps(1) infinite;\n",
              "  }\n",
              "\n",
              "  @keyframes spin {\n",
              "    0% {\n",
              "      border-color: transparent;\n",
              "      border-bottom-color: var(--fill-color);\n",
              "      border-left-color: var(--fill-color);\n",
              "    }\n",
              "    20% {\n",
              "      border-color: transparent;\n",
              "      border-left-color: var(--fill-color);\n",
              "      border-top-color: var(--fill-color);\n",
              "    }\n",
              "    30% {\n",
              "      border-color: transparent;\n",
              "      border-left-color: var(--fill-color);\n",
              "      border-top-color: var(--fill-color);\n",
              "      border-right-color: var(--fill-color);\n",
              "    }\n",
              "    40% {\n",
              "      border-color: transparent;\n",
              "      border-right-color: var(--fill-color);\n",
              "      border-top-color: var(--fill-color);\n",
              "    }\n",
              "    60% {\n",
              "      border-color: transparent;\n",
              "      border-right-color: var(--fill-color);\n",
              "    }\n",
              "    80% {\n",
              "      border-color: transparent;\n",
              "      border-right-color: var(--fill-color);\n",
              "      border-bottom-color: var(--fill-color);\n",
              "    }\n",
              "    90% {\n",
              "      border-color: transparent;\n",
              "      border-bottom-color: var(--fill-color);\n",
              "    }\n",
              "  }\n",
              "</style>\n",
              "\n",
              "  <script>\n",
              "    async function quickchart(key) {\n",
              "      const quickchartButtonEl =\n",
              "        document.querySelector('#' + key + ' button');\n",
              "      quickchartButtonEl.disabled = true;  // To prevent multiple clicks.\n",
              "      quickchartButtonEl.classList.add('colab-df-spinner');\n",
              "      try {\n",
              "        const charts = await google.colab.kernel.invokeFunction(\n",
              "            'suggestCharts', [key], {});\n",
              "      } catch (error) {\n",
              "        console.error('Error during call to suggestCharts:', error);\n",
              "      }\n",
              "      quickchartButtonEl.classList.remove('colab-df-spinner');\n",
              "      quickchartButtonEl.classList.add('colab-df-quickchart-complete');\n",
              "    }\n",
              "    (() => {\n",
              "      let quickchartButtonEl =\n",
              "        document.querySelector('#df-c71cf742-5a77-4bc0-8b93-d385ebae40ab button');\n",
              "      quickchartButtonEl.style.display =\n",
              "        google.colab.kernel.accessAllowed ? 'block' : 'none';\n",
              "    })();\n",
              "  </script>\n",
              "</div>\n",
              "    </div>\n",
              "  </div>\n"
            ],
            "application/vnd.google.colaboratory.intrinsic+json": {
              "type": "dataframe",
              "variable_name": "df",
              "summary": "{\n  \"name\": \"df\",\n  \"rows\": 2225,\n  \"fields\": [\n    {\n      \"column\": \"headline\",\n      \"properties\": {\n        \"dtype\": \"string\",\n        \"num_unique_values\": 2127,\n        \"samples\": [\n          \"Blair congratulates Bush on win\\n \\n Tony Blair has said he looks forward to continuing his strong relationship with George Bush and working with him during his second term as president.\\n \\n Mr Bush's re-election came at a crucial time for a world that was \\\"fractured, divided and uncertain\\\", Mr Blair said. It had to be brought together, he added, saying action was needed on poverty, the Middle East and the conditions on which terrorists prey. Mr Blair said states had to work with the US to fight global terrorism.\\n \\n But there was a need to recognise it would not be defeated by \\\"military might alone but also by demonstrating the strength of our common values\\\" he added. Solving the conflict in the Middle East was the world's single most \\\"pressing political challenge\\\" of the present day, Mr Blair warned. The prime minister also urged Europe and the US to \\\"build anew their alliance\\\".\\n \\n \\\"All of us in positions of leadership, not just President Bush, have a responsibility to rise to this challenge. It is urgent that we do so.\\\" Mr Blair also paid tribute to Democrat John Kerry's campaign, saying he had helped make the presidential election \\\"a true celebration of American democracy\\\". The election of the US president was significant for the world but particularly so for Britain because of its special relationship, he added. Earlier Tory leader Michael Howard sent Mr Bush his \\\"warmest congratulations\\\", saying: \\\"We look to the president to be a unifying force for those all over the world who share our determination to defend freedom.\\\" Liberal Democrat leader Charles Kennedy welcomed the fact there had been a quick conclusion to the election, unlike in 2000.\\n \\n Mr Bush's first task was to \\\"rebuild a sense of domestic purpose\\\" within the US, he said. Mr Kennedy said: \\\"Internationally, it is to be hoped that a second term will see a more sensitive approach to relations with long-standing allies, not least for the global efforts to combat terrorism.\\\" Lib Dem foreign affairs spokesman Menzies Campbell said a win by Mr Kerry would have given Mr Blair the chance of a fresh start, adding it was almost as if there was an \\\"umbilical cord\\\" between Mr Bush and the UK premier.\\n \\n \\\"Europeans must hope that his administration will be much more multilateral in character, and that he will act swiftly to rebuild the Atlantic partnership which is so vital to security. \\\"Iraq will remain an issue of potential division for some time to come.\\\" Even before the result became clear, Mr Blair was being urged to push for action on climate change at his first meeting with whichever candidate won.\\n \\n Liberal Democrat environment spokesman Norman Baker underlined the issue of global warming during a Commons debate on Anglo-American relations on Wednesday. Environment Secretary Margaret Beckett has said the US will act on global warming despite George Bush's refusal to sign up to the Kyoto protocol on carbon emissions. Public opinion would force change, she told BBC news. But Myron Ebell, an adviser on climate change to President Bush, has said there would be no change in the US stance and rejected the threat of climate change. He claimed the US was the only country with independent scientists.\\n\",\n          \"China Aviation seeks rescue deal\\n \\n Scandal-hit jet fuel supplier China Aviation Oil has offered to repay its creditors $220m (\\u00c2\\u00a3117m) of the $550m it lost on trading in oil futures.\\n \\n The firm said it hoped to pay $100m now and another $120m over eight years. With assets of $200m and liabilities totalling $648m, it needs creditors' backing for the offer to avoid going into bankruptcy. The trading scandal is the biggest to hit Singapore since the $1.2bn collapse of Barings Bank in 1995. Chen Jiulin, chief executive of China Aviation Oil (CAO), was arrested by at Changi Airport by Singapore police on 8 December. He was returning from China, where he had headed when CAO announced its trading debacle in late-November. The firm had been betting heavily on a fall in the price of oil during October, but prices rose sharply instead.\\n \\n Among the creditors whose backing CAO needs for its restructuring plan are banking giants such as Barclay's Capital and Sumitomo Mitsui, as well as South Korean firm SK Energy. Of the immediate payment, the firm - China's biggest jet fuel supplier - said it would be paying $30m out of its own resources. The rest would come from its parent company, China Aviation Oil Holding Company in Beijing. The holding company, owned by the Chinese government, holds most of CAO's Singapore-listed shares. It cut its holding from 75% to 60% on 20 October.\\n\",\n          \"Yukos heading back to US courts\\n \\n Russian oil and gas company Yukos is due in a US court on Thursday as it continues to fight for its survival.\\n \\n The firm is in the process of being broken up by Russian authorities in order to pay a $27bn (\\u00c2\\u00a314bn) tax bill. Yukos filed for bankruptcy in the US, hoping to use international business law to halt the forced sale of its key oil production unit, Yuganskneftegas. The unit was however sold for $9.4bn to state oil firm Rosneft but only after the state auction had been disrupted.\\n \\n Yukos lawyers now say the auction violated US bankruptcy law. The company and its main shareholders have vowed to go after any company that buys its assets, using all and every legal means. The company wants damages of $20bn, claiming Yuganskneftegas was sold at less than market value. Judge Letitia Clark will hear different motions, including one from Deutsche Bank to throw out the Chapter 11 bankruptcy filing. The German lender is one of six banks that were barred from providing financing to Gazprom, the Russian state-owned company that was expected to win the auction for Yuganskneftegas. Deutsche Bank, which is also an advisor to Gazprom, has called on the US court to overturn its decision to provide Yukos with bankruptcy protection.\\n \\n Lifting the injunction would remove the uncertainty that surrounds the court case and clarify Deutsche Bank's business position, analysts said.\\n \\n Analysts are not optimistic about Yukos' chances in court. Russian President Vladimir Putin and the country's legal authorities have repeatedly said that the US has no jurisdiction over Yukos and its legal wranglings. On top of that, the firm only has limited assets in the US. Yukos has won small victories, however, and is bullish about its chances in court. \\\"Do we have an ability to influence what happens? We think we do,\\\" said Mike Lake, a Yukos spokesman. \\\"The litigation risks are real,\\\" said Credit Suisse First Boston analyst Vadim Mitroshin The dispute with the Russian authorities is partly driven by President Putin's clampdown on the political ambitions of ex-Yukos boss Mikhail Khodorkovsky. Mr Khodorkovsky is in jail on charges of fraud and tax evasion.\\n\"\n        ],\n        \"semantic_type\": \"\",\n        \"description\": \"\"\n      }\n    },\n    {\n      \"column\": \"category\",\n      \"properties\": {\n        \"dtype\": \"number\",\n        \"std\": 1,\n        \"min\": 0,\n        \"max\": 4,\n        \"num_unique_values\": 5,\n        \"samples\": [\n          1,\n          4,\n          2\n        ],\n        \"semantic_type\": \"\",\n        \"description\": \"\"\n      }\n    }\n  ]\n}"
            }
          },
          "metadata": {},
          "execution_count": 20
        }
      ],
      "source": [
        "df = df.rename(columns={'Text': 'headline', 'Label': 'category'})\n",
        "df.head()"
      ]
    },
    {
      "cell_type": "code",
      "execution_count": null,
      "metadata": {
        "colab": {
          "base_uri": "https://localhost:8080/",
          "height": 444
        },
        "id": "HgiE32tSS-4q",
        "outputId": "1391e8a8-3d7f-44a6-f454-8844d0797f22"
      },
      "outputs": [
        {
          "output_type": "display_data",
          "data": {
            "text/plain": [
              "<Figure size 500x500 with 1 Axes>"
            ],
            "image/png": "[encoded data removed]"
          },
          "metadata": {}
        }
      ],
      "source": [
        "plot = df['category'].value_counts(normalize=True).plot.pie(autopct='%1.0f%%',\n",
        "                                                         figsize=(5, 5),\n",
        "                                                         title='Percentage of Topics')"
      ]
    },
    {
      "cell_type": "markdown",
      "metadata": {
        "id": "SvjzPQ3pUtVa"
      },
      "source": [
        "Politics = 0, Sport = 1, Technology = 2, Entertainment =3, Business = 4"
      ]
    },
    {
      "cell_type": "markdown",
      "metadata": {
        "id": "ezi9aB3pU6kU"
      },
      "source": [
        "As we can see our dataset is pretty balanced, now we will be normalizing our dataset using the previously mentioned techniques."
      ]
    },
    {
      "cell_type": "code",
      "execution_count": null,
      "metadata": {
        "id": "MCdb5piGcT-V"
      },
      "outputs": [],
      "source": [
        "df_clean_text = df.copy()"
      ]
    },
    {
      "cell_type": "code",
      "source": [
        "import re\n",
        "\n",
        "def clean_string(string):\n",
        "\n",
        "    string = re.sub(r\"\\'s\", \"\", string)\n",
        "    string = re.sub(r\"\\'ve\", \"\", string)\n",
        "    string = re.sub(r\"n\\'t\", \"\", string)\n",
        "    string = re.sub(r\"\\'re\", \"\", string)\n",
        "    string = re.sub(r\"\\'d\", \"\", string)\n",
        "    string = re.sub(r\"\\'ll\", \"\", string)\n",
        "    string = re.sub(r\",\", \"\", string)\n",
        "    string = re.sub(r\"!\", \" ! \", string)\n",
        "    string = re.sub(r\"\\(\", \"\", string)\n",
        "    string = re.sub(r\"\\)\", \"\", string)\n",
        "    string = re.sub(r\"\\?\", \"\", string)\n",
        "    string = re.sub(r\"'\", \"\", string)\n",
        "    string = re.sub(r\"[^A-Za-z0-9(),!?\\'\\`]\", \" \", string)\n",
        "    string = re.sub(r\"[0-9]\\w+|[0-9]\", \"\", string)\n",
        "    string = re.sub(r\"\\s{2,}\", \" \", string)\n",
        "\n",
        "    return string.strip().lower()"
      ],
      "metadata": {
        "id": "HQJjtp89IPvn"
      },
      "execution_count": null,
      "outputs": []
    },
    {
      "cell_type": "code",
      "execution_count": null,
      "metadata": {
        "colab": {
          "base_uri": "https://localhost:8080/",
          "height": 238,
          "referenced_widgets": [
            "137d5f4a0132474fa76ee9e3ae5d022b",
            "5f9aacc5b4384f42a9ee6f8e024b592b",
            "5ed2d7bdabd9441690e759b9d844d751",
            "2efa7d5c2b9a40dda8aaddd17df8a1ce",
            "2c00d5d5d8244023b33e539ae6a70247",
            "eff73d2bed7a4efbae2f7c67fec831b2",
            "d6c95dab40ad41b99f38d75697f4c122",
            "c926dbbed8ee45c59d7b4ec6f45c4969",
            "575a5e3240cc47cdab2f676cb48253fd",
            "9857129ea69c48bf9c0159051c445917",
            "35f7052badc44455b95578b04b5a2ca6"
          ]
        },
        "id": "vM2q-o7BUs-u",
        "outputId": "c7d8096c-61b6-41ab-98dd-98588838dfb5"
      },
      "outputs": [
        {
          "output_type": "display_data",
          "data": {
            "text/plain": [
              "  0%|          | 0/2225 [00:00<?, ?it/s]"
            ],
            "application/vnd.jupyter.widget-view+json": {
              "version_major": 2,
              "version_minor": 0,
              "model_id": "137d5f4a0132474fa76ee9e3ae5d022b"
            }
          },
          "metadata": {}
        },
        {
          "output_type": "execute_result",
          "data": {
            "text/plain": [
              "                                            headline  category  \\\n",
              "0  Budget to set scene for election\\n \\n Gordon B...         0   \n",
              "1  Army chiefs in regiments decision\\n \\n Militar...         0   \n",
              "2  Howard denies split over ID cards\\n \\n Michael...         0   \n",
              "3  Observers to monitor UK election\\n \\n Minister...         0   \n",
              "4  Kilroy names election seat target\\n \\n Ex-chat...         0   \n",
              "\n",
              "                                removed_punctuations  \n",
              "0  budget to set scene for election\\n \\n gordon b...  \n",
              "1  army chiefs in regiments decision\\n \\n militar...  \n",
              "2  howard denies split over id cards\\n \\n michael...  \n",
              "3  observers to monitor uk election\\n \\n minister...  \n",
              "4  kilroy names election seat target\\n \\n exchat ...  "
            ],
            "text/html": [
              "\n",
              "  <div id=\"df-2471cf21-375d-4459-9611-a91285a1b372\" class=\"colab-df-container\">\n",
              "    <div>\n",
              "<style scoped>\n",
              "    .dataframe tbody tr th:only-of-type {\n",
              "        vertical-align: middle;\n",
              "    }\n",
              "\n",
              "    .dataframe tbody tr th {\n",
              "        vertical-align: top;\n",
              "    }\n",
              "\n",
              "    .dataframe thead th {\n",
              "        text-align: right;\n",
              "    }\n",
              "</style>\n",
              "<table border=\"1\" class=\"dataframe\">\n",
              "  <thead>\n",
              "    <tr style=\"text-align: right;\">\n",
              "      <th></th>\n",
              "      <th>headline</th>\n",
              "      <th>category</th>\n",
              "      <th>removed_punctuations</th>\n",
              "    </tr>\n",
              "  </thead>\n",
              "  <tbody>\n",
              "    <tr>\n",
              "      <th>0</th>\n",
              "      <td>Budget to set scene for election\\n \\n Gordon B...</td>\n",
              "      <td>0</td>\n",
              "      <td>budget to set scene for election\\n \\n gordon b...</td>\n",
              "    </tr>\n",
              "    <tr>\n",
              "      <th>1</th>\n",
              "      <td>Army chiefs in regiments decision\\n \\n Militar...</td>\n",
              "      <td>0</td>\n",
              "      <td>army chiefs in regiments decision\\n \\n militar...</td>\n",
              "    </tr>\n",
              "    <tr>\n",
              "      <th>2</th>\n",
              "      <td>Howard denies split over ID cards\\n \\n Michael...</td>\n",
              "      <td>0</td>\n",
              "      <td>howard denies split over id cards\\n \\n michael...</td>\n",
              "    </tr>\n",
              "    <tr>\n",
              "      <th>3</th>\n",
              "      <td>Observers to monitor UK election\\n \\n Minister...</td>\n",
              "      <td>0</td>\n",
              "      <td>observers to monitor uk election\\n \\n minister...</td>\n",
              "    </tr>\n",
              "    <tr>\n",
              "      <th>4</th>\n",
              "      <td>Kilroy names election seat target\\n \\n Ex-chat...</td>\n",
              "      <td>0</td>\n",
              "      <td>kilroy names election seat target\\n \\n exchat ...</td>\n",
              "    </tr>\n",
              "  </tbody>\n",
              "</table>\n",
              "</div>\n",
              "    <div class=\"colab-df-buttons\">\n",
              "\n",
              "  <div class=\"colab-df-container\">\n",
              "    <button class=\"colab-df-convert\" onclick=\"convertToInteractive('df-2471cf21-375d-4459-9611-a91285a1b372')\"\n",
              "            title=\"Convert this dataframe to an interactive table.\"\n",
              "            style=\"display:none;\">\n",
              "\n",
              "  <svg xmlns=\"http://www.w3.org/2000/svg\" height=\"24px\" viewBox=\"0 -960 960 960\">\n",
              "    <path d=\"M120-120v-720h720v720H120Zm60-500h600v-160H180v160Zm220 220h160v-160H400v160Zm0 220h160v-160H400v160ZM180-400h160v-160H180v160Zm440 0h160v-160H620v160ZM180-180h160v-160H180v160Zm440 0h160v-160H620v160Z\"/>\n",
              "  </svg>\n",
              "    </button>\n",
              "\n",
              "  <style>\n",
              "    .colab-df-container {\n",
              "      display:flex;\n",
              "      gap: 12px;\n",
              "    }\n",
              "\n",
              "    .colab-df-convert {\n",
              "      background-color: #E8F0FE;\n",
              "      border: none;\n",
              "      border-radius: 50%;\n",
              "      cursor: pointer;\n",
              "      display: none;\n",
              "      fill: #1967D2;\n",
              "      height: 32px;\n",
              "      padding: 0 0 0 0;\n",
              "      width: 32px;\n",
              "    }\n",
              "\n",
              "    .colab-df-convert:hover {\n",
              "      background-color: #E2EBFA;\n",
              "      box-shadow: 0px 1px 2px rgba(60, 64, 67, 0.3), 0px 1px 3px 1px rgba(60, 64, 67, 0.15);\n",
              "      fill: #174EA6;\n",
              "    }\n",
              "\n",
              "    .colab-df-buttons div {\n",
              "      margin-bottom: 4px;\n",
              "    }\n",
              "\n",
              "    [theme=dark] .colab-df-convert {\n",
              "      background-color: #3B4455;\n",
              "      fill: #D2E3FC;\n",
              "    }\n",
              "\n",
              "    [theme=dark] .colab-df-convert:hover {\n",
              "      background-color: #434B5C;\n",
              "      box-shadow: 0px 1px 3px 1px rgba(0, 0, 0, 0.15);\n",
              "      filter: drop-shadow(0px 1px 2px rgba(0, 0, 0, 0.3));\n",
              "      fill: #FFFFFF;\n",
              "    }\n",
              "  </style>\n",
              "\n",
              "    <script>\n",
              "      const buttonEl =\n",
              "        document.querySelector('#df-2471cf21-375d-4459-9611-a91285a1b372 button.colab-df-convert');\n",
              "      buttonEl.style.display =\n",
              "        google.colab.kernel.accessAllowed ? 'block' : 'none';\n",
              "\n",
              "      async function convertToInteractive(key) {\n",
              "        const element = document.querySelector('#df-2471cf21-375d-4459-9611-a91285a1b372');\n",
              "        const dataTable =\n",
              "          await google.colab.kernel.invokeFunction('convertToInteractive',\n",
              "                                                    [key], {});\n",
              "        if (!dataTable) return;\n",
              "\n",
              "        const docLinkHtml = 'Like what you see? Visit the ' +\n",
              "          '<a target=\"_blank\" href=https://colab.research.google.com/notebooks/data_table.ipynb>data table notebook</a>'\n",
              "          + ' to learn more about interactive tables.';\n",
              "        element.innerHTML = '';\n",
              "        dataTable['output_type'] = 'display_data';\n",
              "        await google.colab.output.renderOutput(dataTable, element);\n",
              "        const docLink = document.createElement('div');\n",
              "        docLink.innerHTML = docLinkHtml;\n",
              "        element.appendChild(docLink);\n",
              "      }\n",
              "    </script>\n",
              "  </div>\n",
              "\n",
              "\n",
              "<div id=\"df-5e2b6d3b-5cc4-44dd-9b7e-8686f5601edc\">\n",
              "  <button class=\"colab-df-quickchart\" onclick=\"quickchart('df-5e2b6d3b-5cc4-44dd-9b7e-8686f5601edc')\"\n",
              "            title=\"Suggest charts\"\n",
              "            style=\"display:none;\">\n",
              "\n",
              "<svg xmlns=\"http://www.w3.org/2000/svg\" height=\"24px\"viewBox=\"0 0 24 24\"\n",
              "     width=\"24px\">\n",
              "    <g>\n",
              "        <path d=\"M19 3H5c-1.1 0-2 .9-2 2v14c0 1.1.9 2 2 2h14c1.1 0 2-.9 2-2V5c0-1.1-.9-2-2-2zM9 17H7v-7h2v7zm4 0h-2V7h2v10zm4 0h-2v-4h2v4z\"/>\n",
              "    </g>\n",
              "</svg>\n",
              "  </button>\n",
              "\n",
              "<style>\n",
              "  .colab-df-quickchart {\n",
              "      --bg-color: #E8F0FE;\n",
              "      --fill-color: #1967D2;\n",
              "      --hover-bg-color: #E2EBFA;\n",
              "      --hover-fill-color: #174EA6;\n",
              "      --disabled-fill-color: #AAA;\n",
              "      --disabled-bg-color: #DDD;\n",
              "  }\n",
              "\n",
              "  [theme=dark] .colab-df-quickchart {\n",
              "      --bg-color: #3B4455;\n",
              "      --fill-color: #D2E3FC;\n",
              "      --hover-bg-color: #434B5C;\n",
              "      --hover-fill-color: #FFFFFF;\n",
              "      --disabled-bg-color: #3B4455;\n",
              "      --disabled-fill-color: #666;\n",
              "  }\n",
              "\n",
              "  .colab-df-quickchart {\n",
              "    background-color: var(--bg-color);\n",
              "    border: none;\n",
              "    border-radius: 50%;\n",
              "    cursor: pointer;\n",
              "    display: none;\n",
              "    fill: var(--fill-color);\n",
              "    height: 32px;\n",
              "    padding: 0;\n",
              "    width: 32px;\n",
              "  }\n",
              "\n",
              "  .colab-df-quickchart:hover {\n",
              "    background-color: var(--hover-bg-color);\n",
              "    box-shadow: 0 1px 2px rgba(60, 64, 67, 0.3), 0 1px 3px 1px rgba(60, 64, 67, 0.15);\n",
              "    fill: var(--button-hover-fill-color);\n",
              "  }\n",
              "\n",
              "  .colab-df-quickchart-complete:disabled,\n",
              "  .colab-df-quickchart-complete:disabled:hover {\n",
              "    background-color: var(--disabled-bg-color);\n",
              "    fill: var(--disabled-fill-color);\n",
              "    box-shadow: none;\n",
              "  }\n",
              "\n",
              "  .colab-df-spinner {\n",
              "    border: 2px solid var(--fill-color);\n",
              "    border-color: transparent;\n",
              "    border-bottom-color: var(--fill-color);\n",
              "    animation:\n",
              "      spin 1s steps(1) infinite;\n",
              "  }\n",
              "\n",
              "  @keyframes spin {\n",
              "    0% {\n",
              "      border-color: transparent;\n",
              "      border-bottom-color: var(--fill-color);\n",
              "      border-left-color: var(--fill-color);\n",
              "    }\n",
              "    20% {\n",
              "      border-color: transparent;\n",
              "      border-left-color: var(--fill-color);\n",
              "      border-top-color: var(--fill-color);\n",
              "    }\n",
              "    30% {\n",
              "      border-color: transparent;\n",
              "      border-left-color: var(--fill-color);\n",
              "      border-top-color: var(--fill-color);\n",
              "      border-right-color: var(--fill-color);\n",
              "    }\n",
              "    40% {\n",
              "      border-color: transparent;\n",
              "      border-right-color: var(--fill-color);\n",
              "      border-top-color: var(--fill-color);\n",
              "    }\n",
              "    60% {\n",
              "      border-color: transparent;\n",
              "      border-right-color: var(--fill-color);\n",
              "    }\n",
              "    80% {\n",
              "      border-color: transparent;\n",
              "      border-right-color: var(--fill-color);\n",
              "      border-bottom-color: var(--fill-color);\n",
              "    }\n",
              "    90% {\n",
              "      border-color: transparent;\n",
              "      border-bottom-color: var(--fill-color);\n",
              "    }\n",
              "  }\n",
              "</style>\n",
              "\n",
              "  <script>\n",
              "    async function quickchart(key) {\n",
              "      const quickchartButtonEl =\n",
              "        document.querySelector('#' + key + ' button');\n",
              "      quickchartButtonEl.disabled = true;  // To prevent multiple clicks.\n",
              "      quickchartButtonEl.classList.add('colab-df-spinner');\n",
              "      try {\n",
              "        const charts = await google.colab.kernel.invokeFunction(\n",
              "            'suggestCharts', [key], {});\n",
              "      } catch (error) {\n",
              "        console.error('Error during call to suggestCharts:', error);\n",
              "      }\n",
              "      quickchartButtonEl.classList.remove('colab-df-spinner');\n",
              "      quickchartButtonEl.classList.add('colab-df-quickchart-complete');\n",
              "    }\n",
              "    (() => {\n",
              "      let quickchartButtonEl =\n",
              "        document.querySelector('#df-5e2b6d3b-5cc4-44dd-9b7e-8686f5601edc button');\n",
              "      quickchartButtonEl.style.display =\n",
              "        google.colab.kernel.accessAllowed ? 'block' : 'none';\n",
              "    })();\n",
              "  </script>\n",
              "</div>\n",
              "    </div>\n",
              "  </div>\n"
            ],
            "application/vnd.google.colaboratory.intrinsic+json": {
              "type": "dataframe",
              "variable_name": "df_clean_text",
              "summary": "{\n  \"name\": \"df_clean_text\",\n  \"rows\": 2225,\n  \"fields\": [\n    {\n      \"column\": \"headline\",\n      \"properties\": {\n        \"dtype\": \"string\",\n        \"num_unique_values\": 2127,\n        \"samples\": [\n          \"Blair congratulates Bush on win\\n \\n Tony Blair has said he looks forward to continuing his strong relationship with George Bush and working with him during his second term as president.\\n \\n Mr Bush's re-election came at a crucial time for a world that was \\\"fractured, divided and uncertain\\\", Mr Blair said. It had to be brought together, he added, saying action was needed on poverty, the Middle East and the conditions on which terrorists prey. Mr Blair said states had to work with the US to fight global terrorism.\\n \\n But there was a need to recognise it would not be defeated by \\\"military might alone but also by demonstrating the strength of our common values\\\" he added. Solving the conflict in the Middle East was the world's single most \\\"pressing political challenge\\\" of the present day, Mr Blair warned. The prime minister also urged Europe and the US to \\\"build anew their alliance\\\".\\n \\n \\\"All of us in positions of leadership, not just President Bush, have a responsibility to rise to this challenge. It is urgent that we do so.\\\" Mr Blair also paid tribute to Democrat John Kerry's campaign, saying he had helped make the presidential election \\\"a true celebration of American democracy\\\". The election of the US president was significant for the world but particularly so for Britain because of its special relationship, he added. Earlier Tory leader Michael Howard sent Mr Bush his \\\"warmest congratulations\\\", saying: \\\"We look to the president to be a unifying force for those all over the world who share our determination to defend freedom.\\\" Liberal Democrat leader Charles Kennedy welcomed the fact there had been a quick conclusion to the election, unlike in 2000.\\n \\n Mr Bush's first task was to \\\"rebuild a sense of domestic purpose\\\" within the US, he said. Mr Kennedy said: \\\"Internationally, it is to be hoped that a second term will see a more sensitive approach to relations with long-standing allies, not least for the global efforts to combat terrorism.\\\" Lib Dem foreign affairs spokesman Menzies Campbell said a win by Mr Kerry would have given Mr Blair the chance of a fresh start, adding it was almost as if there was an \\\"umbilical cord\\\" between Mr Bush and the UK premier.\\n \\n \\\"Europeans must hope that his administration will be much more multilateral in character, and that he will act swiftly to rebuild the Atlantic partnership which is so vital to security. \\\"Iraq will remain an issue of potential division for some time to come.\\\" Even before the result became clear, Mr Blair was being urged to push for action on climate change at his first meeting with whichever candidate won.\\n \\n Liberal Democrat environment spokesman Norman Baker underlined the issue of global warming during a Commons debate on Anglo-American relations on Wednesday. Environment Secretary Margaret Beckett has said the US will act on global warming despite George Bush's refusal to sign up to the Kyoto protocol on carbon emissions. Public opinion would force change, she told BBC news. But Myron Ebell, an adviser on climate change to President Bush, has said there would be no change in the US stance and rejected the threat of climate change. He claimed the US was the only country with independent scientists.\\n\",\n          \"China Aviation seeks rescue deal\\n \\n Scandal-hit jet fuel supplier China Aviation Oil has offered to repay its creditors $220m (\\u00c2\\u00a3117m) of the $550m it lost on trading in oil futures.\\n \\n The firm said it hoped to pay $100m now and another $120m over eight years. With assets of $200m and liabilities totalling $648m, it needs creditors' backing for the offer to avoid going into bankruptcy. The trading scandal is the biggest to hit Singapore since the $1.2bn collapse of Barings Bank in 1995. Chen Jiulin, chief executive of China Aviation Oil (CAO), was arrested by at Changi Airport by Singapore police on 8 December. He was returning from China, where he had headed when CAO announced its trading debacle in late-November. The firm had been betting heavily on a fall in the price of oil during October, but prices rose sharply instead.\\n \\n Among the creditors whose backing CAO needs for its restructuring plan are banking giants such as Barclay's Capital and Sumitomo Mitsui, as well as South Korean firm SK Energy. Of the immediate payment, the firm - China's biggest jet fuel supplier - said it would be paying $30m out of its own resources. The rest would come from its parent company, China Aviation Oil Holding Company in Beijing. The holding company, owned by the Chinese government, holds most of CAO's Singapore-listed shares. It cut its holding from 75% to 60% on 20 October.\\n\",\n          \"Yukos heading back to US courts\\n \\n Russian oil and gas company Yukos is due in a US court on Thursday as it continues to fight for its survival.\\n \\n The firm is in the process of being broken up by Russian authorities in order to pay a $27bn (\\u00c2\\u00a314bn) tax bill. Yukos filed for bankruptcy in the US, hoping to use international business law to halt the forced sale of its key oil production unit, Yuganskneftegas. The unit was however sold for $9.4bn to state oil firm Rosneft but only after the state auction had been disrupted.\\n \\n Yukos lawyers now say the auction violated US bankruptcy law. The company and its main shareholders have vowed to go after any company that buys its assets, using all and every legal means. The company wants damages of $20bn, claiming Yuganskneftegas was sold at less than market value. Judge Letitia Clark will hear different motions, including one from Deutsche Bank to throw out the Chapter 11 bankruptcy filing. The German lender is one of six banks that were barred from providing financing to Gazprom, the Russian state-owned company that was expected to win the auction for Yuganskneftegas. Deutsche Bank, which is also an advisor to Gazprom, has called on the US court to overturn its decision to provide Yukos with bankruptcy protection.\\n \\n Lifting the injunction would remove the uncertainty that surrounds the court case and clarify Deutsche Bank's business position, analysts said.\\n \\n Analysts are not optimistic about Yukos' chances in court. Russian President Vladimir Putin and the country's legal authorities have repeatedly said that the US has no jurisdiction over Yukos and its legal wranglings. On top of that, the firm only has limited assets in the US. Yukos has won small victories, however, and is bullish about its chances in court. \\\"Do we have an ability to influence what happens? We think we do,\\\" said Mike Lake, a Yukos spokesman. \\\"The litigation risks are real,\\\" said Credit Suisse First Boston analyst Vadim Mitroshin The dispute with the Russian authorities is partly driven by President Putin's clampdown on the political ambitions of ex-Yukos boss Mikhail Khodorkovsky. Mr Khodorkovsky is in jail on charges of fraud and tax evasion.\\n\"\n        ],\n        \"semantic_type\": \"\",\n        \"description\": \"\"\n      }\n    },\n    {\n      \"column\": \"category\",\n      \"properties\": {\n        \"dtype\": \"number\",\n        \"std\": 1,\n        \"min\": 0,\n        \"max\": 4,\n        \"num_unique_values\": 5,\n        \"samples\": [\n          1,\n          4,\n          2\n        ],\n        \"semantic_type\": \"\",\n        \"description\": \"\"\n      }\n    },\n    {\n      \"column\": \"removed_punctuations\",\n      \"properties\": {\n        \"dtype\": \"string\",\n        \"num_unique_values\": 2124,\n        \"samples\": [\n          \"debate needed on donations cap\\n \\n a cap on donations to political parties should not be introduced yet the elections watchdog has said\\n \\n fears that big donors can buy political favours have sparked calls for a limit in a new report the electoral commission says it is worth debating a \\u00e2\\u00a310000 cap for the future but now is not the right time to introduce it it also says there should be more state funding for political parties and candidates should be able to spend more on election campaigning\\n \\n there were almost \\u00e2\\u00a368m in reported donations to political parties in 2001 2002 and 2003 with nearly \\u00e2\\u00a312m of them from individual gifts worth more than \\u00e2\\u00a31m the rules have already been changed so the public can see who gives how much to the parties but the report says there are still public suspicions the commission says capping donations would mean taxpayers giving parties more cash  something which would first have to be acceptable to the public and shown to work while we are not in principle opposed to the introduction of a donation cap we do not believe that such a major departure from the existing system now would be sensible says its report if there was to be a cap it should be \\u00e2\\u00a310000  a small enough amount to make a difference but which would have banned \\u00e2\\u00a356m in donations between 2001 and 2003\\n \\n even without changes the commission does urge political parties to seek out more smallscale donations and suggests there should be income tax relief for gifts under \\u00e2\\u00a3200 it also suggests increasing state funding for parties to \\u00e2\\u00a33m so help can be extended to all parties with at least two members in the house of commons european parliament scottish parliament welsh assembly or northern ireland assembly and it suggests new ways of boosting election campaigning seen as a way of improving voter turnout all local election candidates should be entitled to a free mailshot for campaign leaflets says the watchdog and there should be a shift in the amount of money allowed to be spent at elections from a national level to a local level to help politicians engage better with voters\\n \\n the report suggests doubling the money which can be spent by candidates while cutting national spending limits from \\u00e2\\u00a320m to \\u00e2\\u00a315m the commission also says the spending limits for general elections should cover the four months before the poll  as happens with other elections electoral commission chairman sam younger said there is no doubt that political parties have a vital role to play in maintaining the health of our democracy and for this they need to be adequately resourced our research has shown that people want to be more informed about party politics and that they want politicians to be more visible and accessible the public are reluctant for the state to fund parties but at the same time are unhappy with large private donations he called for a wider public debate on party funding to find the consensus needed for radical changes to the current system\\n\",\n          \"putin backs state grab for yukos\\n \\n russias president has defended the purchase of yukos key production unit by stateowned oil firm rosneft saying it followed free market principles\\n \\n vladimir putin said it was quite within the rights of a stateowned company to ensure its interests were met rosneft bought 100 of baikal finance group in a move that amounts to the renationalisation of a major chunk of russias booming oil industry rosneft will now control about 16 of russias total crude oil output yukos share jumped in moscow climbing as much as 50 before being suspended\\n \\n rosneft is already in the process of merging with gazprom the worlds biggest gas company a move that will see gazprom return to majority stateownership\\n \\n baikal was the surprise buyer of oil and gas giant yukoss main production division at a forced auction on sunday everything was done by market methods mr putin said at his yearend press conference in moscow shedding some light on the kremlins motivation mr putin referred to a period of socalled cowboy capitalism that followed the collapse of the soviet union\\n \\n he said privatisations carried out in the early 1990s had involved trickery including law breaking by people seeking to acquire valuable state property now the state using market methods is safeguarding its interests i think this is quite normal the russian president said a rosneft spokesman has said the acquisition is part of its plan to build a balanced national energy corporation\\n \\n the latest announcement comes after more than a year of wrangling that has pushed yukos one of russias biggest companies to the brink of collapse the russian government put yukoss yuganskneftegas subsidiary up for sale last week after hitting the company with a 27bn \\u00e2\\u00a314bn bill for back taxes and fines\\n \\n analysts say that yukoss legal attempts to block the auction by filing for bankruptcy protection in the us are probably what caused this weeks cloakanddagger dealings gazprom the company originally tipped to buy yuganskneftegas was banned from taking part in the auction by a us court injunction by selling the yukos unit to littleknown baikal and then to rosneft russia is able to circumvent a host of tricky legal landmines analysts said you cannot sue the russian government said eric kraus a strategist at moscows sovlink securities the russian government has sovereign immunity the government is renationalising yuganskneftegas\\n \\n even so analysts reckon that the saga still has a long way to go the rosneft announcement came just hours after yukos accused gazprom of illegally taking part in sundays auction it has said it will be seeking damages of 20bn the claim was made at the latest hearing in the us bankruptcy court in houston texas where yukos had filed for chapter 11 bankruptcy protection if found in contempt of the us court order blocking the auction gazprom could face having foreign assets seized yukos lawyers had also been expected to try to have baikals assets frozen lawyers claimed the auction was illegal because yukos  with an office in houston  had filed for bankruptcy and therefore its assets were under the protection of us law which has worldwide jurisdiction further muddying the waters is a merger between rosneft and gazprom which authorities have said will go ahead as planned\\n\",\n          \"honda wins china copyright ruling\\n \\n japans honda has won a copyright case in beijing further evidence that china is taking a tougher line on protecting intellectual property rights\\n \\n a court ruled that chongqing lifan industry group must stop selling honda brand motorbikes and said it must pay 147m yuan 177600 in compensation internationally recognized regulation is now a key part of chinas plans for developing its economy analysts said beijing also has been threatened with sanctions if it fails to clamp down\\n \\n chinese firms copy products ranging from computer software and spark plugs to baby milk and compact discs despite the fact that product piracy is a major problem foreign companies have only occasionally won cases and the compensation awarded has usually been small still recent rulings and announcements will have boosted optimism that attitudes are changing earlier this week china said that in future it will punish violators of intellectual property rights with up to seven years in jail and on tuesday paws incorporated  the owner of the rights to garfield the cat  won a court battle against a publishing house that violated its copyright other firms that have taken legal action in china with varying degrees of success include yamaha general motors and toyota\\n \\n the problem of piracy is not limited to china however and the potential for profit is huge the european union estimates that the global trade in pirated wares is worth more than 200bn euros a year \\u00e2\\u00a3140bn 258bn or about 5 of total world trade and it is growing between 1998 and 2002 the number of counterfeit or pirated goods intercepted at the eus external borders increased by more than 800 it said last month the eu said it will start monitoring china ukraine and russia to ensure they are going after pirated goods other countries on the eus hit list include thailand brazil south korea and indonesia any countries that are not making enough of an effort could be dragged to the world trade organisation wto a step that could trigger economic sanctions the eu warned\\n\"\n        ],\n        \"semantic_type\": \"\",\n        \"description\": \"\"\n      }\n    }\n  ]\n}"
            }
          },
          "metadata": {},
          "execution_count": 24
        }
      ],
      "source": [
        "def remove_punctuation(text):\n",
        "    return ''.join([ch for ch in text.lower() if ch not in st.punctuation])\n",
        "\n",
        "df_clean_text['removed_punctuations'] = df_clean_text['headline'].progress_apply(lambda x: remove_punctuation(x))\n",
        "df_clean_text.head()"
      ]
    },
    {
      "cell_type": "code",
      "execution_count": null,
      "metadata": {
        "colab": {
          "base_uri": "https://localhost:8080/",
          "height": 49,
          "referenced_widgets": [
            "fc647a9e6a8d470faf903c469d4820ed",
            "703786ecc278463394f09f920f08e1d2",
            "85ff740ea9ad451bb0c3cad2741d5fd0",
            "c4efd325f13b4ade96b5f4b3fe405c1d",
            "4d1805ce242345a2b262d324a134f806",
            "3ed2c0cea5a84afa915e87a6aa75ab0b",
            "4529883bcfab484187c664cc1a98724d",
            "9709700154304e5abcb3a9b5b4e3470f",
            "678516a00a5448e693f784f3cb0b6309",
            "b32f9dbac7c1443a9893258ce1f3d110",
            "3a0f85d895a14211870df934e89099c9"
          ]
        },
        "id": "umFEsIirYPsQ",
        "outputId": "17b9663e-871f-4710-e46f-b2a620adaf2d"
      },
      "outputs": [
        {
          "output_type": "display_data",
          "data": {
            "text/plain": [
              "  0%|          | 0/2225 [00:00<?, ?it/s]"
            ],
            "application/vnd.jupyter.widget-view+json": {
              "version_major": 2,
              "version_minor": 0,
              "model_id": "fc647a9e6a8d470faf903c469d4820ed"
            }
          },
          "metadata": {}
        }
      ],
      "source": [
        "df_clean_text['tokens'] = df_clean_text['removed_punctuations'].progress_apply(lambda x : word_tokenize(x.lower()))"
      ]
    },
    {
      "cell_type": "code",
      "execution_count": null,
      "metadata": {
        "colab": {
          "base_uri": "https://localhost:8080/",
          "height": 49,
          "referenced_widgets": [
            "da15403e179046c09e467efbd2fcb2ba",
            "6d9b2a0c691346c5acbedaef5c73d771",
            "6fb50ac45f884c91ba0a4424f3c5e72b",
            "6d5d0938e07140a780a5a318415efb74",
            "9ffa1f2ff9e34385873bcd6791a65616",
            "25c167263a3949f78a8d41f82ae77d23",
            "19c3e1933dfe49aeae5b0ced591a1ce7",
            "d1c31a1855f8413bad91b78f0959e41a",
            "cb781cbfb2f4424ba89d0d56944b54a6",
            "4d9b73de86fd4807ba8545d8f58e11ac",
            "6f32464a478e4b83955cbd109b1155f2"
          ]
        },
        "id": "oYi7GmMaWg4M",
        "outputId": "a0248911-3c72-420a-d522-b6416f009c9d"
      },
      "outputs": [
        {
          "output_type": "display_data",
          "data": {
            "text/plain": [
              "  0%|          | 0/2225 [00:00<?, ?it/s]"
            ],
            "application/vnd.jupyter.widget-view+json": {
              "version_major": 2,
              "version_minor": 0,
              "model_id": "da15403e179046c09e467efbd2fcb2ba"
            }
          },
          "metadata": {}
        }
      ],
      "source": [
        "def remove_stop_words(text):\n",
        "  stopwords = set(nltk.corpus.stopwords.words('english'))\n",
        "  return [word for word in text if not word in stopwords]\n",
        "\n",
        "df_clean_text['removed_stop_words'] = df_clean_text['tokens'].progress_apply(lambda x: remove_stop_words(x))"
      ]
    },
    {
      "cell_type": "code",
      "execution_count": null,
      "metadata": {
        "colab": {
          "base_uri": "https://localhost:8080/",
          "height": 49,
          "referenced_widgets": [
            "32d28150cc044c66b9ed4157aa1f0de3",
            "0291fa3d01634f0e88cd33d5d6cb6d0b",
            "00f6ea845dc54312bc8066cfeeb82047",
            "bcb0ed36c6a6417da45095af1dfe42af",
            "cbbbb78cb9a748caa315427d999c63a1",
            "e0b36e158b73489d92aeadcf73b32a1c",
            "dd7f07fa1ec54f67aa968fffc0489f4c",
            "9df1caa8c68a45a0aee1df7f04024635",
            "bc819329db10451ebbb3fcbb1bb641f7",
            "6f3e9378456d4256853734d356da8020",
            "aad6f18d6a044154a97565fdcddca4b2"
          ]
        },
        "id": "sStuMC-8X_O4",
        "outputId": "c810299f-bb15-4d8b-a94e-6b61868370e1"
      },
      "outputs": [
        {
          "output_type": "display_data",
          "data": {
            "text/plain": [
              "  0%|          | 0/2225 [00:00<?, ?it/s]"
            ],
            "application/vnd.jupyter.widget-view+json": {
              "version_major": 2,
              "version_minor": 0,
              "model_id": "32d28150cc044c66b9ed4157aa1f0de3"
            }
          },
          "metadata": {}
        }
      ],
      "source": [
        "def lemmatize(text):\n",
        "  word_net = WordNetLemmatizer()\n",
        "  return [word_net.lemmatize(word) for word in text]\n",
        "\n",
        "df_clean_text['lemmatized_words'] = df_clean_text['removed_stop_words'].progress_apply(lambda x: lemmatize(x))"
      ]
    },
    {
      "cell_type": "code",
      "execution_count": null,
      "metadata": {
        "colab": {
          "base_uri": "https://localhost:8080/",
          "height": 238,
          "referenced_widgets": [
            "4fe688c6022e4a31a9cd5fd10ee536a8",
            "1532514d39684cf0a2abba87412faaf6",
            "8abad63f35e646ec9d338b59f8d541e9",
            "6aa6b65ca6ab46299944bad3f2cd0efc",
            "9190cd6fa6a54ffcad2411a5d6c1aac9",
            "d67b40d7d4994e97b82278d99024c5e6",
            "c1c0064301e949c69dda974803a91a00",
            "f505fa27f6c24b6a944e9fc0892d7c9e",
            "2ff931e51d764611b970b928fafedfea",
            "e286f921cb674f9a8802020c5baa3181",
            "5eea1cf7e6564ad69944a5f3a4c713f9"
          ]
        },
        "id": "M9epXFiSaNj-",
        "outputId": "d08fe86c-0824-40f2-dc6d-f6de1f0a2f22"
      },
      "outputs": [
        {
          "output_type": "display_data",
          "data": {
            "text/plain": [
              "  0%|          | 0/2225 [00:00<?, ?it/s]"
            ],
            "application/vnd.jupyter.widget-view+json": {
              "version_major": 2,
              "version_minor": 0,
              "model_id": "4fe688c6022e4a31a9cd5fd10ee536a8"
            }
          },
          "metadata": {}
        },
        {
          "output_type": "execute_result",
          "data": {
            "text/plain": [
              "                                            headline  category  \\\n",
              "0  Budget to set scene for election\\n \\n Gordon B...         0   \n",
              "1  Army chiefs in regiments decision\\n \\n Militar...         0   \n",
              "2  Howard denies split over ID cards\\n \\n Michael...         0   \n",
              "3  Observers to monitor UK election\\n \\n Minister...         0   \n",
              "4  Kilroy names election seat target\\n \\n Ex-chat...         0   \n",
              "\n",
              "                                removed_punctuations  \\\n",
              "0  budget to set scene for election\\n \\n gordon b...   \n",
              "1  army chiefs in regiments decision\\n \\n militar...   \n",
              "2  howard denies split over id cards\\n \\n michael...   \n",
              "3  observers to monitor uk election\\n \\n minister...   \n",
              "4  kilroy names election seat target\\n \\n exchat ...   \n",
              "\n",
              "                                              tokens  \\\n",
              "0  [budget, to, set, scene, for, election, gordon...   \n",
              "1  [army, chiefs, in, regiments, decision, milita...   \n",
              "2  [howard, denies, split, over, id, cards, micha...   \n",
              "3  [observers, to, monitor, uk, election, ministe...   \n",
              "4  [kilroy, names, election, seat, target, exchat...   \n",
              "\n",
              "                                  removed_stop_words  \\\n",
              "0  [budget, set, scene, election, gordon, brown, ...   \n",
              "1  [army, chiefs, regiments, decision, military, ...   \n",
              "2  [howard, denies, split, id, cards, michael, ho...   \n",
              "3  [observers, monitor, uk, election, ministers, ...   \n",
              "4  [kilroy, names, election, seat, target, exchat...   \n",
              "\n",
              "                                    lemmatized_words  \\\n",
              "0  [budget, set, scene, election, gordon, brown, ...   \n",
              "1  [army, chief, regiment, decision, military, ch...   \n",
              "2  [howard, denies, split, id, card, michael, how...   \n",
              "3  [observer, monitor, uk, election, minister, in...   \n",
              "4  [kilroy, name, election, seat, target, exchat,...   \n",
              "\n",
              "                                          clean_text  \n",
              "0  budget set scene election gordon brown seek pu...  \n",
              "1  army chief regiment decision military chief ex...  \n",
              "2  howard denies split id card michael howard den...  \n",
              "3  observer monitor uk election minister invite i...  \n",
              "4  kilroy name election seat target exchat show h...  "
            ],
            "text/html": [
              "\n",
              "  <div id=\"df-fddc8933-05c3-44cd-be63-172b8031e452\" class=\"colab-df-container\">\n",
              "    <div>\n",
              "<style scoped>\n",
              "    .dataframe tbody tr th:only-of-type {\n",
              "        vertical-align: middle;\n",
              "    }\n",
              "\n",
              "    .dataframe tbody tr th {\n",
              "        vertical-align: top;\n",
              "    }\n",
              "\n",
              "    .dataframe thead th {\n",
              "        text-align: right;\n",
              "    }\n",
              "</style>\n",
              "<table border=\"1\" class=\"dataframe\">\n",
              "  <thead>\n",
              "    <tr style=\"text-align: right;\">\n",
              "      <th></th>\n",
              "      <th>headline</th>\n",
              "      <th>category</th>\n",
              "      <th>removed_punctuations</th>\n",
              "      <th>tokens</th>\n",
              "      <th>removed_stop_words</th>\n",
              "      <th>lemmatized_words</th>\n",
              "      <th>clean_text</th>\n",
              "    </tr>\n",
              "  </thead>\n",
              "  <tbody>\n",
              "    <tr>\n",
              "      <th>0</th>\n",
              "      <td>Budget to set scene for election\\n \\n Gordon B...</td>\n",
              "      <td>0</td>\n",
              "      <td>budget to set scene for election\\n \\n gordon b...</td>\n",
              "      <td>[budget, to, set, scene, for, election, gordon...</td>\n",
              "      <td>[budget, set, scene, election, gordon, brown, ...</td>\n",
              "      <td>[budget, set, scene, election, gordon, brown, ...</td>\n",
              "      <td>budget set scene election gordon brown seek pu...</td>\n",
              "    </tr>\n",
              "    <tr>\n",
              "      <th>1</th>\n",
              "      <td>Army chiefs in regiments decision\\n \\n Militar...</td>\n",
              "      <td>0</td>\n",
              "      <td>army chiefs in regiments decision\\n \\n militar...</td>\n",
              "      <td>[army, chiefs, in, regiments, decision, milita...</td>\n",
              "      <td>[army, chiefs, regiments, decision, military, ...</td>\n",
              "      <td>[army, chief, regiment, decision, military, ch...</td>\n",
              "      <td>army chief regiment decision military chief ex...</td>\n",
              "    </tr>\n",
              "    <tr>\n",
              "      <th>2</th>\n",
              "      <td>Howard denies split over ID cards\\n \\n Michael...</td>\n",
              "      <td>0</td>\n",
              "      <td>howard denies split over id cards\\n \\n michael...</td>\n",
              "      <td>[howard, denies, split, over, id, cards, micha...</td>\n",
              "      <td>[howard, denies, split, id, cards, michael, ho...</td>\n",
              "      <td>[howard, denies, split, id, card, michael, how...</td>\n",
              "      <td>howard denies split id card michael howard den...</td>\n",
              "    </tr>\n",
              "    <tr>\n",
              "      <th>3</th>\n",
              "      <td>Observers to monitor UK election\\n \\n Minister...</td>\n",
              "      <td>0</td>\n",
              "      <td>observers to monitor uk election\\n \\n minister...</td>\n",
              "      <td>[observers, to, monitor, uk, election, ministe...</td>\n",
              "      <td>[observers, monitor, uk, election, ministers, ...</td>\n",
              "      <td>[observer, monitor, uk, election, minister, in...</td>\n",
              "      <td>observer monitor uk election minister invite i...</td>\n",
              "    </tr>\n",
              "    <tr>\n",
              "      <th>4</th>\n",
              "      <td>Kilroy names election seat target\\n \\n Ex-chat...</td>\n",
              "      <td>0</td>\n",
              "      <td>kilroy names election seat target\\n \\n exchat ...</td>\n",
              "      <td>[kilroy, names, election, seat, target, exchat...</td>\n",
              "      <td>[kilroy, names, election, seat, target, exchat...</td>\n",
              "      <td>[kilroy, name, election, seat, target, exchat,...</td>\n",
              "      <td>kilroy name election seat target exchat show h...</td>\n",
              "    </tr>\n",
              "  </tbody>\n",
              "</table>\n",
              "</div>\n",
              "    <div class=\"colab-df-buttons\">\n",
              "\n",
              "  <div class=\"colab-df-container\">\n",
              "    <button class=\"colab-df-convert\" onclick=\"convertToInteractive('df-fddc8933-05c3-44cd-be63-172b8031e452')\"\n",
              "            title=\"Convert this dataframe to an interactive table.\"\n",
              "            style=\"display:none;\">\n",
              "\n",
              "  <svg xmlns=\"http://www.w3.org/2000/svg\" height=\"24px\" viewBox=\"0 -960 960 960\">\n",
              "    <path d=\"M120-120v-720h720v720H120Zm60-500h600v-160H180v160Zm220 220h160v-160H400v160Zm0 220h160v-160H400v160ZM180-400h160v-160H180v160Zm440 0h160v-160H620v160ZM180-180h160v-160H180v160Zm440 0h160v-160H620v160Z\"/>\n",
              "  </svg>\n",
              "    </button>\n",
              "\n",
              "  <style>\n",
              "    .colab-df-container {\n",
              "      display:flex;\n",
              "      gap: 12px;\n",
              "    }\n",
              "\n",
              "    .colab-df-convert {\n",
              "      background-color: #E8F0FE;\n",
              "      border: none;\n",
              "      border-radius: 50%;\n",
              "      cursor: pointer;\n",
              "      display: none;\n",
              "      fill: #1967D2;\n",
              "      height: 32px;\n",
              "      padding: 0 0 0 0;\n",
              "      width: 32px;\n",
              "    }\n",
              "\n",
              "    .colab-df-convert:hover {\n",
              "      background-color: #E2EBFA;\n",
              "      box-shadow: 0px 1px 2px rgba(60, 64, 67, 0.3), 0px 1px 3px 1px rgba(60, 64, 67, 0.15);\n",
              "      fill: #174EA6;\n",
              "    }\n",
              "\n",
              "    .colab-df-buttons div {\n",
              "      margin-bottom: 4px;\n",
              "    }\n",
              "\n",
              "    [theme=dark] .colab-df-convert {\n",
              "      background-color: #3B4455;\n",
              "      fill: #D2E3FC;\n",
              "    }\n",
              "\n",
              "    [theme=dark] .colab-df-convert:hover {\n",
              "      background-color: #434B5C;\n",
              "      box-shadow: 0px 1px 3px 1px rgba(0, 0, 0, 0.15);\n",
              "      filter: drop-shadow(0px 1px 2px rgba(0, 0, 0, 0.3));\n",
              "      fill: #FFFFFF;\n",
              "    }\n",
              "  </style>\n",
              "\n",
              "    <script>\n",
              "      const buttonEl =\n",
              "        document.querySelector('#df-fddc8933-05c3-44cd-be63-172b8031e452 button.colab-df-convert');\n",
              "      buttonEl.style.display =\n",
              "        google.colab.kernel.accessAllowed ? 'block' : 'none';\n",
              "\n",
              "      async function convertToInteractive(key) {\n",
              "        const element = document.querySelector('#df-fddc8933-05c3-44cd-be63-172b8031e452');\n",
              "        const dataTable =\n",
              "          await google.colab.kernel.invokeFunction('convertToInteractive',\n",
              "                                                    [key], {});\n",
              "        if (!dataTable) return;\n",
              "\n",
              "        const docLinkHtml = 'Like what you see? Visit the ' +\n",
              "          '<a target=\"_blank\" href=https://colab.research.google.com/notebooks/data_table.ipynb>data table notebook</a>'\n",
              "          + ' to learn more about interactive tables.';\n",
              "        element.innerHTML = '';\n",
              "        dataTable['output_type'] = 'display_data';\n",
              "        await google.colab.output.renderOutput(dataTable, element);\n",
              "        const docLink = document.createElement('div');\n",
              "        docLink.innerHTML = docLinkHtml;\n",
              "        element.appendChild(docLink);\n",
              "      }\n",
              "    </script>\n",
              "  </div>\n",
              "\n",
              "\n",
              "<div id=\"df-3d3d0705-fc50-4070-8da4-cc46d1b5a5c9\">\n",
              "  <button class=\"colab-df-quickchart\" onclick=\"quickchart('df-3d3d0705-fc50-4070-8da4-cc46d1b5a5c9')\"\n",
              "            title=\"Suggest charts\"\n",
              "            style=\"display:none;\">\n",
              "\n",
              "<svg xmlns=\"http://www.w3.org/2000/svg\" height=\"24px\"viewBox=\"0 0 24 24\"\n",
              "     width=\"24px\">\n",
              "    <g>\n",
              "        <path d=\"M19 3H5c-1.1 0-2 .9-2 2v14c0 1.1.9 2 2 2h14c1.1 0 2-.9 2-2V5c0-1.1-.9-2-2-2zM9 17H7v-7h2v7zm4 0h-2V7h2v10zm4 0h-2v-4h2v4z\"/>\n",
              "    </g>\n",
              "</svg>\n",
              "  </button>\n",
              "\n",
              "<style>\n",
              "  .colab-df-quickchart {\n",
              "      --bg-color: #E8F0FE;\n",
              "      --fill-color: #1967D2;\n",
              "      --hover-bg-color: #E2EBFA;\n",
              "      --hover-fill-color: #174EA6;\n",
              "      --disabled-fill-color: #AAA;\n",
              "      --disabled-bg-color: #DDD;\n",
              "  }\n",
              "\n",
              "  [theme=dark] .colab-df-quickchart {\n",
              "      --bg-color: #3B4455;\n",
              "      --fill-color: #D2E3FC;\n",
              "      --hover-bg-color: #434B5C;\n",
              "      --hover-fill-color: #FFFFFF;\n",
              "      --disabled-bg-color: #3B4455;\n",
              "      --disabled-fill-color: #666;\n",
              "  }\n",
              "\n",
              "  .colab-df-quickchart {\n",
              "    background-color: var(--bg-color);\n",
              "    border: none;\n",
              "    border-radius: 50%;\n",
              "    cursor: pointer;\n",
              "    display: none;\n",
              "    fill: var(--fill-color);\n",
              "    height: 32px;\n",
              "    padding: 0;\n",
              "    width: 32px;\n",
              "  }\n",
              "\n",
              "  .colab-df-quickchart:hover {\n",
              "    background-color: var(--hover-bg-color);\n",
              "    box-shadow: 0 1px 2px rgba(60, 64, 67, 0.3), 0 1px 3px 1px rgba(60, 64, 67, 0.15);\n",
              "    fill: var(--button-hover-fill-color);\n",
              "  }\n",
              "\n",
              "  .colab-df-quickchart-complete:disabled,\n",
              "  .colab-df-quickchart-complete:disabled:hover {\n",
              "    background-color: var(--disabled-bg-color);\n",
              "    fill: var(--disabled-fill-color);\n",
              "    box-shadow: none;\n",
              "  }\n",
              "\n",
              "  .colab-df-spinner {\n",
              "    border: 2px solid var(--fill-color);\n",
              "    border-color: transparent;\n",
              "    border-bottom-color: var(--fill-color);\n",
              "    animation:\n",
              "      spin 1s steps(1) infinite;\n",
              "  }\n",
              "\n",
              "  @keyframes spin {\n",
              "    0% {\n",
              "      border-color: transparent;\n",
              "      border-bottom-color: var(--fill-color);\n",
              "      border-left-color: var(--fill-color);\n",
              "    }\n",
              "    20% {\n",
              "      border-color: transparent;\n",
              "      border-left-color: var(--fill-color);\n",
              "      border-top-color: var(--fill-color);\n",
              "    }\n",
              "    30% {\n",
              "      border-color: transparent;\n",
              "      border-left-color: var(--fill-color);\n",
              "      border-top-color: var(--fill-color);\n",
              "      border-right-color: var(--fill-color);\n",
              "    }\n",
              "    40% {\n",
              "      border-color: transparent;\n",
              "      border-right-color: var(--fill-color);\n",
              "      border-top-color: var(--fill-color);\n",
              "    }\n",
              "    60% {\n",
              "      border-color: transparent;\n",
              "      border-right-color: var(--fill-color);\n",
              "    }\n",
              "    80% {\n",
              "      border-color: transparent;\n",
              "      border-right-color: var(--fill-color);\n",
              "      border-bottom-color: var(--fill-color);\n",
              "    }\n",
              "    90% {\n",
              "      border-color: transparent;\n",
              "      border-bottom-color: var(--fill-color);\n",
              "    }\n",
              "  }\n",
              "</style>\n",
              "\n",
              "  <script>\n",
              "    async function quickchart(key) {\n",
              "      const quickchartButtonEl =\n",
              "        document.querySelector('#' + key + ' button');\n",
              "      quickchartButtonEl.disabled = true;  // To prevent multiple clicks.\n",
              "      quickchartButtonEl.classList.add('colab-df-spinner');\n",
              "      try {\n",
              "        const charts = await google.colab.kernel.invokeFunction(\n",
              "            'suggestCharts', [key], {});\n",
              "      } catch (error) {\n",
              "        console.error('Error during call to suggestCharts:', error);\n",
              "      }\n",
              "      quickchartButtonEl.classList.remove('colab-df-spinner');\n",
              "      quickchartButtonEl.classList.add('colab-df-quickchart-complete');\n",
              "    }\n",
              "    (() => {\n",
              "      let quickchartButtonEl =\n",
              "        document.querySelector('#df-3d3d0705-fc50-4070-8da4-cc46d1b5a5c9 button');\n",
              "      quickchartButtonEl.style.display =\n",
              "        google.colab.kernel.accessAllowed ? 'block' : 'none';\n",
              "    })();\n",
              "  </script>\n",
              "</div>\n",
              "    </div>\n",
              "  </div>\n"
            ],
            "application/vnd.google.colaboratory.intrinsic+json": {
              "type": "dataframe",
              "variable_name": "df_clean_text",
              "summary": "{\n  \"name\": \"df_clean_text\",\n  \"rows\": 2225,\n  \"fields\": [\n    {\n      \"column\": \"headline\",\n      \"properties\": {\n        \"dtype\": \"string\",\n        \"num_unique_values\": 2127,\n        \"samples\": [\n          \"Blair congratulates Bush on win\\n \\n Tony Blair has said he looks forward to continuing his strong relationship with George Bush and working with him during his second term as president.\\n \\n Mr Bush's re-election came at a crucial time for a world that was \\\"fractured, divided and uncertain\\\", Mr Blair said. It had to be brought together, he added, saying action was needed on poverty, the Middle East and the conditions on which terrorists prey. Mr Blair said states had to work with the US to fight global terrorism.\\n \\n But there was a need to recognise it would not be defeated by \\\"military might alone but also by demonstrating the strength of our common values\\\" he added. Solving the conflict in the Middle East was the world's single most \\\"pressing political challenge\\\" of the present day, Mr Blair warned. The prime minister also urged Europe and the US to \\\"build anew their alliance\\\".\\n \\n \\\"All of us in positions of leadership, not just President Bush, have a responsibility to rise to this challenge. It is urgent that we do so.\\\" Mr Blair also paid tribute to Democrat John Kerry's campaign, saying he had helped make the presidential election \\\"a true celebration of American democracy\\\". The election of the US president was significant for the world but particularly so for Britain because of its special relationship, he added. Earlier Tory leader Michael Howard sent Mr Bush his \\\"warmest congratulations\\\", saying: \\\"We look to the president to be a unifying force for those all over the world who share our determination to defend freedom.\\\" Liberal Democrat leader Charles Kennedy welcomed the fact there had been a quick conclusion to the election, unlike in 2000.\\n \\n Mr Bush's first task was to \\\"rebuild a sense of domestic purpose\\\" within the US, he said. Mr Kennedy said: \\\"Internationally, it is to be hoped that a second term will see a more sensitive approach to relations with long-standing allies, not least for the global efforts to combat terrorism.\\\" Lib Dem foreign affairs spokesman Menzies Campbell said a win by Mr Kerry would have given Mr Blair the chance of a fresh start, adding it was almost as if there was an \\\"umbilical cord\\\" between Mr Bush and the UK premier.\\n \\n \\\"Europeans must hope that his administration will be much more multilateral in character, and that he will act swiftly to rebuild the Atlantic partnership which is so vital to security. \\\"Iraq will remain an issue of potential division for some time to come.\\\" Even before the result became clear, Mr Blair was being urged to push for action on climate change at his first meeting with whichever candidate won.\\n \\n Liberal Democrat environment spokesman Norman Baker underlined the issue of global warming during a Commons debate on Anglo-American relations on Wednesday. Environment Secretary Margaret Beckett has said the US will act on global warming despite George Bush's refusal to sign up to the Kyoto protocol on carbon emissions. Public opinion would force change, she told BBC news. But Myron Ebell, an adviser on climate change to President Bush, has said there would be no change in the US stance and rejected the threat of climate change. He claimed the US was the only country with independent scientists.\\n\",\n          \"China Aviation seeks rescue deal\\n \\n Scandal-hit jet fuel supplier China Aviation Oil has offered to repay its creditors $220m (\\u00c2\\u00a3117m) of the $550m it lost on trading in oil futures.\\n \\n The firm said it hoped to pay $100m now and another $120m over eight years. With assets of $200m and liabilities totalling $648m, it needs creditors' backing for the offer to avoid going into bankruptcy. The trading scandal is the biggest to hit Singapore since the $1.2bn collapse of Barings Bank in 1995. Chen Jiulin, chief executive of China Aviation Oil (CAO), was arrested by at Changi Airport by Singapore police on 8 December. He was returning from China, where he had headed when CAO announced its trading debacle in late-November. The firm had been betting heavily on a fall in the price of oil during October, but prices rose sharply instead.\\n \\n Among the creditors whose backing CAO needs for its restructuring plan are banking giants such as Barclay's Capital and Sumitomo Mitsui, as well as South Korean firm SK Energy. Of the immediate payment, the firm - China's biggest jet fuel supplier - said it would be paying $30m out of its own resources. The rest would come from its parent company, China Aviation Oil Holding Company in Beijing. The holding company, owned by the Chinese government, holds most of CAO's Singapore-listed shares. It cut its holding from 75% to 60% on 20 October.\\n\",\n          \"Yukos heading back to US courts\\n \\n Russian oil and gas company Yukos is due in a US court on Thursday as it continues to fight for its survival.\\n \\n The firm is in the process of being broken up by Russian authorities in order to pay a $27bn (\\u00c2\\u00a314bn) tax bill. Yukos filed for bankruptcy in the US, hoping to use international business law to halt the forced sale of its key oil production unit, Yuganskneftegas. The unit was however sold for $9.4bn to state oil firm Rosneft but only after the state auction had been disrupted.\\n \\n Yukos lawyers now say the auction violated US bankruptcy law. The company and its main shareholders have vowed to go after any company that buys its assets, using all and every legal means. The company wants damages of $20bn, claiming Yuganskneftegas was sold at less than market value. Judge Letitia Clark will hear different motions, including one from Deutsche Bank to throw out the Chapter 11 bankruptcy filing. The German lender is one of six banks that were barred from providing financing to Gazprom, the Russian state-owned company that was expected to win the auction for Yuganskneftegas. Deutsche Bank, which is also an advisor to Gazprom, has called on the US court to overturn its decision to provide Yukos with bankruptcy protection.\\n \\n Lifting the injunction would remove the uncertainty that surrounds the court case and clarify Deutsche Bank's business position, analysts said.\\n \\n Analysts are not optimistic about Yukos' chances in court. Russian President Vladimir Putin and the country's legal authorities have repeatedly said that the US has no jurisdiction over Yukos and its legal wranglings. On top of that, the firm only has limited assets in the US. Yukos has won small victories, however, and is bullish about its chances in court. \\\"Do we have an ability to influence what happens? We think we do,\\\" said Mike Lake, a Yukos spokesman. \\\"The litigation risks are real,\\\" said Credit Suisse First Boston analyst Vadim Mitroshin The dispute with the Russian authorities is partly driven by President Putin's clampdown on the political ambitions of ex-Yukos boss Mikhail Khodorkovsky. Mr Khodorkovsky is in jail on charges of fraud and tax evasion.\\n\"\n        ],\n        \"semantic_type\": \"\",\n        \"description\": \"\"\n      }\n    },\n    {\n      \"column\": \"category\",\n      \"properties\": {\n        \"dtype\": \"number\",\n        \"std\": 1,\n        \"min\": 0,\n        \"max\": 4,\n        \"num_unique_values\": 5,\n        \"samples\": [\n          1,\n          4,\n          2\n        ],\n        \"semantic_type\": \"\",\n        \"description\": \"\"\n      }\n    },\n    {\n      \"column\": \"removed_punctuations\",\n      \"properties\": {\n        \"dtype\": \"string\",\n        \"num_unique_values\": 2124,\n        \"samples\": [\n          \"debate needed on donations cap\\n \\n a cap on donations to political parties should not be introduced yet the elections watchdog has said\\n \\n fears that big donors can buy political favours have sparked calls for a limit in a new report the electoral commission says it is worth debating a \\u00e2\\u00a310000 cap for the future but now is not the right time to introduce it it also says there should be more state funding for political parties and candidates should be able to spend more on election campaigning\\n \\n there were almost \\u00e2\\u00a368m in reported donations to political parties in 2001 2002 and 2003 with nearly \\u00e2\\u00a312m of them from individual gifts worth more than \\u00e2\\u00a31m the rules have already been changed so the public can see who gives how much to the parties but the report says there are still public suspicions the commission says capping donations would mean taxpayers giving parties more cash  something which would first have to be acceptable to the public and shown to work while we are not in principle opposed to the introduction of a donation cap we do not believe that such a major departure from the existing system now would be sensible says its report if there was to be a cap it should be \\u00e2\\u00a310000  a small enough amount to make a difference but which would have banned \\u00e2\\u00a356m in donations between 2001 and 2003\\n \\n even without changes the commission does urge political parties to seek out more smallscale donations and suggests there should be income tax relief for gifts under \\u00e2\\u00a3200 it also suggests increasing state funding for parties to \\u00e2\\u00a33m so help can be extended to all parties with at least two members in the house of commons european parliament scottish parliament welsh assembly or northern ireland assembly and it suggests new ways of boosting election campaigning seen as a way of improving voter turnout all local election candidates should be entitled to a free mailshot for campaign leaflets says the watchdog and there should be a shift in the amount of money allowed to be spent at elections from a national level to a local level to help politicians engage better with voters\\n \\n the report suggests doubling the money which can be spent by candidates while cutting national spending limits from \\u00e2\\u00a320m to \\u00e2\\u00a315m the commission also says the spending limits for general elections should cover the four months before the poll  as happens with other elections electoral commission chairman sam younger said there is no doubt that political parties have a vital role to play in maintaining the health of our democracy and for this they need to be adequately resourced our research has shown that people want to be more informed about party politics and that they want politicians to be more visible and accessible the public are reluctant for the state to fund parties but at the same time are unhappy with large private donations he called for a wider public debate on party funding to find the consensus needed for radical changes to the current system\\n\",\n          \"putin backs state grab for yukos\\n \\n russias president has defended the purchase of yukos key production unit by stateowned oil firm rosneft saying it followed free market principles\\n \\n vladimir putin said it was quite within the rights of a stateowned company to ensure its interests were met rosneft bought 100 of baikal finance group in a move that amounts to the renationalisation of a major chunk of russias booming oil industry rosneft will now control about 16 of russias total crude oil output yukos share jumped in moscow climbing as much as 50 before being suspended\\n \\n rosneft is already in the process of merging with gazprom the worlds biggest gas company a move that will see gazprom return to majority stateownership\\n \\n baikal was the surprise buyer of oil and gas giant yukoss main production division at a forced auction on sunday everything was done by market methods mr putin said at his yearend press conference in moscow shedding some light on the kremlins motivation mr putin referred to a period of socalled cowboy capitalism that followed the collapse of the soviet union\\n \\n he said privatisations carried out in the early 1990s had involved trickery including law breaking by people seeking to acquire valuable state property now the state using market methods is safeguarding its interests i think this is quite normal the russian president said a rosneft spokesman has said the acquisition is part of its plan to build a balanced national energy corporation\\n \\n the latest announcement comes after more than a year of wrangling that has pushed yukos one of russias biggest companies to the brink of collapse the russian government put yukoss yuganskneftegas subsidiary up for sale last week after hitting the company with a 27bn \\u00e2\\u00a314bn bill for back taxes and fines\\n \\n analysts say that yukoss legal attempts to block the auction by filing for bankruptcy protection in the us are probably what caused this weeks cloakanddagger dealings gazprom the company originally tipped to buy yuganskneftegas was banned from taking part in the auction by a us court injunction by selling the yukos unit to littleknown baikal and then to rosneft russia is able to circumvent a host of tricky legal landmines analysts said you cannot sue the russian government said eric kraus a strategist at moscows sovlink securities the russian government has sovereign immunity the government is renationalising yuganskneftegas\\n \\n even so analysts reckon that the saga still has a long way to go the rosneft announcement came just hours after yukos accused gazprom of illegally taking part in sundays auction it has said it will be seeking damages of 20bn the claim was made at the latest hearing in the us bankruptcy court in houston texas where yukos had filed for chapter 11 bankruptcy protection if found in contempt of the us court order blocking the auction gazprom could face having foreign assets seized yukos lawyers had also been expected to try to have baikals assets frozen lawyers claimed the auction was illegal because yukos  with an office in houston  had filed for bankruptcy and therefore its assets were under the protection of us law which has worldwide jurisdiction further muddying the waters is a merger between rosneft and gazprom which authorities have said will go ahead as planned\\n\",\n          \"honda wins china copyright ruling\\n \\n japans honda has won a copyright case in beijing further evidence that china is taking a tougher line on protecting intellectual property rights\\n \\n a court ruled that chongqing lifan industry group must stop selling honda brand motorbikes and said it must pay 147m yuan 177600 in compensation internationally recognized regulation is now a key part of chinas plans for developing its economy analysts said beijing also has been threatened with sanctions if it fails to clamp down\\n \\n chinese firms copy products ranging from computer software and spark plugs to baby milk and compact discs despite the fact that product piracy is a major problem foreign companies have only occasionally won cases and the compensation awarded has usually been small still recent rulings and announcements will have boosted optimism that attitudes are changing earlier this week china said that in future it will punish violators of intellectual property rights with up to seven years in jail and on tuesday paws incorporated  the owner of the rights to garfield the cat  won a court battle against a publishing house that violated its copyright other firms that have taken legal action in china with varying degrees of success include yamaha general motors and toyota\\n \\n the problem of piracy is not limited to china however and the potential for profit is huge the european union estimates that the global trade in pirated wares is worth more than 200bn euros a year \\u00e2\\u00a3140bn 258bn or about 5 of total world trade and it is growing between 1998 and 2002 the number of counterfeit or pirated goods intercepted at the eus external borders increased by more than 800 it said last month the eu said it will start monitoring china ukraine and russia to ensure they are going after pirated goods other countries on the eus hit list include thailand brazil south korea and indonesia any countries that are not making enough of an effort could be dragged to the world trade organisation wto a step that could trigger economic sanctions the eu warned\\n\"\n        ],\n        \"semantic_type\": \"\",\n        \"description\": \"\"\n      }\n    },\n    {\n      \"column\": \"tokens\",\n      \"properties\": {\n        \"dtype\": \"object\",\n        \"semantic_type\": \"\",\n        \"description\": \"\"\n      }\n    },\n    {\n      \"column\": \"removed_stop_words\",\n      \"properties\": {\n        \"dtype\": \"object\",\n        \"semantic_type\": \"\",\n        \"description\": \"\"\n      }\n    },\n    {\n      \"column\": \"lemmatized_words\",\n      \"properties\": {\n        \"dtype\": \"object\",\n        \"semantic_type\": \"\",\n        \"description\": \"\"\n      }\n    },\n    {\n      \"column\": \"clean_text\",\n      \"properties\": {\n        \"dtype\": \"string\",\n        \"num_unique_values\": 2118,\n        \"samples\": [\n          \"glasgow host tsunami benefit gig top name scottish music taking part benefit concert aid victim asian tsunami  ticket saturday concert featuring franz ferdinand belle sebastian travis glasgow secc sold  hour mull historical society deacon blue idlewild texas mogwai teenage fanclub among act performing concert organiser hope raise least  show follows cardiff gig starring eric clapton keane jools holland raised  taking place night tsunami benefit show bristol see massive attack portishead share stage first time colin macintyre mull historical society playing another gig day said determined make glasgow benefit said think affected seeing report coming far east know somebody never seen wave destruction natural disaster like generation im lucky artist able perform something like\",\n          \"football manager score big time past decade virtual football fan among u become used annual helping championship manager cm indeed seems like cm game many year pc however last year final time developer sport interactive si publisher eidos would work together decided go separate way kept piece franchise si kept game code database eidos retained right cm brand look feel game beginning year fan faced new situation eidos announced next cm game new team develop scratch whilst si developed existing code released new publisher sega name football manager mean well football manager spiritual successor cm series released earlier expected point cm look like ship early next year given football manager  large game everybody know love new version shape game like fm could blind statistic obscene number playable league obscene number manageable team really obscene number player staff around world database stats faithfully researched compiled loyal army fan justice game really talking realistic satisfying football management game ever grace earth begin picking nation league want manage team instance england scotland give choice four main scottish league english premiership way conference north south course might looking european glory get hold abramovichs million case take control chelsea even barcelona real madrid ac milan list go long way team told board expect sometimes promotion place europe sometimes consolidation brave relegation battle might even case champion else obviously expectation linked team choose choose wisely time look squad work tactic seeing much cash got splash look transfer market sorting training schedule making sure backroom staff bring match available everimproving top  view exception improved user interface surface much else seems changed however lot change bonnet well thing like manager mindgames let talk medium opposition boss match engine also much improved joy ever watch fact every area game tweaked lead ever immersive experience game complex openended course glitch nowhere near sort problem blighted previous release many calculation perform game take time process match though improvement area sport like football high profile unpredictable never modelled quite everybodys satisfaction time around great deal hard work put ensure oddity crop cosmetic affect gameplay problem line sport interactive indicated usual willingness support develop game far possible many tweak improvement fan previous cm game fm might make forget anything else new genre like idea trying take margate premiership spur europe even putting ranger back top tree fm could best purchase ever made warned family might see much christmas football manager  pc mac\",\n          \"fry set role hitchhiker actor stephen fry joining cast forthcoming film adaptation hitchhiker guide galaxy fry provide voice guide electronic book accompanies story hero arthur dent travel around galaxy martin freeman john malkovich bill nighy alan rickman costarring film due release may late douglas adam original  script also turned series successful book asked voice guide like birthday christmas day discovering winning lottery ticket stocking chocolate poured said fry selfconfessed fan book film executive producer robbie stamp said adam died  would delighted choice fry role humour intelligence perfect voice guide added mr stamp adam wrote screenplay based book premature death new radio series aired  year first broadcast included many original cast member hollywood star malkovich play religious cult leader humma kavula especially created adam new film freeman starred hit bbc comedy office play role arthur dent begin intergalactic voyage following destruction earth\"\n        ],\n        \"semantic_type\": \"\",\n        \"description\": \"\"\n      }\n    }\n  ]\n}"
            }
          },
          "metadata": {},
          "execution_count": 28
        }
      ],
      "source": [
        "def return_clean_text(text):\n",
        "  sentence = \"\"\n",
        "  for word in text:\n",
        "    sentence += word + \" \"\n",
        "\n",
        "  return sentence.strip()\n",
        "\n",
        "df_clean_text['clean_text'] = df_clean_text['lemmatized_words'].progress_apply(lambda x : return_clean_text(x))\n",
        "df_clean_text.head()"
      ]
    },
    {
      "cell_type": "code",
      "execution_count": null,
      "metadata": {
        "colab": {
          "base_uri": "https://localhost:8080/"
        },
        "id": "STWf5M4Fcv5h",
        "outputId": "e9fb9a89-11c8-46e9-cec2-71e251084002"
      },
      "outputs": [
        {
          "output_type": "stream",
          "name": "stdout",
          "text": [
            "Original text: Hatfield executives go on trial\n",
            " \n",
            " Engineering firm Balfour Beatty and five railway managers are to go on trial for manslaughter over the Hatfield rail crash in 2000.\n",
            " \n",
            " Four people died when a section of rail broke and a high speed train derailed. Balfour Beatty's railway maintenance arm was in charge of the upkeep of the line at Hatfield, Hertfordshire. Balfour Beatty managers Anthony Walker and Nicholas Jeffries, and Railtrack managers Alistair Cook, Sean Fugill and Keith Lea all face individual charges. All five men, along with four others, are also accused of breaches of health and safety laws. Balfour Beatty Rail Maintenance faces a corporate manslaughter charge. It is expected the trial could last as long as a year. The accident, on 17 October 2000, happened when the London to Leeds express came off the tracks at 115 mph, when it was derailed by a cracked section of rail. The accident on the East Coast Main Line sparked major disruption. The overall responsibility for the line was Railtrack's - the company that has now become Network Rail. Those who died in the accident were Steve Arthur, 46, from Pease Pottage, West Sussex; Peter Monkhouse, 50, of Headingley, Leeds; Leslie Gray, 43, of Tuxford, Nottingham; and Robert James Alcorn, 37, of Auckland, New Zealand.\n",
            "\n",
            "New text: hatfield executive go trial engineering firm balfour beatty five railway manager go trial manslaughter hatfield rail crash  four people died section rail broke high speed train derailed balfour beattys railway maintenance arm charge upkeep line hatfield hertfordshire balfour beatty manager anthony walker nicholas jeffries railtrack manager alistair cook sean fugill keith lea face individual charge five men along four others also accused breach health safety law balfour beatty rail maintenance face corporate manslaughter charge expected trial could last long year accident  october  happened london leeds express came track  mph derailed cracked section rail accident east coast main line sparked major disruption overall responsibility line railtracks company become network rail died accident steve arthur  pea pottage west sussex peter monkhouse  headingley leeds leslie gray  tuxford nottingham robert james alcorn  auckland new zealand\n"
          ]
        }
      ],
      "source": [
        "print(\"Original text: \" + df['headline'].iloc[10])\n",
        "print(\"New text: \" + df_clean_text['clean_text'].iloc[10])"
      ]
    },
    {
      "cell_type": "markdown",
      "metadata": {
        "id": "2k2Loq_tfB0d"
      },
      "source": [
        "# Encoding The Users"
      ]
    },
    {
      "cell_type": "markdown",
      "metadata": {
        "id": "M_senpp6k6as"
      },
      "source": [
        "Here we created a class to randomly generate users for us with each user having randomly selected topics, with max being 4, and returns a directory of users."
      ]
    },
    {
      "cell_type": "code",
      "execution_count": null,
      "metadata": {
        "colab": {
          "base_uri": "https://localhost:8080/"
        },
        "id": "DTL8ZO1jfFrl",
        "outputId": "c8d060a1-8b89-4640-ff2e-94b2d3485e8c"
      },
      "outputs": [
        {
          "output_type": "execute_result",
          "data": {
            "text/plain": [
              "{'User #1': ['entertainment', 'tech'],\n",
              " 'User #2': ['tech', 'business'],\n",
              " 'User #3': ['business', 'sport', 'entertainment', 'tech'],\n",
              " 'User #4': ['tech', 'business'],\n",
              " 'User #5': ['politics', 'sport', 'entertainment']}"
            ]
          },
          "metadata": {},
          "execution_count": 170
        }
      ],
      "source": [
        "import random\n",
        "\n",
        "class UserTopicGenerator:\n",
        "    def __init__(self, n, topics): # n being the number of users\n",
        "        self.n = n\n",
        "        self.topics = topics\n",
        "        self.users_topics = {}\n",
        "\n",
        "    def generate_users_topics(self):\n",
        "        for user_num in range(1, self.n + 1):\n",
        "            user_topics_count = random.randint(1, 4)  # Randomly choose between 1 to 4 topics\n",
        "            user_topics = random.sample(self.topics, user_topics_count)\n",
        "            self.users_topics[f\"User #{user_num}\"] = user_topics\n",
        "\n",
        "    def get_users_topics(self):\n",
        "        return self.users_topics\n",
        "\n",
        "topics = [\"business\", \"entertainment\", \"politics\", \"sport\", \"tech\"]\n",
        "n = 5\n",
        "\n",
        "generator = UserTopicGenerator(n, topics)\n",
        "generator.generate_users_topics()\n",
        "users_topics_dict = generator.get_users_topics()\n",
        "\n",
        "users_topics_dict\n"
      ]
    },
    {
      "cell_type": "markdown",
      "metadata": {
        "id": "44MNyTYPhNns"
      },
      "source": [
        "# GloVe Implementation"
      ]
    },
    {
      "cell_type": "code",
      "execution_count": null,
      "metadata": {
        "id": "NCsVmQaOM309"
      },
      "outputs": [],
      "source": [
        "!pip install unzip"
      ]
    },
    {
      "cell_type": "code",
      "execution_count": null,
      "metadata": {
        "id": "72sCI4yWNfQq"
      },
      "outputs": [],
      "source": [
        "!unzip /content/drive/MyDrive/GloVe/glove.6B.zip"
      ]
    },
    {
      "cell_type": "code",
      "execution_count": null,
      "metadata": {
        "id": "CVPxFBvonuBX"
      },
      "outputs": [],
      "source": [
        "from sklearn.metrics.pairwise import cosine_similarity\n",
        "\n",
        "def load_glove_embeddings(file_path):\n",
        "  embeddings_index = {}\n",
        "  with open(file_path, 'r', encoding='utf-8') as f:\n",
        "    for line in f:\n",
        "      values = line.split()\n",
        "      word = values[0]\n",
        "      coefs = np.asarray(values[1:], dtype='float32')\n",
        "      embeddings_index[word]=coefs\n",
        "\n",
        "  return embeddings_index\n",
        "\n",
        "glove_embeddings = load_glove_embeddings('glove.6B.300d.txt')"
      ]
    },
    {
      "cell_type": "code",
      "execution_count": null,
      "metadata": {
        "id": "r4g3UFlSJvHo"
      },
      "outputs": [],
      "source": [
        "def preprocess_text(text):\n",
        "  tokens = word_tokenize(text.lower())\n",
        "  return tokens"
      ]
    },
    {
      "cell_type": "markdown",
      "metadata": {
        "id": "BWuAMcMKUaLm"
      },
      "source": [
        "Compute embeddings for headlines."
      ]
    },
    {
      "cell_type": "code",
      "execution_count": null,
      "metadata": {
        "id": "Z-cpVYzIPkI_"
      },
      "outputs": [],
      "source": [
        "def compute_headline_embeddings(headlines):\n",
        "  embeddings = []\n",
        "  for headline in headlines:\n",
        "      tokens = preprocess_text(headline)\n",
        "      if tokens:  # Check if there are valid tokens\n",
        "          \"\"\"\n",
        "          Compute average GloVe embedding for the headlines, because it's typically performed on text data such\n",
        "          as headlines to create a single representation for each headline by capturing the overall semantic meaning\n",
        "          of the text in a dense vector representation.\n",
        "          \"\"\"\n",
        "          headline_embedding = np.mean([glove_embeddings[token] for token in tokens if token in glove_embeddings], axis=0)\n",
        "          embeddings.append(headline_embedding)\n",
        "  return np.array(embeddings)"
      ]
    },
    {
      "cell_type": "code",
      "source": [
        "headline_embeddings = compute_headline_embeddings(df_clean_text['clean_text'])\n",
        "\n",
        "print(len(headline_embeddings))"
      ],
      "metadata": {
        "colab": {
          "base_uri": "https://localhost:8080/"
        },
        "id": "w-TbvWUdl7dG",
        "outputId": "372b90d2-63ed-4c16-83c6-21a777389a89"
      },
      "execution_count": null,
      "outputs": [
        {
          "output_type": "stream",
          "name": "stdout",
          "text": [
            "2225\n"
          ]
        }
      ]
    },
    {
      "cell_type": "code",
      "execution_count": null,
      "metadata": {
        "id": "-y1wdNhmLf3l"
      },
      "outputs": [],
      "source": [
        "topics_of_interests = {'politics': ['politics'],\n",
        "                       'buisness': ['buisness'],\n",
        "                       'entertainment': ['entertainment'],\n",
        "                       'sport': ['sport'],\n",
        "                       'tech': ['tech']}"
      ]
    },
    {
      "cell_type": "markdown",
      "metadata": {
        "id": "JoITL7YzUg2o"
      },
      "source": [
        "Compute embeddings for topics."
      ]
    },
    {
      "cell_type": "code",
      "execution_count": null,
      "metadata": {
        "id": "AueZA9D6UL8p"
      },
      "outputs": [],
      "source": [
        "def compute_topic_embedding(topics):\n",
        "  topic_embeddings = {}\n",
        "\n",
        "  for topic, interests in topics.items():\n",
        "\n",
        "      interest_embeddings = [glove_embeddings[interest] for interest in interests if interest in glove_embeddings]\n",
        "      if interest_embeddings:\n",
        "          topic_embeddings[topic] = np.mean(interest_embeddings, axis=0)\n",
        "      else:\n",
        "          topic_embeddings[topic] = None\n",
        "\n",
        "  return topic_embeddings\n",
        "\n",
        "topic_embeddings = compute_topic_embedding(topics_of_interests)"
      ]
    },
    {
      "cell_type": "code",
      "source": [
        "print(topic_embeddings)"
      ],
      "metadata": {
        "id": "wTqjbqFyoptR"
      },
      "execution_count": null,
      "outputs": []
    },
    {
      "cell_type": "markdown",
      "metadata": {
        "id": "Rrq2G8BkanbZ"
      },
      "source": [
        "And now we compute the cosine similartities."
      ]
    },
    {
      "cell_type": "code",
      "execution_count": null,
      "metadata": {
        "id": "bQLUUTIxaWyZ"
      },
      "outputs": [],
      "source": [
        "def compute_cosine_similarities(headline_embeddings, topic_embeddings):\n",
        "\n",
        "  topic_headline_scores = {}\n",
        "  for topic, topic_embedding in topic_embeddings.items():\n",
        "      similarities = cosine_similarity(topic_embedding.reshape(1, -1), headline_embeddings)\n",
        "      topic_headline_scores[topic] = similarities.flatten()\n",
        "\n",
        "  return(topic_headline_scores)\n",
        "\n",
        "topic_headline_scores = compute_cosine_similarities(headline_embeddings, topic_embeddings)\n",
        "\n",
        "print(topic_headline_scores)"
      ]
    },
    {
      "cell_type": "markdown",
      "metadata": {
        "id": "4sNnQLfghXsB"
      },
      "source": [
        "Now we'll add the similarities to our dataset"
      ]
    },
    {
      "cell_type": "code",
      "execution_count": null,
      "metadata": {
        "colab": {
          "base_uri": "https://localhost:8080/",
          "height": 310
        },
        "id": "KGJ_4i2thXBS",
        "outputId": "5c1dfd45-0aa9-4e85-b913-6e51a4da34a5"
      },
      "outputs": [
        {
          "output_type": "execute_result",
          "data": {
            "text/plain": [
              "                                            headline  category  \\\n",
              "0  Budget to set scene for election\\n \\n Gordon B...         0   \n",
              "1  Army chiefs in regiments decision\\n \\n Militar...         0   \n",
              "2  Howard denies split over ID cards\\n \\n Michael...         0   \n",
              "3  Observers to monitor UK election\\n \\n Minister...         0   \n",
              "4  Kilroy names election seat target\\n \\n Ex-chat...         0   \n",
              "\n",
              "                                removed_punctuations  \\\n",
              "0  budget to set scene for election\\n \\n gordon b...   \n",
              "1  army chiefs in regiments decision\\n \\n militar...   \n",
              "2  howard denies split over id cards\\n \\n michael...   \n",
              "3  observers to monitor uk election\\n \\n minister...   \n",
              "4  kilroy names election seat target\\n \\n exchat ...   \n",
              "\n",
              "                                              tokens  \\\n",
              "0  [budget, to, set, scene, for, election, gordon...   \n",
              "1  [army, chiefs, in, regiments, decision, milita...   \n",
              "2  [howard, denies, split, over, id, cards, micha...   \n",
              "3  [observers, to, monitor, uk, election, ministe...   \n",
              "4  [kilroy, names, election, seat, target, exchat...   \n",
              "\n",
              "                                  removed_stop_words  \\\n",
              "0  [budget, set, scene, election, gordon, brown, ...   \n",
              "1  [army, chiefs, regiments, decision, military, ...   \n",
              "2  [howard, denies, split, id, cards, michael, ho...   \n",
              "3  [observers, monitor, uk, election, ministers, ...   \n",
              "4  [kilroy, names, election, seat, target, exchat...   \n",
              "\n",
              "                                    lemmatized_words  \\\n",
              "0  [budget, set, scene, election, gordon, brown, ...   \n",
              "1  [army, chief, regiment, decision, military, ch...   \n",
              "2  [howard, denies, split, id, card, michael, how...   \n",
              "3  [observer, monitor, uk, election, minister, in...   \n",
              "4  [kilroy, name, election, seat, target, exchat,...   \n",
              "\n",
              "                                          clean_text  similarity_politics  \\\n",
              "0  budget set scene election gordon brown seek pu...             0.446296   \n",
              "1  army chief regiment decision military chief ex...             0.428958   \n",
              "2  howard denies split id card michael howard den...             0.449084   \n",
              "3  observer monitor uk election minister invite i...             0.469438   \n",
              "4  kilroy name election seat target exchat show h...             0.506915   \n",
              "\n",
              "   similarity_buisness  similarity_entertainment  similarity_sport  \\\n",
              "0            -0.321020                  0.243660          0.325025   \n",
              "1            -0.343431                  0.228023          0.336693   \n",
              "2            -0.333021                  0.262023          0.325541   \n",
              "3            -0.309116                  0.227446          0.345103   \n",
              "4            -0.338288                  0.237601          0.341984   \n",
              "\n",
              "   similarity_tech  \n",
              "0         0.268283  \n",
              "1         0.228679  \n",
              "2         0.284222  \n",
              "3         0.231380  \n",
              "4         0.220845  "
            ],
            "text/html": [
              "\n",
              "  <div id=\"df-c255ed2a-38a7-4310-b15f-11fd40ce9ac4\" class=\"colab-df-container\">\n",
              "    <div>\n",
              "<style scoped>\n",
              "    .dataframe tbody tr th:only-of-type {\n",
              "        vertical-align: middle;\n",
              "    }\n",
              "\n",
              "    .dataframe tbody tr th {\n",
              "        vertical-align: top;\n",
              "    }\n",
              "\n",
              "    .dataframe thead th {\n",
              "        text-align: right;\n",
              "    }\n",
              "</style>\n",
              "<table border=\"1\" class=\"dataframe\">\n",
              "  <thead>\n",
              "    <tr style=\"text-align: right;\">\n",
              "      <th></th>\n",
              "      <th>headline</th>\n",
              "      <th>category</th>\n",
              "      <th>removed_punctuations</th>\n",
              "      <th>tokens</th>\n",
              "      <th>removed_stop_words</th>\n",
              "      <th>lemmatized_words</th>\n",
              "      <th>clean_text</th>\n",
              "      <th>similarity_politics</th>\n",
              "      <th>similarity_buisness</th>\n",
              "      <th>similarity_entertainment</th>\n",
              "      <th>similarity_sport</th>\n",
              "      <th>similarity_tech</th>\n",
              "    </tr>\n",
              "  </thead>\n",
              "  <tbody>\n",
              "    <tr>\n",
              "      <th>0</th>\n",
              "      <td>Budget to set scene for election\\n \\n Gordon B...</td>\n",
              "      <td>0</td>\n",
              "      <td>budget to set scene for election\\n \\n gordon b...</td>\n",
              "      <td>[budget, to, set, scene, for, election, gordon...</td>\n",
              "      <td>[budget, set, scene, election, gordon, brown, ...</td>\n",
              "      <td>[budget, set, scene, election, gordon, brown, ...</td>\n",
              "      <td>budget set scene election gordon brown seek pu...</td>\n",
              "      <td>0.446296</td>\n",
              "      <td>-0.321020</td>\n",
              "      <td>0.243660</td>\n",
              "      <td>0.325025</td>\n",
              "      <td>0.268283</td>\n",
              "    </tr>\n",
              "    <tr>\n",
              "      <th>1</th>\n",
              "      <td>Army chiefs in regiments decision\\n \\n Militar...</td>\n",
              "      <td>0</td>\n",
              "      <td>army chiefs in regiments decision\\n \\n militar...</td>\n",
              "      <td>[army, chiefs, in, regiments, decision, milita...</td>\n",
              "      <td>[army, chiefs, regiments, decision, military, ...</td>\n",
              "      <td>[army, chief, regiment, decision, military, ch...</td>\n",
              "      <td>army chief regiment decision military chief ex...</td>\n",
              "      <td>0.428958</td>\n",
              "      <td>-0.343431</td>\n",
              "      <td>0.228023</td>\n",
              "      <td>0.336693</td>\n",
              "      <td>0.228679</td>\n",
              "    </tr>\n",
              "    <tr>\n",
              "      <th>2</th>\n",
              "      <td>Howard denies split over ID cards\\n \\n Michael...</td>\n",
              "      <td>0</td>\n",
              "      <td>howard denies split over id cards\\n \\n michael...</td>\n",
              "      <td>[howard, denies, split, over, id, cards, micha...</td>\n",
              "      <td>[howard, denies, split, id, cards, michael, ho...</td>\n",
              "      <td>[howard, denies, split, id, card, michael, how...</td>\n",
              "      <td>howard denies split id card michael howard den...</td>\n",
              "      <td>0.449084</td>\n",
              "      <td>-0.333021</td>\n",
              "      <td>0.262023</td>\n",
              "      <td>0.325541</td>\n",
              "      <td>0.284222</td>\n",
              "    </tr>\n",
              "    <tr>\n",
              "      <th>3</th>\n",
              "      <td>Observers to monitor UK election\\n \\n Minister...</td>\n",
              "      <td>0</td>\n",
              "      <td>observers to monitor uk election\\n \\n minister...</td>\n",
              "      <td>[observers, to, monitor, uk, election, ministe...</td>\n",
              "      <td>[observers, monitor, uk, election, ministers, ...</td>\n",
              "      <td>[observer, monitor, uk, election, minister, in...</td>\n",
              "      <td>observer monitor uk election minister invite i...</td>\n",
              "      <td>0.469438</td>\n",
              "      <td>-0.309116</td>\n",
              "      <td>0.227446</td>\n",
              "      <td>0.345103</td>\n",
              "      <td>0.231380</td>\n",
              "    </tr>\n",
              "    <tr>\n",
              "      <th>4</th>\n",
              "      <td>Kilroy names election seat target\\n \\n Ex-chat...</td>\n",
              "      <td>0</td>\n",
              "      <td>kilroy names election seat target\\n \\n exchat ...</td>\n",
              "      <td>[kilroy, names, election, seat, target, exchat...</td>\n",
              "      <td>[kilroy, names, election, seat, target, exchat...</td>\n",
              "      <td>[kilroy, name, election, seat, target, exchat,...</td>\n",
              "      <td>kilroy name election seat target exchat show h...</td>\n",
              "      <td>0.506915</td>\n",
              "      <td>-0.338288</td>\n",
              "      <td>0.237601</td>\n",
              "      <td>0.341984</td>\n",
              "      <td>0.220845</td>\n",
              "    </tr>\n",
              "  </tbody>\n",
              "</table>\n",
              "</div>\n",
              "    <div class=\"colab-df-buttons\">\n",
              "\n",
              "  <div class=\"colab-df-container\">\n",
              "    <button class=\"colab-df-convert\" onclick=\"convertToInteractive('df-c255ed2a-38a7-4310-b15f-11fd40ce9ac4')\"\n",
              "            title=\"Convert this dataframe to an interactive table.\"\n",
              "            style=\"display:none;\">\n",
              "\n",
              "  <svg xmlns=\"http://www.w3.org/2000/svg\" height=\"24px\" viewBox=\"0 -960 960 960\">\n",
              "    <path d=\"M120-120v-720h720v720H120Zm60-500h600v-160H180v160Zm220 220h160v-160H400v160Zm0 220h160v-160H400v160ZM180-400h160v-160H180v160Zm440 0h160v-160H620v160ZM180-180h160v-160H180v160Zm440 0h160v-160H620v160Z\"/>\n",
              "  </svg>\n",
              "    </button>\n",
              "\n",
              "  <style>\n",
              "    .colab-df-container {\n",
              "      display:flex;\n",
              "      gap: 12px;\n",
              "    }\n",
              "\n",
              "    .colab-df-convert {\n",
              "      background-color: #E8F0FE;\n",
              "      border: none;\n",
              "      border-radius: 50%;\n",
              "      cursor: pointer;\n",
              "      display: none;\n",
              "      fill: #1967D2;\n",
              "      height: 32px;\n",
              "      padding: 0 0 0 0;\n",
              "      width: 32px;\n",
              "    }\n",
              "\n",
              "    .colab-df-convert:hover {\n",
              "      background-color: #E2EBFA;\n",
              "      box-shadow: 0px 1px 2px rgba(60, 64, 67, 0.3), 0px 1px 3px 1px rgba(60, 64, 67, 0.15);\n",
              "      fill: #174EA6;\n",
              "    }\n",
              "\n",
              "    .colab-df-buttons div {\n",
              "      margin-bottom: 4px;\n",
              "    }\n",
              "\n",
              "    [theme=dark] .colab-df-convert {\n",
              "      background-color: #3B4455;\n",
              "      fill: #D2E3FC;\n",
              "    }\n",
              "\n",
              "    [theme=dark] .colab-df-convert:hover {\n",
              "      background-color: #434B5C;\n",
              "      box-shadow: 0px 1px 3px 1px rgba(0, 0, 0, 0.15);\n",
              "      filter: drop-shadow(0px 1px 2px rgba(0, 0, 0, 0.3));\n",
              "      fill: #FFFFFF;\n",
              "    }\n",
              "  </style>\n",
              "\n",
              "    <script>\n",
              "      const buttonEl =\n",
              "        document.querySelector('#df-c255ed2a-38a7-4310-b15f-11fd40ce9ac4 button.colab-df-convert');\n",
              "      buttonEl.style.display =\n",
              "        google.colab.kernel.accessAllowed ? 'block' : 'none';\n",
              "\n",
              "      async function convertToInteractive(key) {\n",
              "        const element = document.querySelector('#df-c255ed2a-38a7-4310-b15f-11fd40ce9ac4');\n",
              "        const dataTable =\n",
              "          await google.colab.kernel.invokeFunction('convertToInteractive',\n",
              "                                                    [key], {});\n",
              "        if (!dataTable) return;\n",
              "\n",
              "        const docLinkHtml = 'Like what you see? Visit the ' +\n",
              "          '<a target=\"_blank\" href=https://colab.research.google.com/notebooks/data_table.ipynb>data table notebook</a>'\n",
              "          + ' to learn more about interactive tables.';\n",
              "        element.innerHTML = '';\n",
              "        dataTable['output_type'] = 'display_data';\n",
              "        await google.colab.output.renderOutput(dataTable, element);\n",
              "        const docLink = document.createElement('div');\n",
              "        docLink.innerHTML = docLinkHtml;\n",
              "        element.appendChild(docLink);\n",
              "      }\n",
              "    </script>\n",
              "  </div>\n",
              "\n",
              "\n",
              "<div id=\"df-826df117-e7e0-4725-8576-7963445ce4bf\">\n",
              "  <button class=\"colab-df-quickchart\" onclick=\"quickchart('df-826df117-e7e0-4725-8576-7963445ce4bf')\"\n",
              "            title=\"Suggest charts\"\n",
              "            style=\"display:none;\">\n",
              "\n",
              "<svg xmlns=\"http://www.w3.org/2000/svg\" height=\"24px\"viewBox=\"0 0 24 24\"\n",
              "     width=\"24px\">\n",
              "    <g>\n",
              "        <path d=\"M19 3H5c-1.1 0-2 .9-2 2v14c0 1.1.9 2 2 2h14c1.1 0 2-.9 2-2V5c0-1.1-.9-2-2-2zM9 17H7v-7h2v7zm4 0h-2V7h2v10zm4 0h-2v-4h2v4z\"/>\n",
              "    </g>\n",
              "</svg>\n",
              "  </button>\n",
              "\n",
              "<style>\n",
              "  .colab-df-quickchart {\n",
              "      --bg-color: #E8F0FE;\n",
              "      --fill-color: #1967D2;\n",
              "      --hover-bg-color: #E2EBFA;\n",
              "      --hover-fill-color: #174EA6;\n",
              "      --disabled-fill-color: #AAA;\n",
              "      --disabled-bg-color: #DDD;\n",
              "  }\n",
              "\n",
              "  [theme=dark] .colab-df-quickchart {\n",
              "      --bg-color: #3B4455;\n",
              "      --fill-color: #D2E3FC;\n",
              "      --hover-bg-color: #434B5C;\n",
              "      --hover-fill-color: #FFFFFF;\n",
              "      --disabled-bg-color: #3B4455;\n",
              "      --disabled-fill-color: #666;\n",
              "  }\n",
              "\n",
              "  .colab-df-quickchart {\n",
              "    background-color: var(--bg-color);\n",
              "    border: none;\n",
              "    border-radius: 50%;\n",
              "    cursor: pointer;\n",
              "    display: none;\n",
              "    fill: var(--fill-color);\n",
              "    height: 32px;\n",
              "    padding: 0;\n",
              "    width: 32px;\n",
              "  }\n",
              "\n",
              "  .colab-df-quickchart:hover {\n",
              "    background-color: var(--hover-bg-color);\n",
              "    box-shadow: 0 1px 2px rgba(60, 64, 67, 0.3), 0 1px 3px 1px rgba(60, 64, 67, 0.15);\n",
              "    fill: var(--button-hover-fill-color);\n",
              "  }\n",
              "\n",
              "  .colab-df-quickchart-complete:disabled,\n",
              "  .colab-df-quickchart-complete:disabled:hover {\n",
              "    background-color: var(--disabled-bg-color);\n",
              "    fill: var(--disabled-fill-color);\n",
              "    box-shadow: none;\n",
              "  }\n",
              "\n",
              "  .colab-df-spinner {\n",
              "    border: 2px solid var(--fill-color);\n",
              "    border-color: transparent;\n",
              "    border-bottom-color: var(--fill-color);\n",
              "    animation:\n",
              "      spin 1s steps(1) infinite;\n",
              "  }\n",
              "\n",
              "  @keyframes spin {\n",
              "    0% {\n",
              "      border-color: transparent;\n",
              "      border-bottom-color: var(--fill-color);\n",
              "      border-left-color: var(--fill-color);\n",
              "    }\n",
              "    20% {\n",
              "      border-color: transparent;\n",
              "      border-left-color: var(--fill-color);\n",
              "      border-top-color: var(--fill-color);\n",
              "    }\n",
              "    30% {\n",
              "      border-color: transparent;\n",
              "      border-left-color: var(--fill-color);\n",
              "      border-top-color: var(--fill-color);\n",
              "      border-right-color: var(--fill-color);\n",
              "    }\n",
              "    40% {\n",
              "      border-color: transparent;\n",
              "      border-right-color: var(--fill-color);\n",
              "      border-top-color: var(--fill-color);\n",
              "    }\n",
              "    60% {\n",
              "      border-color: transparent;\n",
              "      border-right-color: var(--fill-color);\n",
              "    }\n",
              "    80% {\n",
              "      border-color: transparent;\n",
              "      border-right-color: var(--fill-color);\n",
              "      border-bottom-color: var(--fill-color);\n",
              "    }\n",
              "    90% {\n",
              "      border-color: transparent;\n",
              "      border-bottom-color: var(--fill-color);\n",
              "    }\n",
              "  }\n",
              "</style>\n",
              "\n",
              "  <script>\n",
              "    async function quickchart(key) {\n",
              "      const quickchartButtonEl =\n",
              "        document.querySelector('#' + key + ' button');\n",
              "      quickchartButtonEl.disabled = true;  // To prevent multiple clicks.\n",
              "      quickchartButtonEl.classList.add('colab-df-spinner');\n",
              "      try {\n",
              "        const charts = await google.colab.kernel.invokeFunction(\n",
              "            'suggestCharts', [key], {});\n",
              "      } catch (error) {\n",
              "        console.error('Error during call to suggestCharts:', error);\n",
              "      }\n",
              "      quickchartButtonEl.classList.remove('colab-df-spinner');\n",
              "      quickchartButtonEl.classList.add('colab-df-quickchart-complete');\n",
              "    }\n",
              "    (() => {\n",
              "      let quickchartButtonEl =\n",
              "        document.querySelector('#df-826df117-e7e0-4725-8576-7963445ce4bf button');\n",
              "      quickchartButtonEl.style.display =\n",
              "        google.colab.kernel.accessAllowed ? 'block' : 'none';\n",
              "    })();\n",
              "  </script>\n",
              "</div>\n",
              "    </div>\n",
              "  </div>\n"
            ],
            "application/vnd.google.colaboratory.intrinsic+json": {
              "type": "dataframe",
              "variable_name": "df_clean_text",
              "summary": "{\n  \"name\": \"df_clean_text\",\n  \"rows\": 2225,\n  \"fields\": [\n    {\n      \"column\": \"headline\",\n      \"properties\": {\n        \"dtype\": \"string\",\n        \"num_unique_values\": 2127,\n        \"samples\": [\n          \"Blair congratulates Bush on win\\n \\n Tony Blair has said he looks forward to continuing his strong relationship with George Bush and working with him during his second term as president.\\n \\n Mr Bush's re-election came at a crucial time for a world that was \\\"fractured, divided and uncertain\\\", Mr Blair said. It had to be brought together, he added, saying action was needed on poverty, the Middle East and the conditions on which terrorists prey. Mr Blair said states had to work with the US to fight global terrorism.\\n \\n But there was a need to recognise it would not be defeated by \\\"military might alone but also by demonstrating the strength of our common values\\\" he added. Solving the conflict in the Middle East was the world's single most \\\"pressing political challenge\\\" of the present day, Mr Blair warned. The prime minister also urged Europe and the US to \\\"build anew their alliance\\\".\\n \\n \\\"All of us in positions of leadership, not just President Bush, have a responsibility to rise to this challenge. It is urgent that we do so.\\\" Mr Blair also paid tribute to Democrat John Kerry's campaign, saying he had helped make the presidential election \\\"a true celebration of American democracy\\\". The election of the US president was significant for the world but particularly so for Britain because of its special relationship, he added. Earlier Tory leader Michael Howard sent Mr Bush his \\\"warmest congratulations\\\", saying: \\\"We look to the president to be a unifying force for those all over the world who share our determination to defend freedom.\\\" Liberal Democrat leader Charles Kennedy welcomed the fact there had been a quick conclusion to the election, unlike in 2000.\\n \\n Mr Bush's first task was to \\\"rebuild a sense of domestic purpose\\\" within the US, he said. Mr Kennedy said: \\\"Internationally, it is to be hoped that a second term will see a more sensitive approach to relations with long-standing allies, not least for the global efforts to combat terrorism.\\\" Lib Dem foreign affairs spokesman Menzies Campbell said a win by Mr Kerry would have given Mr Blair the chance of a fresh start, adding it was almost as if there was an \\\"umbilical cord\\\" between Mr Bush and the UK premier.\\n \\n \\\"Europeans must hope that his administration will be much more multilateral in character, and that he will act swiftly to rebuild the Atlantic partnership which is so vital to security. \\\"Iraq will remain an issue of potential division for some time to come.\\\" Even before the result became clear, Mr Blair was being urged to push for action on climate change at his first meeting with whichever candidate won.\\n \\n Liberal Democrat environment spokesman Norman Baker underlined the issue of global warming during a Commons debate on Anglo-American relations on Wednesday. Environment Secretary Margaret Beckett has said the US will act on global warming despite George Bush's refusal to sign up to the Kyoto protocol on carbon emissions. Public opinion would force change, she told BBC news. But Myron Ebell, an adviser on climate change to President Bush, has said there would be no change in the US stance and rejected the threat of climate change. He claimed the US was the only country with independent scientists.\\n\",\n          \"China Aviation seeks rescue deal\\n \\n Scandal-hit jet fuel supplier China Aviation Oil has offered to repay its creditors $220m (\\u00c2\\u00a3117m) of the $550m it lost on trading in oil futures.\\n \\n The firm said it hoped to pay $100m now and another $120m over eight years. With assets of $200m and liabilities totalling $648m, it needs creditors' backing for the offer to avoid going into bankruptcy. The trading scandal is the biggest to hit Singapore since the $1.2bn collapse of Barings Bank in 1995. Chen Jiulin, chief executive of China Aviation Oil (CAO), was arrested by at Changi Airport by Singapore police on 8 December. He was returning from China, where he had headed when CAO announced its trading debacle in late-November. The firm had been betting heavily on a fall in the price of oil during October, but prices rose sharply instead.\\n \\n Among the creditors whose backing CAO needs for its restructuring plan are banking giants such as Barclay's Capital and Sumitomo Mitsui, as well as South Korean firm SK Energy. Of the immediate payment, the firm - China's biggest jet fuel supplier - said it would be paying $30m out of its own resources. The rest would come from its parent company, China Aviation Oil Holding Company in Beijing. The holding company, owned by the Chinese government, holds most of CAO's Singapore-listed shares. It cut its holding from 75% to 60% on 20 October.\\n\",\n          \"Yukos heading back to US courts\\n \\n Russian oil and gas company Yukos is due in a US court on Thursday as it continues to fight for its survival.\\n \\n The firm is in the process of being broken up by Russian authorities in order to pay a $27bn (\\u00c2\\u00a314bn) tax bill. Yukos filed for bankruptcy in the US, hoping to use international business law to halt the forced sale of its key oil production unit, Yuganskneftegas. The unit was however sold for $9.4bn to state oil firm Rosneft but only after the state auction had been disrupted.\\n \\n Yukos lawyers now say the auction violated US bankruptcy law. The company and its main shareholders have vowed to go after any company that buys its assets, using all and every legal means. The company wants damages of $20bn, claiming Yuganskneftegas was sold at less than market value. Judge Letitia Clark will hear different motions, including one from Deutsche Bank to throw out the Chapter 11 bankruptcy filing. The German lender is one of six banks that were barred from providing financing to Gazprom, the Russian state-owned company that was expected to win the auction for Yuganskneftegas. Deutsche Bank, which is also an advisor to Gazprom, has called on the US court to overturn its decision to provide Yukos with bankruptcy protection.\\n \\n Lifting the injunction would remove the uncertainty that surrounds the court case and clarify Deutsche Bank's business position, analysts said.\\n \\n Analysts are not optimistic about Yukos' chances in court. Russian President Vladimir Putin and the country's legal authorities have repeatedly said that the US has no jurisdiction over Yukos and its legal wranglings. On top of that, the firm only has limited assets in the US. Yukos has won small victories, however, and is bullish about its chances in court. \\\"Do we have an ability to influence what happens? We think we do,\\\" said Mike Lake, a Yukos spokesman. \\\"The litigation risks are real,\\\" said Credit Suisse First Boston analyst Vadim Mitroshin The dispute with the Russian authorities is partly driven by President Putin's clampdown on the political ambitions of ex-Yukos boss Mikhail Khodorkovsky. Mr Khodorkovsky is in jail on charges of fraud and tax evasion.\\n\"\n        ],\n        \"semantic_type\": \"\",\n        \"description\": \"\"\n      }\n    },\n    {\n      \"column\": \"category\",\n      \"properties\": {\n        \"dtype\": \"number\",\n        \"std\": 1,\n        \"min\": 0,\n        \"max\": 4,\n        \"num_unique_values\": 5,\n        \"samples\": [\n          1,\n          4,\n          2\n        ],\n        \"semantic_type\": \"\",\n        \"description\": \"\"\n      }\n    },\n    {\n      \"column\": \"removed_punctuations\",\n      \"properties\": {\n        \"dtype\": \"string\",\n        \"num_unique_values\": 2124,\n        \"samples\": [\n          \"debate needed on donations cap\\n \\n a cap on donations to political parties should not be introduced yet the elections watchdog has said\\n \\n fears that big donors can buy political favours have sparked calls for a limit in a new report the electoral commission says it is worth debating a \\u00e2\\u00a310000 cap for the future but now is not the right time to introduce it it also says there should be more state funding for political parties and candidates should be able to spend more on election campaigning\\n \\n there were almost \\u00e2\\u00a368m in reported donations to political parties in 2001 2002 and 2003 with nearly \\u00e2\\u00a312m of them from individual gifts worth more than \\u00e2\\u00a31m the rules have already been changed so the public can see who gives how much to the parties but the report says there are still public suspicions the commission says capping donations would mean taxpayers giving parties more cash  something which would first have to be acceptable to the public and shown to work while we are not in principle opposed to the introduction of a donation cap we do not believe that such a major departure from the existing system now would be sensible says its report if there was to be a cap it should be \\u00e2\\u00a310000  a small enough amount to make a difference but which would have banned \\u00e2\\u00a356m in donations between 2001 and 2003\\n \\n even without changes the commission does urge political parties to seek out more smallscale donations and suggests there should be income tax relief for gifts under \\u00e2\\u00a3200 it also suggests increasing state funding for parties to \\u00e2\\u00a33m so help can be extended to all parties with at least two members in the house of commons european parliament scottish parliament welsh assembly or northern ireland assembly and it suggests new ways of boosting election campaigning seen as a way of improving voter turnout all local election candidates should be entitled to a free mailshot for campaign leaflets says the watchdog and there should be a shift in the amount of money allowed to be spent at elections from a national level to a local level to help politicians engage better with voters\\n \\n the report suggests doubling the money which can be spent by candidates while cutting national spending limits from \\u00e2\\u00a320m to \\u00e2\\u00a315m the commission also says the spending limits for general elections should cover the four months before the poll  as happens with other elections electoral commission chairman sam younger said there is no doubt that political parties have a vital role to play in maintaining the health of our democracy and for this they need to be adequately resourced our research has shown that people want to be more informed about party politics and that they want politicians to be more visible and accessible the public are reluctant for the state to fund parties but at the same time are unhappy with large private donations he called for a wider public debate on party funding to find the consensus needed for radical changes to the current system\\n\",\n          \"putin backs state grab for yukos\\n \\n russias president has defended the purchase of yukos key production unit by stateowned oil firm rosneft saying it followed free market principles\\n \\n vladimir putin said it was quite within the rights of a stateowned company to ensure its interests were met rosneft bought 100 of baikal finance group in a move that amounts to the renationalisation of a major chunk of russias booming oil industry rosneft will now control about 16 of russias total crude oil output yukos share jumped in moscow climbing as much as 50 before being suspended\\n \\n rosneft is already in the process of merging with gazprom the worlds biggest gas company a move that will see gazprom return to majority stateownership\\n \\n baikal was the surprise buyer of oil and gas giant yukoss main production division at a forced auction on sunday everything was done by market methods mr putin said at his yearend press conference in moscow shedding some light on the kremlins motivation mr putin referred to a period of socalled cowboy capitalism that followed the collapse of the soviet union\\n \\n he said privatisations carried out in the early 1990s had involved trickery including law breaking by people seeking to acquire valuable state property now the state using market methods is safeguarding its interests i think this is quite normal the russian president said a rosneft spokesman has said the acquisition is part of its plan to build a balanced national energy corporation\\n \\n the latest announcement comes after more than a year of wrangling that has pushed yukos one of russias biggest companies to the brink of collapse the russian government put yukoss yuganskneftegas subsidiary up for sale last week after hitting the company with a 27bn \\u00e2\\u00a314bn bill for back taxes and fines\\n \\n analysts say that yukoss legal attempts to block the auction by filing for bankruptcy protection in the us are probably what caused this weeks cloakanddagger dealings gazprom the company originally tipped to buy yuganskneftegas was banned from taking part in the auction by a us court injunction by selling the yukos unit to littleknown baikal and then to rosneft russia is able to circumvent a host of tricky legal landmines analysts said you cannot sue the russian government said eric kraus a strategist at moscows sovlink securities the russian government has sovereign immunity the government is renationalising yuganskneftegas\\n \\n even so analysts reckon that the saga still has a long way to go the rosneft announcement came just hours after yukos accused gazprom of illegally taking part in sundays auction it has said it will be seeking damages of 20bn the claim was made at the latest hearing in the us bankruptcy court in houston texas where yukos had filed for chapter 11 bankruptcy protection if found in contempt of the us court order blocking the auction gazprom could face having foreign assets seized yukos lawyers had also been expected to try to have baikals assets frozen lawyers claimed the auction was illegal because yukos  with an office in houston  had filed for bankruptcy and therefore its assets were under the protection of us law which has worldwide jurisdiction further muddying the waters is a merger between rosneft and gazprom which authorities have said will go ahead as planned\\n\",\n          \"honda wins china copyright ruling\\n \\n japans honda has won a copyright case in beijing further evidence that china is taking a tougher line on protecting intellectual property rights\\n \\n a court ruled that chongqing lifan industry group must stop selling honda brand motorbikes and said it must pay 147m yuan 177600 in compensation internationally recognized regulation is now a key part of chinas plans for developing its economy analysts said beijing also has been threatened with sanctions if it fails to clamp down\\n \\n chinese firms copy products ranging from computer software and spark plugs to baby milk and compact discs despite the fact that product piracy is a major problem foreign companies have only occasionally won cases and the compensation awarded has usually been small still recent rulings and announcements will have boosted optimism that attitudes are changing earlier this week china said that in future it will punish violators of intellectual property rights with up to seven years in jail and on tuesday paws incorporated  the owner of the rights to garfield the cat  won a court battle against a publishing house that violated its copyright other firms that have taken legal action in china with varying degrees of success include yamaha general motors and toyota\\n \\n the problem of piracy is not limited to china however and the potential for profit is huge the european union estimates that the global trade in pirated wares is worth more than 200bn euros a year \\u00e2\\u00a3140bn 258bn or about 5 of total world trade and it is growing between 1998 and 2002 the number of counterfeit or pirated goods intercepted at the eus external borders increased by more than 800 it said last month the eu said it will start monitoring china ukraine and russia to ensure they are going after pirated goods other countries on the eus hit list include thailand brazil south korea and indonesia any countries that are not making enough of an effort could be dragged to the world trade organisation wto a step that could trigger economic sanctions the eu warned\\n\"\n        ],\n        \"semantic_type\": \"\",\n        \"description\": \"\"\n      }\n    },\n    {\n      \"column\": \"tokens\",\n      \"properties\": {\n        \"dtype\": \"object\",\n        \"semantic_type\": \"\",\n        \"description\": \"\"\n      }\n    },\n    {\n      \"column\": \"removed_stop_words\",\n      \"properties\": {\n        \"dtype\": \"object\",\n        \"semantic_type\": \"\",\n        \"description\": \"\"\n      }\n    },\n    {\n      \"column\": \"lemmatized_words\",\n      \"properties\": {\n        \"dtype\": \"object\",\n        \"semantic_type\": \"\",\n        \"description\": \"\"\n      }\n    },\n    {\n      \"column\": \"clean_text\",\n      \"properties\": {\n        \"dtype\": \"string\",\n        \"num_unique_values\": 2118,\n        \"samples\": [\n          \"glasgow host tsunami benefit gig top name scottish music taking part benefit concert aid victim asian tsunami  ticket saturday concert featuring franz ferdinand belle sebastian travis glasgow secc sold  hour mull historical society deacon blue idlewild texas mogwai teenage fanclub among act performing concert organiser hope raise least  show follows cardiff gig starring eric clapton keane jools holland raised  taking place night tsunami benefit show bristol see massive attack portishead share stage first time colin macintyre mull historical society playing another gig day said determined make glasgow benefit said think affected seeing report coming far east know somebody never seen wave destruction natural disaster like generation im lucky artist able perform something like\",\n          \"football manager score big time past decade virtual football fan among u become used annual helping championship manager cm indeed seems like cm game many year pc however last year final time developer sport interactive si publisher eidos would work together decided go separate way kept piece franchise si kept game code database eidos retained right cm brand look feel game beginning year fan faced new situation eidos announced next cm game new team develop scratch whilst si developed existing code released new publisher sega name football manager mean well football manager spiritual successor cm series released earlier expected point cm look like ship early next year given football manager  large game everybody know love new version shape game like fm could blind statistic obscene number playable league obscene number manageable team really obscene number player staff around world database stats faithfully researched compiled loyal army fan justice game really talking realistic satisfying football management game ever grace earth begin picking nation league want manage team instance england scotland give choice four main scottish league english premiership way conference north south course might looking european glory get hold abramovichs million case take control chelsea even barcelona real madrid ac milan list go long way team told board expect sometimes promotion place europe sometimes consolidation brave relegation battle might even case champion else obviously expectation linked team choose choose wisely time look squad work tactic seeing much cash got splash look transfer market sorting training schedule making sure backroom staff bring match available everimproving top  view exception improved user interface surface much else seems changed however lot change bonnet well thing like manager mindgames let talk medium opposition boss match engine also much improved joy ever watch fact every area game tweaked lead ever immersive experience game complex openended course glitch nowhere near sort problem blighted previous release many calculation perform game take time process match though improvement area sport like football high profile unpredictable never modelled quite everybodys satisfaction time around great deal hard work put ensure oddity crop cosmetic affect gameplay problem line sport interactive indicated usual willingness support develop game far possible many tweak improvement fan previous cm game fm might make forget anything else new genre like idea trying take margate premiership spur europe even putting ranger back top tree fm could best purchase ever made warned family might see much christmas football manager  pc mac\",\n          \"fry set role hitchhiker actor stephen fry joining cast forthcoming film adaptation hitchhiker guide galaxy fry provide voice guide electronic book accompanies story hero arthur dent travel around galaxy martin freeman john malkovich bill nighy alan rickman costarring film due release may late douglas adam original  script also turned series successful book asked voice guide like birthday christmas day discovering winning lottery ticket stocking chocolate poured said fry selfconfessed fan book film executive producer robbie stamp said adam died  would delighted choice fry role humour intelligence perfect voice guide added mr stamp adam wrote screenplay based book premature death new radio series aired  year first broadcast included many original cast member hollywood star malkovich play religious cult leader humma kavula especially created adam new film freeman starred hit bbc comedy office play role arthur dent begin intergalactic voyage following destruction earth\"\n        ],\n        \"semantic_type\": \"\",\n        \"description\": \"\"\n      }\n    },\n    {\n      \"column\": \"similarity_politics\",\n      \"properties\": {\n        \"dtype\": \"float32\",\n        \"num_unique_values\": 2117,\n        \"samples\": [\n          0.39053425192832947,\n          0.3591797351837158,\n          0.4465024769306183\n        ],\n        \"semantic_type\": \"\",\n        \"description\": \"\"\n      }\n    },\n    {\n      \"column\": \"similarity_buisness\",\n      \"properties\": {\n        \"dtype\": \"float32\",\n        \"num_unique_values\": 2117,\n        \"samples\": [\n          -0.3241453170776367,\n          -0.27674707770347595,\n          -0.3079749345779419\n        ],\n        \"semantic_type\": \"\",\n        \"description\": \"\"\n      }\n    },\n    {\n      \"column\": \"similarity_entertainment\",\n      \"properties\": {\n        \"dtype\": \"float32\",\n        \"num_unique_values\": 2117,\n        \"samples\": [\n          0.3097202777862549,\n          0.33644208312034607,\n          0.1729830503463745\n        ],\n        \"semantic_type\": \"\",\n        \"description\": \"\"\n      }\n    },\n    {\n      \"column\": \"similarity_sport\",\n      \"properties\": {\n        \"dtype\": \"float32\",\n        \"num_unique_values\": 2116,\n        \"samples\": [\n          0.27356988191604614,\n          0.3544514775276184,\n          0.3282718360424042\n        ],\n        \"semantic_type\": \"\",\n        \"description\": \"\"\n      }\n    },\n    {\n      \"column\": \"similarity_tech\",\n      \"properties\": {\n        \"dtype\": \"float32\",\n        \"num_unique_values\": 2116,\n        \"samples\": [\n          0.16666415333747864,\n          0.27053946256637573,\n          0.19991722702980042\n        ],\n        \"semantic_type\": \"\",\n        \"description\": \"\"\n      }\n    }\n  ]\n}"
            }
          },
          "metadata": {},
          "execution_count": 118
        }
      ],
      "source": [
        "for topic, scores in topic_headline_scores.items():\n",
        "  df_clean_text[f'similarity_{topic}'] = scores\n",
        "\n",
        "df_clean_text.head()"
      ]
    },
    {
      "cell_type": "markdown",
      "metadata": {
        "id": "pnQhJ8ZOD-6D"
      },
      "source": [
        "# ML model Implementations & Evaluations"
      ]
    },
    {
      "cell_type": "markdown",
      "source": [
        "## Data Preperation: (Train/Validation/Test Split)"
      ],
      "metadata": {
        "id": "EQhli0ZldAWp"
      }
    },
    {
      "cell_type": "code",
      "source": [
        "from sklearn.model_selection import GridSearchCV\n",
        "from sklearn.svm import LinearSVC\n",
        "from sklearn.svm import SVC\n",
        "from sklearn.metrics import accuracy_score\n",
        "from sklearn.metrics import confusion_matrix\n",
        "\n",
        "X = df_clean_text[['similarity_politics', 'similarity_buisness', 'similarity_entertainment', 'similarity_sport', 'similarity_tech']]\n",
        "y = df_clean_text['category']\n",
        "\n",
        "X_train, X_test, y_train, y_test = train_test_split(X, y, test_size=0.2, random_state=1, stratify=y)"
      ],
      "metadata": {
        "id": "3ezZS8EjdHru"
      },
      "execution_count": null,
      "outputs": []
    },
    {
      "cell_type": "markdown",
      "source": [
        "## ------------------------------------------------ SVM ------------------------------------------------"
      ],
      "metadata": {
        "id": "H6lvcYLTZg7h"
      }
    },
    {
      "cell_type": "code",
      "execution_count": null,
      "metadata": {
        "id": "kalaUu38i6Aj",
        "colab": {
          "base_uri": "https://localhost:8080/",
          "height": 136
        },
        "outputId": "b6310b90-3d33-4883-fad1-dbb410a59635"
      },
      "outputs": [
        {
          "output_type": "stream",
          "name": "stdout",
          "text": [
            "Fitting 5 folds for each of 3 candidates, totalling 15 fits\n"
          ]
        },
        {
          "output_type": "execute_result",
          "data": {
            "text/plain": [
              "GridSearchCV(cv=5, estimator=SVC(random_state=42), n_jobs=-1,\n",
              "             param_grid={'C': [0.1, 1.1, 0.1], 'class_weight': ['balanced']},\n",
              "             scoring='balanced_accuracy', verbose=1)"
            ],
            "text/html": [
              "<style>#sk-container-id-1 {color: black;background-color: white;}#sk-container-id-1 pre{padding: 0;}#sk-container-id-1 div.sk-toggleable {background-color: white;}#sk-container-id-1 label.sk-toggleable__label {cursor: pointer;display: block;width: 100%;margin-bottom: 0;padding: 0.3em;box-sizing: border-box;text-align: center;}#sk-container-id-1 label.sk-toggleable__label-arrow:before {content: \"▸\";float: left;margin-right: 0.25em;color: #696969;}#sk-container-id-1 label.sk-toggleable__label-arrow:hover:before {color: black;}#sk-container-id-1 div.sk-estimator:hover label.sk-toggleable__label-arrow:before {color: black;}#sk-container-id-1 div.sk-toggleable__content {max-height: 0;max-width: 0;overflow: hidden;text-align: left;background-color: #f0f8ff;}#sk-container-id-1 div.sk-toggleable__content pre {margin: 0.2em;color: black;border-radius: 0.25em;background-color: #f0f8ff;}#sk-container-id-1 input.sk-toggleable__control:checked~div.sk-toggleable__content {max-height: 200px;max-width: 100%;overflow: auto;}#sk-container-id-1 input.sk-toggleable__control:checked~label.sk-toggleable__label-arrow:before {content: \"▾\";}#sk-container-id-1 div.sk-estimator input.sk-toggleable__control:checked~label.sk-toggleable__label {background-color: #d4ebff;}#sk-container-id-1 div.sk-label input.sk-toggleable__control:checked~label.sk-toggleable__label {background-color: #d4ebff;}#sk-container-id-1 input.sk-hidden--visually {border: 0;clip: rect(1px 1px 1px 1px);clip: rect(1px, 1px, 1px, 1px);height: 1px;margin: -1px;overflow: hidden;padding: 0;position: absolute;width: 1px;}#sk-container-id-1 div.sk-estimator {font-family: monospace;background-color: #f0f8ff;border: 1px dotted black;border-radius: 0.25em;box-sizing: border-box;margin-bottom: 0.5em;}#sk-container-id-1 div.sk-estimator:hover {background-color: #d4ebff;}#sk-container-id-1 div.sk-parallel-item::after {content: \"\";width: 100%;border-bottom: 1px solid gray;flex-grow: 1;}#sk-container-id-1 div.sk-label:hover label.sk-toggleable__label {background-color: #d4ebff;}#sk-container-id-1 div.sk-serial::before {content: \"\";position: absolute;border-left: 1px solid gray;box-sizing: border-box;top: 0;bottom: 0;left: 50%;z-index: 0;}#sk-container-id-1 div.sk-serial {display: flex;flex-direction: column;align-items: center;background-color: white;padding-right: 0.2em;padding-left: 0.2em;position: relative;}#sk-container-id-1 div.sk-item {position: relative;z-index: 1;}#sk-container-id-1 div.sk-parallel {display: flex;align-items: stretch;justify-content: center;background-color: white;position: relative;}#sk-container-id-1 div.sk-item::before, #sk-container-id-1 div.sk-parallel-item::before {content: \"\";position: absolute;border-left: 1px solid gray;box-sizing: border-box;top: 0;bottom: 0;left: 50%;z-index: -1;}#sk-container-id-1 div.sk-parallel-item {display: flex;flex-direction: column;z-index: 1;position: relative;background-color: white;}#sk-container-id-1 div.sk-parallel-item:first-child::after {align-self: flex-end;width: 50%;}#sk-container-id-1 div.sk-parallel-item:last-child::after {align-self: flex-start;width: 50%;}#sk-container-id-1 div.sk-parallel-item:only-child::after {width: 0;}#sk-container-id-1 div.sk-dashed-wrapped {border: 1px dashed gray;margin: 0 0.4em 0.5em 0.4em;box-sizing: border-box;padding-bottom: 0.4em;background-color: white;}#sk-container-id-1 div.sk-label label {font-family: monospace;font-weight: bold;display: inline-block;line-height: 1.2em;}#sk-container-id-1 div.sk-label-container {text-align: center;}#sk-container-id-1 div.sk-container {/* jupyter's `normalize.less` sets `[hidden] { display: none; }` but bootstrap.min.css set `[hidden] { display: none !important; }` so we also need the `!important` here to be able to override the default hidden behavior on the sphinx rendered scikit-learn.org. See: https://github.com/scikit-learn/scikit-learn/issues/21755 */display: inline-block !important;position: relative;}#sk-container-id-1 div.sk-text-repr-fallback {display: none;}</style><div id=\"sk-container-id-1\" class=\"sk-top-container\"><div class=\"sk-text-repr-fallback\"><pre>GridSearchCV(cv=5, estimator=SVC(random_state=42), n_jobs=-1,\n",
              "             param_grid={&#x27;C&#x27;: [0.1, 1.1, 0.1], &#x27;class_weight&#x27;: [&#x27;balanced&#x27;]},\n",
              "             scoring=&#x27;balanced_accuracy&#x27;, verbose=1)</pre><b>In a Jupyter environment, please rerun this cell to show the HTML representation or trust the notebook. <br />On GitHub, the HTML representation is unable to render, please try loading this page with nbviewer.org.</b></div><div class=\"sk-container\" hidden><div class=\"sk-item sk-dashed-wrapped\"><div class=\"sk-label-container\"><div class=\"sk-label sk-toggleable\"><input class=\"sk-toggleable__control sk-hidden--visually\" id=\"sk-estimator-id-1\" type=\"checkbox\" ><label for=\"sk-estimator-id-1\" class=\"sk-toggleable__label sk-toggleable__label-arrow\">GridSearchCV</label><div class=\"sk-toggleable__content\"><pre>GridSearchCV(cv=5, estimator=SVC(random_state=42), n_jobs=-1,\n",
              "             param_grid={&#x27;C&#x27;: [0.1, 1.1, 0.1], &#x27;class_weight&#x27;: [&#x27;balanced&#x27;]},\n",
              "             scoring=&#x27;balanced_accuracy&#x27;, verbose=1)</pre></div></div></div><div class=\"sk-parallel\"><div class=\"sk-parallel-item\"><div class=\"sk-item\"><div class=\"sk-label-container\"><div class=\"sk-label sk-toggleable\"><input class=\"sk-toggleable__control sk-hidden--visually\" id=\"sk-estimator-id-2\" type=\"checkbox\" ><label for=\"sk-estimator-id-2\" class=\"sk-toggleable__label sk-toggleable__label-arrow\">estimator: SVC</label><div class=\"sk-toggleable__content\"><pre>SVC(random_state=42)</pre></div></div></div><div class=\"sk-serial\"><div class=\"sk-item\"><div class=\"sk-estimator sk-toggleable\"><input class=\"sk-toggleable__control sk-hidden--visually\" id=\"sk-estimator-id-3\" type=\"checkbox\" ><label for=\"sk-estimator-id-3\" class=\"sk-toggleable__label sk-toggleable__label-arrow\">SVC</label><div class=\"sk-toggleable__content\"><pre>SVC(random_state=42)</pre></div></div></div></div></div></div></div></div></div></div>"
            ]
          },
          "metadata": {},
          "execution_count": 42
        }
      ],
      "source": [
        "# We use gridsearch for hyperparameter tuning\n",
        "param_grid = {\n",
        "    'C': [0.1, 1.1, 0.1],\n",
        "    'class_weight': ['balanced']\n",
        "}\n",
        "\n",
        "svc = SVC(kernel='rbf', gamma='auto')\n",
        "\n",
        "# svc_with_gs = GridSearchCV(estimator = svc, param_grid=param_grid, cv = 5,\n",
        "#                            scoring = 'balanced_accuracy', refit=True,\n",
        "#                            return_train_score = False, n_jobs = -1, verbose=1)\n",
        "\n",
        "svc_with_gs = GridSearchCV(SVC(kernel='rbf', random_state=42), param_grid, cv=5,\n",
        "                           scoring = 'balanced_accuracy', refit=True,\n",
        "                           return_train_score = False, n_jobs = -1, verbose=1)\n",
        "\n",
        "svc_with_gs.fit(X_train, y_train)"
      ]
    },
    {
      "cell_type": "markdown",
      "metadata": {
        "id": "viOCGYJ6ECTS"
      },
      "source": [
        "### Performance Evaluation"
      ]
    },
    {
      "cell_type": "markdown",
      "metadata": {
        "id": "fyIRsalZEntv"
      },
      "source": [
        "\n",
        "*   Accuracy - **Done**\n",
        "*   Confusion Matrix - **Done**\n",
        "*   Precision-Recall curve - **Done**\n",
        "*   Receiver-Operating-Characteristic (ROC) & Area Under the ROC curve (AUC) - **Done**\n",
        "*   Mean Average Precision (MAP) - **Done**\n",
        "*   R-precision - **Done**\n"
      ]
    },
    {
      "cell_type": "markdown",
      "source": [
        "#### Validation Score"
      ],
      "metadata": {
        "id": "HLhSiY1udiQu"
      }
    },
    {
      "cell_type": "markdown",
      "source": [
        "#### Accuracy\n"
      ],
      "metadata": {
        "id": "UW3Dv-kkhCD9"
      }
    },
    {
      "cell_type": "code",
      "source": [
        "y_pred_svm = svc_with_gs.predict(X_test)\n",
        "accuracy_svm = accuracy_score(y_test, y_pred_svm)\n",
        "print(\"Accuracy:\", accuracy_svm)"
      ],
      "metadata": {
        "colab": {
          "base_uri": "https://localhost:8080/"
        },
        "id": "bXVft0tjg-jK",
        "outputId": "d4f7ac3a-2a43-4b93-e014-579fcdc96973"
      },
      "execution_count": null,
      "outputs": [
        {
          "output_type": "stream",
          "name": "stdout",
          "text": [
            "Accuracy: 0.8539325842696629\n"
          ]
        }
      ]
    },
    {
      "cell_type": "markdown",
      "source": [
        "#### Confusion Matrix"
      ],
      "metadata": {
        "id": "WrHUXS_bhFF9"
      }
    },
    {
      "cell_type": "code",
      "source": [
        "conf_matrix = confusion_matrix(y_test, y_pred_svm)\n",
        "\n",
        "plt.figure(figsize=(8, 6))\n",
        "sns.heatmap(conf_matrix, annot=True, fmt=\"d\", cmap=\"Blues\", cbar=False,\n",
        "            xticklabels=['Politics', 'Sport', 'Technology', 'Entertainment', 'Business'],\n",
        "            yticklabels=['Politics', 'Sport', 'Technology', 'Entertainment', 'Business'])\n",
        "plt.xlabel('Predicted')\n",
        "plt.ylabel('True')\n",
        "plt.title('Confusion Matrix')\n",
        "plt.show()"
      ],
      "metadata": {
        "colab": {
          "base_uri": "https://localhost:8080/",
          "height": 564
        },
        "id": "HxrLoeMSg967",
        "outputId": "aa6af761-dc1b-4976-ea23-a4fb869ca352"
      },
      "execution_count": null,
      "outputs": [
        {
          "output_type": "display_data",
          "data": {
            "text/plain": [
              "<Figure size 800x600 with 1 Axes>"
            ],
            "image/png": "[encoded data removed]"
          },
          "metadata": {}
        }
      ]
    },
    {
      "cell_type": "markdown",
      "source": [
        "#### Precision-Recall curve"
      ],
      "metadata": {
        "id": "nKKroBymmo5U"
      }
    },
    {
      "cell_type": "code",
      "source": [
        "from sklearn.metrics import precision_recall_curve\n",
        "from sklearn.metrics import average_precision_score\n",
        "import matplotlib.pyplot as plt\n",
        "\n",
        "plt.figure(figsize=(8, 6))\n",
        "for i in range(5):\n",
        "    precision, recall, thresholds = precision_recall_curve(y_test == i, y_pred_svm == i)\n",
        "    average_precision = average_precision_score(y_test == i, y_pred_svm == i)\n",
        "    plt.plot(recall, precision, label=f'Class {i}'.format(i, average_precision))\n",
        "\n",
        "\n",
        "plt.xlabel('Recall')\n",
        "plt.ylabel('Precision')\n",
        "plt.ylim([0.0, 1.05])\n",
        "plt.xlim([0.0, 1.0])\n",
        "plt.title('Precision-Recall curve for each class')\n",
        "plt.legend(loc='best')\n",
        "plt.show()"
      ],
      "metadata": {
        "colab": {
          "base_uri": "https://localhost:8080/",
          "height": 564
        },
        "id": "n3Pcckg5mrcj",
        "outputId": "404c4bf5-baab-4a46-f512-c57b615dc624"
      },
      "execution_count": null,
      "outputs": [
        {
          "output_type": "display_data",
          "data": {
            "text/plain": [
              "<Figure size 800x600 with 1 Axes>"
            ],
            "image/png": "[encoded data removed]"
          },
          "metadata": {}
        }
      ]
    },
    {
      "cell_type": "markdown",
      "source": [
        "#### ROC & AUC"
      ],
      "metadata": {
        "id": "_tMSFSX24lEm"
      }
    },
    {
      "cell_type": "code",
      "source": [
        "from sklearn.metrics import roc_curve, roc_auc_score\n",
        "\n",
        "plt.figure(figsize=(8, 6))\n",
        "for i in range(5):\n",
        "    fpr, tpr, _ = roc_curve(y_test == i, y_pred_svm == i)\n",
        "    auc = roc_auc_score(y_test == i, y_pred_svm == i)\n",
        "    plt.plot(fpr, tpr, label=f'Class {i}'.format(i, auc))\n",
        "\n",
        "plt.plot([0, 1], [0, 1], color='gray', linestyle='--')\n",
        "plt.xlabel('False Positive Rate')\n",
        "plt.ylabel('True Positive Rate')\n",
        "plt.title('Receiver Operating Characteristic (ROC) curve for each class')\n",
        "plt.legend(loc='best')\n",
        "plt.show()"
      ],
      "metadata": {
        "id": "F-KZp-zPyJv4",
        "colab": {
          "base_uri": "https://localhost:8080/",
          "height": 564
        },
        "outputId": "95d9985b-2bef-4dea-ef75-8b66430ede1a"
      },
      "execution_count": null,
      "outputs": [
        {
          "output_type": "display_data",
          "data": {
            "text/plain": [
              "<Figure size 800x600 with 1 Axes>"
            ],
            "image/png": "[encoded data removed]"
          },
          "metadata": {}
        }
      ]
    },
    {
      "cell_type": "markdown",
      "source": [
        "#### Mean Average Precision"
      ],
      "metadata": {
        "id": "nF_6tSW5Z0Dj"
      }
    },
    {
      "cell_type": "code",
      "source": [
        "from sklearn.metrics import average_precision_score\n",
        "\n",
        "# Calculate Average Precision (AP) for each class\n",
        "AP = []\n",
        "for i in range(5):  # Assuming 5 classes\n",
        "    AP.append(average_precision_score(y_test == i, y_pred_svm == i))\n",
        "\n",
        "# Calculate Mean Average Precision (MAP)\n",
        "MAP = sum(AP) / len(AP)\n",
        "print(\"Mean Average Precision (MAP):\", MAP)"
      ],
      "metadata": {
        "id": "RqS8kd-aZ4bS",
        "colab": {
          "base_uri": "https://localhost:8080/"
        },
        "outputId": "419bcb5a-61d8-4747-f9d2-f2baca6969e8"
      },
      "execution_count": null,
      "outputs": [
        {
          "output_type": "stream",
          "name": "stdout",
          "text": [
            "Mean Average Precision (MAP): 0.7631667448792152\n"
          ]
        }
      ]
    },
    {
      "cell_type": "markdown",
      "source": [
        "#### R-precision"
      ],
      "metadata": {
        "id": "VPtyn7C2Z35a"
      }
    },
    {
      "cell_type": "code",
      "source": [
        "# Calculate R-precision\n",
        "R_precision = AP[0]  # Assuming R is the precision at the first rank\n",
        "\n",
        "print(\"R-precision:\", R_precision)"
      ],
      "metadata": {
        "id": "gPin9rt8Z44q",
        "colab": {
          "base_uri": "https://localhost:8080/"
        },
        "outputId": "563661a7-fd52-438e-ba52-22e798a56a8e"
      },
      "execution_count": null,
      "outputs": [
        {
          "output_type": "stream",
          "name": "stdout",
          "text": [
            "R-precision: 0.7468105344509839\n"
          ]
        }
      ]
    },
    {
      "cell_type": "markdown",
      "source": [
        "## ------------------------------------------------ Random Forest ------------------------------------------------"
      ],
      "metadata": {
        "id": "u4UIuqtrXG_m"
      }
    },
    {
      "cell_type": "code",
      "source": [
        "from sklearn.ensemble import RandomForestClassifier\n",
        "\n",
        "model_rf = RandomForestClassifier(n_estimators=100, random_state=1)\n",
        "model_rf.fit(X_train, y_train)\n",
        "\n",
        "# Step 4: Model Evaluation\n",
        "y_pred_rf = model_rf.predict(X_test)\n",
        "accuracy_rf = accuracy_score(y_test, y_pred_rf)\n",
        "print(\"Accuracy:\", accuracy_rf)"
      ],
      "metadata": {
        "colab": {
          "base_uri": "https://localhost:8080/"
        },
        "id": "UUT9Pg8kXGAu",
        "outputId": "e62602f6-d600-42cf-e2f8-1e1924b9a45b"
      },
      "execution_count": null,
      "outputs": [
        {
          "output_type": "stream",
          "name": "stdout",
          "text": [
            "Accuracy: 0.8629213483146068\n"
          ]
        }
      ]
    },
    {
      "cell_type": "markdown",
      "source": [
        "### Performance Evaluation"
      ],
      "metadata": {
        "id": "9sI-7csxZxFP"
      }
    },
    {
      "cell_type": "code",
      "source": [
        "conf_matrix = confusion_matrix(y_test, y_pred_rf)\n",
        "\n",
        "plt.figure(figsize=(8, 6))\n",
        "sns.heatmap(conf_matrix, annot=True, fmt=\"d\", cmap=\"Blues\", cbar=False,\n",
        "            xticklabels=['Politics', 'Sport', 'Technology', 'Entertainment', 'Business'],\n",
        "            yticklabels=['Politics', 'Sport', 'Technology', 'Entertainment', 'Business'])\n",
        "plt.xlabel('Predicted')\n",
        "plt.ylabel('True')\n",
        "plt.title('Confusion Matrix')\n",
        "plt.show()"
      ],
      "metadata": {
        "colab": {
          "base_uri": "https://localhost:8080/",
          "height": 564
        },
        "id": "GCd8APWKYXSr",
        "outputId": "d8d9e7ce-6884-45e0-99c2-712f1f034ab0"
      },
      "execution_count": null,
      "outputs": [
        {
          "output_type": "display_data",
          "data": {
            "text/plain": [
              "<Figure size 800x600 with 1 Axes>"
            ],
            "image/png": "[encoded data removed]"
          },
          "metadata": {}
        }
      ]
    },
    {
      "cell_type": "code",
      "source": [
        "plt.figure(figsize=(8, 6))\n",
        "for i in range(5):\n",
        "    precision, recall, thresholds = precision_recall_curve(y_test == i, y_pred_rf == i)\n",
        "    average_precision = average_precision_score(y_test == i, y_pred_rf == i)\n",
        "    plt.plot(recall, precision, label=f'Class {i}'.format(i, average_precision))\n",
        "\n",
        "\n",
        "plt.xlabel('Recall')\n",
        "plt.ylabel('Precision')\n",
        "plt.ylim([0.0, 1.05])\n",
        "plt.xlim([0.0, 1.0])\n",
        "plt.title('Precision-Recall curve for each class')\n",
        "plt.legend(loc='best')\n",
        "plt.show()"
      ],
      "metadata": {
        "colab": {
          "base_uri": "https://localhost:8080/",
          "height": 564
        },
        "id": "S6bMG9keYZeL",
        "outputId": "078ef122-6e26-472b-db08-94e29839be7b"
      },
      "execution_count": null,
      "outputs": [
        {
          "output_type": "display_data",
          "data": {
            "text/plain": [
              "<Figure size 800x600 with 1 Axes>"
            ],
            "image/png": "[encoded data removed]"
          },
          "metadata": {}
        }
      ]
    },
    {
      "cell_type": "code",
      "source": [
        "plt.figure(figsize=(8, 6))\n",
        "for i in range(5):\n",
        "    fpr, tpr, _ = roc_curve(y_test == i, y_pred_rf == i)\n",
        "    auc = roc_auc_score(y_test == i, y_pred_rf == i)\n",
        "    plt.plot(fpr, tpr, label=f'Class {i}'.format(i, auc))\n",
        "\n",
        "plt.plot([0, 1], [0, 1], color='gray', linestyle='--')\n",
        "plt.xlabel('False Positive Rate')\n",
        "plt.ylabel('True Positive Rate')\n",
        "plt.title('Receiver Operating Characteristic (ROC) curve for each class')\n",
        "plt.legend(loc='best')\n",
        "plt.show()"
      ],
      "metadata": {
        "colab": {
          "base_uri": "https://localhost:8080/",
          "height": 564
        },
        "id": "XoUnPFwGYb5i",
        "outputId": "135e67f1-6644-406f-8f68-8b9480b1adbf"
      },
      "execution_count": null,
      "outputs": [
        {
          "output_type": "display_data",
          "data": {
            "text/plain": [
              "<Figure size 800x600 with 1 Axes>"
            ],
            "image/png": "[encoded data removed]"
          },
          "metadata": {}
        }
      ]
    },
    {
      "cell_type": "code",
      "source": [
        "# Calculate Average Precision (AP) for each class\n",
        "AP = []\n",
        "for i in range(5):  # Assuming 5 classes\n",
        "    AP.append(average_precision_score(y_test == i, y_pred_rf == i))\n",
        "\n",
        "# Calculate Mean Average Precision (MAP)\n",
        "MAP = sum(AP) / len(AP)\n",
        "print(\"Mean Average Precision (MAP):\", MAP)"
      ],
      "metadata": {
        "colab": {
          "base_uri": "https://localhost:8080/"
        },
        "id": "yD5SKA95YtHE",
        "outputId": "31c36c4e-2c80-4302-b660-b81d30c09bd0"
      },
      "execution_count": null,
      "outputs": [
        {
          "output_type": "stream",
          "name": "stdout",
          "text": [
            "Mean Average Precision (MAP): 0.772415635831285\n"
          ]
        }
      ]
    },
    {
      "cell_type": "code",
      "source": [
        "# Calculate R-precision\n",
        "R_precision = AP[0]  # Assuming R is the precision at the first rank\n",
        "\n",
        "print(\"R-precision:\", R_precision)"
      ],
      "metadata": {
        "colab": {
          "base_uri": "https://localhost:8080/"
        },
        "id": "SLhvd76GYwa8",
        "outputId": "d31edcff-5f0b-4a20-c9ff-846f8a457d83"
      },
      "execution_count": null,
      "outputs": [
        {
          "output_type": "stream",
          "name": "stdout",
          "text": [
            "R-precision: 0.761065980242467\n"
          ]
        }
      ]
    },
    {
      "cell_type": "markdown",
      "source": [
        "# Testing With Users"
      ],
      "metadata": {
        "id": "3-HYS_mAy_X4"
      }
    },
    {
      "cell_type": "code",
      "source": [
        "users_topics_dict"
      ],
      "metadata": {
        "colab": {
          "base_uri": "https://localhost:8080/"
        },
        "id": "Gu7RnrLHy-wi",
        "outputId": "cd458826-6dd0-4888-dcb9-400aae1afde9"
      },
      "execution_count": null,
      "outputs": [
        {
          "output_type": "execute_result",
          "data": {
            "text/plain": [
              "{'User #1': ['entertainment', 'tech'],\n",
              " 'User #2': ['tech', 'business'],\n",
              " 'User #3': ['business', 'sport', 'entertainment', 'tech'],\n",
              " 'User #4': ['tech', 'business'],\n",
              " 'User #5': ['politics', 'sport', 'entertainment']}"
            ]
          },
          "metadata": {},
          "execution_count": 171
        }
      ]
    },
    {
      "cell_type": "code",
      "source": [
        "def compute_single_headline_embeddings(headline):\n",
        "  embeddings = []\n",
        "  tokens = preprocess_text(headline)\n",
        "  if tokens:  # Check if there are valid tokens\n",
        "      headline_embedding = np.mean([glove_embeddings[token] for token in tokens if token in glove_embeddings], axis=0)\n",
        "      embeddings.append(headline_embedding)\n",
        "\n",
        "  return np.array(embeddings)"
      ],
      "metadata": {
        "id": "ILrzPimfpS-G"
      },
      "execution_count": null,
      "outputs": []
    },
    {
      "cell_type": "code",
      "source": [
        "def data_process(data):\n",
        "\n",
        "  l_data = data.lower()\n",
        "  removed_punc = remove_punctuation(data)\n",
        "  tokens = word_tokenize(removed_punc.lower())\n",
        "  removed_stop_words = remove_stop_words(tokens)\n",
        "  lemmatized_words = lemmatize(removed_stop_words)\n",
        "  clean_text_corpus = return_clean_text(lemmatized_words)\n",
        "\n",
        "  #print(clean_text_corpus)\n",
        "  corpus_embedding = compute_single_headline_embeddings(clean_text_corpus)\n",
        "  corpus_similarities = compute_cosine_similarities(corpus_embedding, topic_embeddings)\n",
        "\n",
        "  df_corpus = pd.DataFrame(corpus_similarities, index=[0])\n",
        "  df_corpus = df_corpus.rename(columns={'politics': 'similarity_politics', 'buisness': 'similarity_buisness', 'entertainment': 'similarity_entertainment', 'sport': 'similarity_sport', 'tech': 'similarity_tech'})\n",
        "\n",
        "  return df_corpus"
      ],
      "metadata": {
        "id": "3EpmUvXI3LIX"
      },
      "execution_count": null,
      "outputs": []
    },
    {
      "cell_type": "code",
      "source": [
        "\"\"\"\n",
        "Example corpus\n",
        "\n",
        "POLITICS\n",
        "WASHINGTON — President Trump on Monday ordered new restrictions on asylum seekers at the Mexican border — including application fees and work permit restraints — and directed that cases in the already clogged immigration courts be settled within 180 days. In a memo sent to Kevin McAleenan, the acting secretary of homeland security, and Attorney General William P. Barr, the president took another step to reshape asylum law, which is determined by Congress, from the White House. The restrictions do not take effect immediately. Mr. Trump gave administration officials 90 days to draw up regulations that would carry out his orders. They would be among the first significant changes to asylum policy since Mr. McAleenan replaced Kirstjen Nielsen as head of homeland security and the president signaled he would take a tougher stance on the asylum seekers swamping the border.\n",
        "\n",
        "ENTERTAINMENT\n",
        "The countdown is on, with Taylor Swift set to deliver fans her first new music since 2017's reputation album at 2pm today, AEST.vThe country-pop superstar has been teasing today's date across her socials for weeks, and is currently running a live countdown on her Instagram stories that has mere hours to go. And she's just divulged a few more details: The new single's called ME!, it features Panic! At The Disco frontman Brendon Urie, and the music video will drop at the same time as the track today. It marks a tight turnaround for the star, who released the harder-edged reputation album less than 18 months ago. That album was met with the most mixed reviews of Swift's career - but still sold 4.5 million copies worldwide. Swift's always been fond of teasing fans with clues to her new projects, and this time around it came in the form of a giant mural that sprung up on a city wall in Nashville. The mural shows a pair of wings, along with the title of Swift's new single, ME! After a quick call-out on Instagram, Swift today headed to the mural to pose with a horde of excited fans who'd pieced the clues together. \"I've never been more proud of your FBI level detective skills,\" she told the assembled Swifties.\n",
        "\n",
        "TECH\n",
        "Following the introduction of Apple’s iOS Screen Time feature, a number of app developers who created screen-tracking and parental control apps have been asked to change their products, or have been booted from the App Store completely, according to a new report in The New York Times. The Times says that “Apple has removed or restricted at least 11 of the 17 most downloaded screen-time and parental-control apps,” as well as a number of others. The report cites users who point out that Apple’s Screen Time app has some drawbacks that the popular third-party apps came with, like the ability to shut down certain apps, less-granular scheduling, and that children were able to work around Apple’s web-filtering tools. They also pointed out that third-party apps could be used across iOS and Android platforms, making it difficult for parents to oversee Android devices. The report features interviews with developers who found their apps pulled from the store abruptly, faced unclear and vague instructions for changes, or unresponsive support from the company. In many cases, the developers note that being booted from the App store can be devastating to their companies — Amir Moussavian the CEO of OurPact, says that 80 percent of its revenue came from the App Store. Apple maintains that the apps violated its rules, that third-party apps could gather too much data on devices, and that the actions weren’t related to the company’s debut of its own screen-monitoring tools. Earlier this week, developers for two apps, Kidslox and Qustodio, filed an antitrust complaint against Apple in the European Union, and last month, Kaspersky Lab filed an antitrust complaint after its own screen-time management app was removed from the store. They aren’t the first to be worried about the company’s reach when it comes to the App Store: Spotify filed an antitrust complaint of its own against Apple, saying that the technology company was giving itself an unfair advantage against third-party music streaming services.\n",
        "\n",
        "BUSINESS\n",
        "SAN FRANCISCO — Tesla CEO Elon Musk had prepped Wall Street for a first quarter loss but analysts were still stunned by its size: $702.1 million, among the company’s worst quarters in the past two years. The net loss was more than double what analysts had predicted as Tesla’s sales slumped 31% for the quarter. The loss of $4.10 per share left Musk spending much of a conference call explaining how it happened. But he also extolled his forecast that demand and profit margins will increase as Tesla rolls out updated products and pricing for its three models, and sells more battery storage units. Demand for Tesla’s Models S, X and 3 is returning to normal in the second quarter after the company delivered only 63,000 vehicles from January through March, Musk said. “My impression right now is that demand is quite solid, quite strong,” he said Wednesday. He predicted another loss in the second quarter but said Tesla would be back in the black in the third quarter. The first quarter loss came after two consecutive profitable quarters, the first time that’s happened in Tesla’s 15-year history. The company said that due to “unforeseen challenges” it was only able to deliver half of the vehicles ordered in the quarter by March 31 as it ramped up deliveries in Europe and China. That pushed a large number of deliveries, and revenue, into the current quarter, it said. Tesla’s cash balance at the end of the quarter shrunk by $1.5 billion since December, to $2.2 billion. The company attributed the decline to a $920 million bond payment, and Musk said it might be time for Tesla to raise capital again. Excluding one-time items and stock-based compensation, the company lost $2.90 per share, worse than Wall Street estimates. Analysts polled by FactSet expected a loss of $1.15 per share. Revenue rose almost 40% over a year ago to $3.5 billion. But it still fell short of analyst estimates of $5.42 billion. Despite the less-than-stellar numbers, Tesla’s stock was little changed in extended trading Wednesday following the earnings report. The company said one-time items cost it $188 million during the quarter, including a loss for predicted increases in return rates for cars that had been sold under Tesla’s used car price and buy back guarantee programs. Tesla has guaranteed the value of the cars after certain time periods and will buy them back for a guaranteed price. The company still expects to produce 360,000 to 400,000 vehicles this year, and if a new Chinese factory hits volume production at the end of the year, it could make 500,000. Tesla likely is nearing its “cash floor,” the amount it needs in the checking account to pay all the bills, said Gartner analyst Michael Ramsey. “It’s anxiety provoking,” Ramsey said. If Tesla continues burning cash at the first quarter rate, it would run out of money in less than six months. But Ramsey said that’s not likely. If Tesla can produce and sell all the vehicles that it predicts in the current quarter, it will generate a lot of cash, easing its problem. Tesla said it believes deliveries will hit 90,000 to 100,000 vehicles from April through June. Tesla, Ramsey said, has many supporters and shouldn’t have trouble borrowing money or issuing more stock to generate cash. The fact that Musk said it may be time to raise capital means “you can pretty much count on it,” Ramsey said. Musk also told analysts that the company has become more efficient as it tries to save cash. “I think it’s healthy to be on a Spartan diet for a while,” he said. Chief Financial Officer Zachary Kirkhorn, meanwhile, hinted on the conference call that Tesla will build its new semi starting next year at its factory near Reno, Nevada. That’s where the battery and electric drive units will be made, he said. And Musk said the company will decide in the next few weeks whether it will build the Model Y small SUV in Nevada or at its Fremont, California, factory. Deliveries are scheduled to start in the fall of 2020. Musk also said Wednesday that average prices for the Model 3 mass-market car are running around $50,000, with very few taking the $35,000 version. Another problem for Tesla is fading sales of its higher-priced models S and X as the vehicles age. But Tuesday night, the company announced updates to both, including a new drive system that increases the range by 10% per electric charge. Long-range versions of the S will be able to go 370 miles per charge, for example. The vehicles also will get new suspensions, faster acceleration and more comfortable rides, Tesla said. Profit margins on the S and X, which can run well over $100,000, should rise because the improvements actually save the company money, Musk said. Tesla has lost more than $6 billion since setting out to revolutionize the auto industry 15 years ago, but Musk foresees a profitable future fueled in part by a ride-hailing service made up of electric cars driven by robots. Musk believes Tesla’s technology is capable of letting the vehicles drive themselves. That terrifies some critics who worry Musk’s plan to transport passengers in self-driving Teslas without a human to take control in emergencies will maim and kill people.\n",
        "\n",
        "SPORT\n",
        "Leading Premier League players on Thursday have backed the Professional Footballers' Association's (PFA) campaign to boycott social media for 24 hours in a stand against racism. The PFA has urged professional players in England and Wales to post a #Enough graphic on their social media platforms before the boycott begins at 0800 GMT on Friday. The campaign is an attempt to increase the pressure on social media companies and the sport's governing bodies to take stronger action when responding to racist abuse, the PFA said in a statement. Tottenham Hotspur and England defender Danny Rose said: \"I don't want any future players to go through what I’ve been through in my career. \"Collectively, we are simply not willing to stand-by while too little is done by football authorities and social media companies to protect players from this disgusting abuse. Manchester United defender Chris Smalling also backed the campaign, just days after his team mate Ashley Young was racially abused on Twitter following his side's Champions League exit in Barcelona. \"Throughout my career I have developed a thick skin against verbal abuse, justifying it as just 'part of the game' but the time has come for Twitter, Instagram and Facebook to consider regulating their channels,\" Smalling said. Watford captain Troy Deeney, who disabled comments on his Instagram after abuse earlier this month, said: \"On Friday we are sending a message to anyone that abuses players - or anyone else - whether from the crowd or online, that we won't tolerate it within football. \"The boycott is just one small step, but the players are speaking out with one voice against racism.\" The PFA said the boycott was the \"first step in a longer campaign to tackle racism in football\".\n",
        "\"\"\"\n",
        "\n",
        "print(f'These are the users at hand:\\n')\n",
        "for user, topics in users_topics_dict.items():\n",
        "    print(f\"{user}: {topics}\\n\")\n",
        "\n",
        "while True:\n",
        "\n",
        "  try:\n",
        "    test_corpus = input(\"Paste here an article without newline character (Press 'q' to quit or 'c' to continue):\\n\")\n",
        "  except ValueError:\n",
        "    continue\n",
        "  if test_corpus == 'q':\n",
        "     break\n",
        "  if test_corpus == 'c':\n",
        "    print(f'These are the users at hand:')\n",
        "    for user, topics in users_topics_dict.items():\n",
        "      print(f\"{user}: {topics}\\n\")\n",
        "    continue\n",
        "  else:\n",
        "    print(\"\\n--------------------- With Random Forest---------------------\\n\")\n",
        "    result = model_rf.predict(data_process(test_corpus))\n",
        "\n",
        "\n",
        "    # Politics = 0, Sport = 1, Technology = 2, Entertainment =3, Business = 4\n",
        "\n",
        "    if(result == 0):\n",
        "      result = 'politics'\n",
        "      print(result)\n",
        "      topic = result\n",
        "    if(result == 1):\n",
        "      result = 'sport'\n",
        "      print(result)\n",
        "      topic = result\n",
        "    if(result == 2):\n",
        "      result = 'tech'\n",
        "      print(result)\n",
        "      topic = result\n",
        "    if(result == 3):\n",
        "      result = 'entertainment'\n",
        "      print(result)\n",
        "      topic = result\n",
        "    if(result == 4):\n",
        "      result = 'buisness'\n",
        "      print(result)\n",
        "      topic = result\n",
        "\n",
        "    print(f'This article talks about {topic} and the users concerned would be: \\n')\n",
        "\n",
        "    users_with_topic = [user for user, topics in users_topics_dict.items() if topic in topics]\n",
        "\n",
        "    print(f\"Users interested in '{topic}': {users_with_topic}\\n\")\n",
        "\n",
        "  continue"
      ],
      "metadata": {
        "colab": {
          "base_uri": "https://localhost:8080/"
        },
        "id": "7ogq336c2LoX",
        "outputId": "e4d481bb-32e9-445f-a184-7b764ecb9a3d"
      },
      "execution_count": null,
      "outputs": [
        {
          "name": "stdout",
          "output_type": "stream",
          "text": [
            "These are the users at hand:\n",
            "\n",
            "User #1: ['entertainment', 'tech']\n",
            "\n",
            "User #2: ['tech', 'business']\n",
            "\n",
            "User #3: ['business', 'sport', 'entertainment', 'tech']\n",
            "\n",
            "User #4: ['tech', 'business']\n",
            "\n",
            "User #5: ['politics', 'sport', 'entertainment']\n",
            "\n",
            "Paste here an article without newline character (Press 'q' to quit or 'c' to continue):\n",
            "Following the introduction of Apple’s iOS Screen Time feature, a number of app developers who created screen-tracking and parental control apps have been asked to change their products, or have been booted from the App Store completely, according to a new report in The New York Times. The Times says that “Apple has removed or restricted at least 11 of the 17 most downloaded screen-time and parental-control apps,” as well as a number of others. The report cites users who point out that Apple’s Screen Time app has some drawbacks that the popular third-party apps came with, like the ability to shut down certain apps, less-granular scheduling, and that children were able to work around Apple’s web-filtering tools. They also pointed out that third-party apps could be used across iOS and Android platforms, making it difficult for parents to oversee Android devices. The report features interviews with developers who found their apps pulled from the store abruptly, faced unclear and vague instructions for changes, or unresponsive support from the company. In many cases, the developers note that being booted from the App store can be devastating to their companies — Amir Moussavian the CEO of OurPact, says that 80 percent of its revenue came from the App Store. Apple maintains that the apps violated its rules, that third-party apps could gather too much data on devices, and that the actions weren’t related to the company’s debut of its own screen-monitoring tools. Earlier this week, developers for two apps, Kidslox and Qustodio, filed an antitrust complaint against Apple in the European Union, and last month, Kaspersky Lab filed an antitrust complaint after its own screen-time management app was removed from the store. They aren’t the first to be worried about the company’s reach when it comes to the App Store: Spotify filed an antitrust complaint of its own against Apple, saying that the technology company was giving itself an unfair advantage against third-party music streaming services.\n",
            "\n",
            "--------------------- With Random Forest---------------------\n",
            "\n",
            "tech\n",
            "This article talks about tech and the users concerned would be: \n",
            "\n",
            "Users interested in 'tech': ['User #1', 'User #2', 'User #3', 'User #4']\n",
            "\n",
            "Paste here an article without newline character (Press 'q' to quit or 'c' to continue):\n",
            "q\n"
          ]
        }
      ]
    }
  ],
  "metadata": {
    "colab": {
      "provenance": []
    },
    "kernelspec": {
      "display_name": "Python 3",
      "name": "python3"
    },
    "language_info": {
      "name": "python"
    },
    "widgets": {
      "application/vnd.jupyter.widget-state+json": {
        "137d5f4a0132474fa76ee9e3ae5d022b": {
          "model_module": "@jupyter-widgets/controls",
          "model_name": "HBoxModel",
          "model_module_version": "1.5.0",
          "state": {
            "_dom_classes": [],
            "_model_module": "@jupyter-widgets/controls",
            "_model_module_version": "1.5.0",
            "_model_name": "HBoxModel",
            "_view_count": null,
            "_view_module": "@jupyter-widgets/controls",
            "_view_module_version": "1.5.0",
            "_view_name": "HBoxView",
            "box_style": "",
            "children": [
              "IPY_MODEL_5f9aacc5b4384f42a9ee6f8e024b592b",
              "IPY_MODEL_5ed2d7bdabd9441690e759b9d844d751",
              "IPY_MODEL_2efa7d5c2b9a40dda8aaddd17df8a1ce"
            ],
            "layout": "IPY_MODEL_2c00d5d5d8244023b33e539ae6a70247"
          }
        },
        "5f9aacc5b4384f42a9ee6f8e024b592b": {
          "model_module": "@jupyter-widgets/controls",
          "model_name": "HTMLModel",
          "model_module_version": "1.5.0",
          "state": {
            "_dom_classes": [],
            "_model_module": "@jupyter-widgets/controls",
            "_model_module_version": "1.5.0",
            "_model_name": "HTMLModel",
            "_view_count": null,
            "_view_module": "@jupyter-widgets/controls",
            "_view_module_version": "1.5.0",
            "_view_name": "HTMLView",
            "description": "",
            "description_tooltip": null,
            "layout": "IPY_MODEL_eff73d2bed7a4efbae2f7c67fec831b2",
            "placeholder": "​",
            "style": "IPY_MODEL_d6c95dab40ad41b99f38d75697f4c122",
            "value": "100%"
          }
        },
        "5ed2d7bdabd9441690e759b9d844d751": {
          "model_module": "@jupyter-widgets/controls",
          "model_name": "FloatProgressModel",
          "model_module_version": "1.5.0",
          "state": {
            "_dom_classes": [],
            "_model_module": "@jupyter-widgets/controls",
            "_model_module_version": "1.5.0",
            "_model_name": "FloatProgressModel",
            "_view_count": null,
            "_view_module": "@jupyter-widgets/controls",
            "_view_module_version": "1.5.0",
            "_view_name": "ProgressView",
            "bar_style": "success",
            "description": "",
            "description_tooltip": null,
            "layout": "IPY_MODEL_c926dbbed8ee45c59d7b4ec6f45c4969",
            "max": 2225,
            "min": 0,
            "orientation": "horizontal",
            "style": "IPY_MODEL_575a5e3240cc47cdab2f676cb48253fd",
            "value": 2225
          }
        },
        "2efa7d5c2b9a40dda8aaddd17df8a1ce": {
          "model_module": "@jupyter-widgets/controls",
          "model_name": "HTMLModel",
          "model_module_version": "1.5.0",
          "state": {
            "_dom_classes": [],
            "_model_module": "@jupyter-widgets/controls",
            "_model_module_version": "1.5.0",
            "_model_name": "HTMLModel",
            "_view_count": null,
            "_view_module": "@jupyter-widgets/controls",
            "_view_module_version": "1.5.0",
            "_view_name": "HTMLView",
            "description": "",
            "description_tooltip": null,
            "layout": "IPY_MODEL_9857129ea69c48bf9c0159051c445917",
            "placeholder": "​",
            "style": "IPY_MODEL_35f7052badc44455b95578b04b5a2ca6",
            "value": " 2225/2225 [00:00&lt;00:00, 3766.97it/s]"
          }
        },
        "2c00d5d5d8244023b33e539ae6a70247": {
          "model_module": "@jupyter-widgets/base",
          "model_name": "LayoutModel",
          "model_module_version": "1.2.0",
          "state": {
            "_model_module": "@jupyter-widgets/base",
            "_model_module_version": "1.2.0",
            "_model_name": "LayoutModel",
            "_view_count": null,
            "_view_module": "@jupyter-widgets/base",
            "_view_module_version": "1.2.0",
            "_view_name": "LayoutView",
            "align_content": null,
            "align_items": null,
            "align_self": null,
            "border": null,
            "bottom": null,
            "display": null,
            "flex": null,
            "flex_flow": null,
            "grid_area": null,
            "grid_auto_columns": null,
            "grid_auto_flow": null,
            "grid_auto_rows": null,
            "grid_column": null,
            "grid_gap": null,
            "grid_row": null,
            "grid_template_areas": null,
            "grid_template_columns": null,
            "grid_template_rows": null,
            "height": null,
            "justify_content": null,
            "justify_items": null,
            "left": null,
            "margin": null,
            "max_height": null,
            "max_width": null,
            "min_height": null,
            "min_width": null,
            "object_fit": null,
            "object_position": null,
            "order": null,
            "overflow": null,
            "overflow_x": null,
            "overflow_y": null,
            "padding": null,
            "right": null,
            "top": null,
            "visibility": null,
            "width": null
          }
        },
        "eff73d2bed7a4efbae2f7c67fec831b2": {
          "model_module": "@jupyter-widgets/base",
          "model_name": "LayoutModel",
          "model_module_version": "1.2.0",
          "state": {
            "_model_module": "@jupyter-widgets/base",
            "_model_module_version": "1.2.0",
            "_model_name": "LayoutModel",
            "_view_count": null,
            "_view_module": "@jupyter-widgets/base",
            "_view_module_version": "1.2.0",
            "_view_name": "LayoutView",
            "align_content": null,
            "align_items": null,
            "align_self": null,
            "border": null,
            "bottom": null,
            "display": null,
            "flex": null,
            "flex_flow": null,
            "grid_area": null,
            "grid_auto_columns": null,
            "grid_auto_flow": null,
            "grid_auto_rows": null,
            "grid_column": null,
            "grid_gap": null,
            "grid_row": null,
            "grid_template_areas": null,
            "grid_template_columns": null,
            "grid_template_rows": null,
            "height": null,
            "justify_content": null,
            "justify_items": null,
            "left": null,
            "margin": null,
            "max_height": null,
            "max_width": null,
            "min_height": null,
            "min_width": null,
            "object_fit": null,
            "object_position": null,
            "order": null,
            "overflow": null,
            "overflow_x": null,
            "overflow_y": null,
            "padding": null,
            "right": null,
            "top": null,
            "visibility": null,
            "width": null
          }
        },
        "d6c95dab40ad41b99f38d75697f4c122": {
          "model_module": "@jupyter-widgets/controls",
          "model_name": "DescriptionStyleModel",
          "model_module_version": "1.5.0",
          "state": {
            "_model_module": "@jupyter-widgets/controls",
            "_model_module_version": "1.5.0",
            "_model_name": "DescriptionStyleModel",
            "_view_count": null,
            "_view_module": "@jupyter-widgets/base",
            "_view_module_version": "1.2.0",
            "_view_name": "StyleView",
            "description_width": ""
          }
        },
        "c926dbbed8ee45c59d7b4ec6f45c4969": {
          "model_module": "@jupyter-widgets/base",
          "model_name": "LayoutModel",
          "model_module_version": "1.2.0",
          "state": {
            "_model_module": "@jupyter-widgets/base",
            "_model_module_version": "1.2.0",
            "_model_name": "LayoutModel",
            "_view_count": null,
            "_view_module": "@jupyter-widgets/base",
            "_view_module_version": "1.2.0",
            "_view_name": "LayoutView",
            "align_content": null,
            "align_items": null,
            "align_self": null,
            "border": null,
            "bottom": null,
            "display": null,
            "flex": null,
            "flex_flow": null,
            "grid_area": null,
            "grid_auto_columns": null,
            "grid_auto_flow": null,
            "grid_auto_rows": null,
            "grid_column": null,
            "grid_gap": null,
            "grid_row": null,
            "grid_template_areas": null,
            "grid_template_columns": null,
            "grid_template_rows": null,
            "height": null,
            "justify_content": null,
            "justify_items": null,
            "left": null,
            "margin": null,
            "max_height": null,
            "max_width": null,
            "min_height": null,
            "min_width": null,
            "object_fit": null,
            "object_position": null,
            "order": null,
            "overflow": null,
            "overflow_x": null,
            "overflow_y": null,
            "padding": null,
            "right": null,
            "top": null,
            "visibility": null,
            "width": null
          }
        },
        "575a5e3240cc47cdab2f676cb48253fd": {
          "model_module": "@jupyter-widgets/controls",
          "model_name": "ProgressStyleModel",
          "model_module_version": "1.5.0",
          "state": {
            "_model_module": "@jupyter-widgets/controls",
            "_model_module_version": "1.5.0",
            "_model_name": "ProgressStyleModel",
            "_view_count": null,
            "_view_module": "@jupyter-widgets/base",
            "_view_module_version": "1.2.0",
            "_view_name": "StyleView",
            "bar_color": null,
            "description_width": ""
          }
        },
        "9857129ea69c48bf9c0159051c445917": {
          "model_module": "@jupyter-widgets/base",
          "model_name": "LayoutModel",
          "model_module_version": "1.2.0",
          "state": {
            "_model_module": "@jupyter-widgets/base",
            "_model_module_version": "1.2.0",
            "_model_name": "LayoutModel",
            "_view_count": null,
            "_view_module": "@jupyter-widgets/base",
            "_view_module_version": "1.2.0",
            "_view_name": "LayoutView",
            "align_content": null,
            "align_items": null,
            "align_self": null,
            "border": null,
            "bottom": null,
            "display": null,
            "flex": null,
            "flex_flow": null,
            "grid_area": null,
            "grid_auto_columns": null,
            "grid_auto_flow": null,
            "grid_auto_rows": null,
            "grid_column": null,
            "grid_gap": null,
            "grid_row": null,
            "grid_template_areas": null,
            "grid_template_columns": null,
            "grid_template_rows": null,
            "height": null,
            "justify_content": null,
            "justify_items": null,
            "left": null,
            "margin": null,
            "max_height": null,
            "max_width": null,
            "min_height": null,
            "min_width": null,
            "object_fit": null,
            "object_position": null,
            "order": null,
            "overflow": null,
            "overflow_x": null,
            "overflow_y": null,
            "padding": null,
            "right": null,
            "top": null,
            "visibility": null,
            "width": null
          }
        },
        "35f7052badc44455b95578b04b5a2ca6": {
          "model_module": "@jupyter-widgets/controls",
          "model_name": "DescriptionStyleModel",
          "model_module_version": "1.5.0",
          "state": {
            "_model_module": "@jupyter-widgets/controls",
            "_model_module_version": "1.5.0",
            "_model_name": "DescriptionStyleModel",
            "_view_count": null,
            "_view_module": "@jupyter-widgets/base",
            "_view_module_version": "1.2.0",
            "_view_name": "StyleView",
            "description_width": ""
          }
        },
        "fc647a9e6a8d470faf903c469d4820ed": {
          "model_module": "@jupyter-widgets/controls",
          "model_name": "HBoxModel",
          "model_module_version": "1.5.0",
          "state": {
            "_dom_classes": [],
            "_model_module": "@jupyter-widgets/controls",
            "_model_module_version": "1.5.0",
            "_model_name": "HBoxModel",
            "_view_count": null,
            "_view_module": "@jupyter-widgets/controls",
            "_view_module_version": "1.5.0",
            "_view_name": "HBoxView",
            "box_style": "",
            "children": [
              "IPY_MODEL_703786ecc278463394f09f920f08e1d2",
              "IPY_MODEL_85ff740ea9ad451bb0c3cad2741d5fd0",
              "IPY_MODEL_c4efd325f13b4ade96b5f4b3fe405c1d"
            ],
            "layout": "IPY_MODEL_4d1805ce242345a2b262d324a134f806"
          }
        },
        "703786ecc278463394f09f920f08e1d2": {
          "model_module": "@jupyter-widgets/controls",
          "model_name": "HTMLModel",
          "model_module_version": "1.5.0",
          "state": {
            "_dom_classes": [],
            "_model_module": "@jupyter-widgets/controls",
            "_model_module_version": "1.5.0",
            "_model_name": "HTMLModel",
            "_view_count": null,
            "_view_module": "@jupyter-widgets/controls",
            "_view_module_version": "1.5.0",
            "_view_name": "HTMLView",
            "description": "",
            "description_tooltip": null,
            "layout": "IPY_MODEL_3ed2c0cea5a84afa915e87a6aa75ab0b",
            "placeholder": "​",
            "style": "IPY_MODEL_4529883bcfab484187c664cc1a98724d",
            "value": "100%"
          }
        },
        "85ff740ea9ad451bb0c3cad2741d5fd0": {
          "model_module": "@jupyter-widgets/controls",
          "model_name": "FloatProgressModel",
          "model_module_version": "1.5.0",
          "state": {
            "_dom_classes": [],
            "_model_module": "@jupyter-widgets/controls",
            "_model_module_version": "1.5.0",
            "_model_name": "FloatProgressModel",
            "_view_count": null,
            "_view_module": "@jupyter-widgets/controls",
            "_view_module_version": "1.5.0",
            "_view_name": "ProgressView",
            "bar_style": "success",
            "description": "",
            "description_tooltip": null,
            "layout": "IPY_MODEL_9709700154304e5abcb3a9b5b4e3470f",
            "max": 2225,
            "min": 0,
            "orientation": "horizontal",
            "style": "IPY_MODEL_678516a00a5448e693f784f3cb0b6309",
            "value": 2225
          }
        },
        "c4efd325f13b4ade96b5f4b3fe405c1d": {
          "model_module": "@jupyter-widgets/controls",
          "model_name": "HTMLModel",
          "model_module_version": "1.5.0",
          "state": {
            "_dom_classes": [],
            "_model_module": "@jupyter-widgets/controls",
            "_model_module_version": "1.5.0",
            "_model_name": "HTMLModel",
            "_view_count": null,
            "_view_module": "@jupyter-widgets/controls",
            "_view_module_version": "1.5.0",
            "_view_name": "HTMLView",
            "description": "",
            "description_tooltip": null,
            "layout": "IPY_MODEL_b32f9dbac7c1443a9893258ce1f3d110",
            "placeholder": "​",
            "style": "IPY_MODEL_3a0f85d895a14211870df934e89099c9",
            "value": " 2225/2225 [00:03&lt;00:00, 835.93it/s]"
          }
        },
        "4d1805ce242345a2b262d324a134f806": {
          "model_module": "@jupyter-widgets/base",
          "model_name": "LayoutModel",
          "model_module_version": "1.2.0",
          "state": {
            "_model_module": "@jupyter-widgets/base",
            "_model_module_version": "1.2.0",
            "_model_name": "LayoutModel",
            "_view_count": null,
            "_view_module": "@jupyter-widgets/base",
            "_view_module_version": "1.2.0",
            "_view_name": "LayoutView",
            "align_content": null,
            "align_items": null,
            "align_self": null,
            "border": null,
            "bottom": null,
            "display": null,
            "flex": null,
            "flex_flow": null,
            "grid_area": null,
            "grid_auto_columns": null,
            "grid_auto_flow": null,
            "grid_auto_rows": null,
            "grid_column": null,
            "grid_gap": null,
            "grid_row": null,
            "grid_template_areas": null,
            "grid_template_columns": null,
            "grid_template_rows": null,
            "height": null,
            "justify_content": null,
            "justify_items": null,
            "left": null,
            "margin": null,
            "max_height": null,
            "max_width": null,
            "min_height": null,
            "min_width": null,
            "object_fit": null,
            "object_position": null,
            "order": null,
            "overflow": null,
            "overflow_x": null,
            "overflow_y": null,
            "padding": null,
            "right": null,
            "top": null,
            "visibility": null,
            "width": null
          }
        },
        "3ed2c0cea5a84afa915e87a6aa75ab0b": {
          "model_module": "@jupyter-widgets/base",
          "model_name": "LayoutModel",
          "model_module_version": "1.2.0",
          "state": {
            "_model_module": "@jupyter-widgets/base",
            "_model_module_version": "1.2.0",
            "_model_name": "LayoutModel",
            "_view_count": null,
            "_view_module": "@jupyter-widgets/base",
            "_view_module_version": "1.2.0",
            "_view_name": "LayoutView",
            "align_content": null,
            "align_items": null,
            "align_self": null,
            "border": null,
            "bottom": null,
            "display": null,
            "flex": null,
            "flex_flow": null,
            "grid_area": null,
            "grid_auto_columns": null,
            "grid_auto_flow": null,
            "grid_auto_rows": null,
            "grid_column": null,
            "grid_gap": null,
            "grid_row": null,
            "grid_template_areas": null,
            "grid_template_columns": null,
            "grid_template_rows": null,
            "height": null,
            "justify_content": null,
            "justify_items": null,
            "left": null,
            "margin": null,
            "max_height": null,
            "max_width": null,
            "min_height": null,
            "min_width": null,
            "object_fit": null,
            "object_position": null,
            "order": null,
            "overflow": null,
            "overflow_x": null,
            "overflow_y": null,
            "padding": null,
            "right": null,
            "top": null,
            "visibility": null,
            "width": null
          }
        },
        "4529883bcfab484187c664cc1a98724d": {
          "model_module": "@jupyter-widgets/controls",
          "model_name": "DescriptionStyleModel",
          "model_module_version": "1.5.0",
          "state": {
            "_model_module": "@jupyter-widgets/controls",
            "_model_module_version": "1.5.0",
            "_model_name": "DescriptionStyleModel",
            "_view_count": null,
            "_view_module": "@jupyter-widgets/base",
            "_view_module_version": "1.2.0",
            "_view_name": "StyleView",
            "description_width": ""
          }
        },
        "9709700154304e5abcb3a9b5b4e3470f": {
          "model_module": "@jupyter-widgets/base",
          "model_name": "LayoutModel",
          "model_module_version": "1.2.0",
          "state": {
            "_model_module": "@jupyter-widgets/base",
            "_model_module_version": "1.2.0",
            "_model_name": "LayoutModel",
            "_view_count": null,
            "_view_module": "@jupyter-widgets/base",
            "_view_module_version": "1.2.0",
            "_view_name": "LayoutView",
            "align_content": null,
            "align_items": null,
            "align_self": null,
            "border": null,
            "bottom": null,
            "display": null,
            "flex": null,
            "flex_flow": null,
            "grid_area": null,
            "grid_auto_columns": null,
            "grid_auto_flow": null,
            "grid_auto_rows": null,
            "grid_column": null,
            "grid_gap": null,
            "grid_row": null,
            "grid_template_areas": null,
            "grid_template_columns": null,
            "grid_template_rows": null,
            "height": null,
            "justify_content": null,
            "justify_items": null,
            "left": null,
            "margin": null,
            "max_height": null,
            "max_width": null,
            "min_height": null,
            "min_width": null,
            "object_fit": null,
            "object_position": null,
            "order": null,
            "overflow": null,
            "overflow_x": null,
            "overflow_y": null,
            "padding": null,
            "right": null,
            "top": null,
            "visibility": null,
            "width": null
          }
        },
        "678516a00a5448e693f784f3cb0b6309": {
          "model_module": "@jupyter-widgets/controls",
          "model_name": "ProgressStyleModel",
          "model_module_version": "1.5.0",
          "state": {
            "_model_module": "@jupyter-widgets/controls",
            "_model_module_version": "1.5.0",
            "_model_name": "ProgressStyleModel",
            "_view_count": null,
            "_view_module": "@jupyter-widgets/base",
            "_view_module_version": "1.2.0",
            "_view_name": "StyleView",
            "bar_color": null,
            "description_width": ""
          }
        },
        "b32f9dbac7c1443a9893258ce1f3d110": {
          "model_module": "@jupyter-widgets/base",
          "model_name": "LayoutModel",
          "model_module_version": "1.2.0",
          "state": {
            "_model_module": "@jupyter-widgets/base",
            "_model_module_version": "1.2.0",
            "_model_name": "LayoutModel",
            "_view_count": null,
            "_view_module": "@jupyter-widgets/base",
            "_view_module_version": "1.2.0",
            "_view_name": "LayoutView",
            "align_content": null,
            "align_items": null,
            "align_self": null,
            "border": null,
            "bottom": null,
            "display": null,
            "flex": null,
            "flex_flow": null,
            "grid_area": null,
            "grid_auto_columns": null,
            "grid_auto_flow": null,
            "grid_auto_rows": null,
            "grid_column": null,
            "grid_gap": null,
            "grid_row": null,
            "grid_template_areas": null,
            "grid_template_columns": null,
            "grid_template_rows": null,
            "height": null,
            "justify_content": null,
            "justify_items": null,
            "left": null,
            "margin": null,
            "max_height": null,
            "max_width": null,
            "min_height": null,
            "min_width": null,
            "object_fit": null,
            "object_position": null,
            "order": null,
            "overflow": null,
            "overflow_x": null,
            "overflow_y": null,
            "padding": null,
            "right": null,
            "top": null,
            "visibility": null,
            "width": null
          }
        },
        "3a0f85d895a14211870df934e89099c9": {
          "model_module": "@jupyter-widgets/controls",
          "model_name": "DescriptionStyleModel",
          "model_module_version": "1.5.0",
          "state": {
            "_model_module": "@jupyter-widgets/controls",
            "_model_module_version": "1.5.0",
            "_model_name": "DescriptionStyleModel",
            "_view_count": null,
            "_view_module": "@jupyter-widgets/base",
            "_view_module_version": "1.2.0",
            "_view_name": "StyleView",
            "description_width": ""
          }
        },
        "da15403e179046c09e467efbd2fcb2ba": {
          "model_module": "@jupyter-widgets/controls",
          "model_name": "HBoxModel",
          "model_module_version": "1.5.0",
          "state": {
            "_dom_classes": [],
            "_model_module": "@jupyter-widgets/controls",
            "_model_module_version": "1.5.0",
            "_model_name": "HBoxModel",
            "_view_count": null,
            "_view_module": "@jupyter-widgets/controls",
            "_view_module_version": "1.5.0",
            "_view_name": "HBoxView",
            "box_style": "",
            "children": [
              "IPY_MODEL_6d9b2a0c691346c5acbedaef5c73d771",
              "IPY_MODEL_6fb50ac45f884c91ba0a4424f3c5e72b",
              "IPY_MODEL_6d5d0938e07140a780a5a318415efb74"
            ],
            "layout": "IPY_MODEL_9ffa1f2ff9e34385873bcd6791a65616"
          }
        },
        "6d9b2a0c691346c5acbedaef5c73d771": {
          "model_module": "@jupyter-widgets/controls",
          "model_name": "HTMLModel",
          "model_module_version": "1.5.0",
          "state": {
            "_dom_classes": [],
            "_model_module": "@jupyter-widgets/controls",
            "_model_module_version": "1.5.0",
            "_model_name": "HTMLModel",
            "_view_count": null,
            "_view_module": "@jupyter-widgets/controls",
            "_view_module_version": "1.5.0",
            "_view_name": "HTMLView",
            "description": "",
            "description_tooltip": null,
            "layout": "IPY_MODEL_25c167263a3949f78a8d41f82ae77d23",
            "placeholder": "​",
            "style": "IPY_MODEL_19c3e1933dfe49aeae5b0ced591a1ce7",
            "value": "100%"
          }
        },
        "6fb50ac45f884c91ba0a4424f3c5e72b": {
          "model_module": "@jupyter-widgets/controls",
          "model_name": "FloatProgressModel",
          "model_module_version": "1.5.0",
          "state": {
            "_dom_classes": [],
            "_model_module": "@jupyter-widgets/controls",
            "_model_module_version": "1.5.0",
            "_model_name": "FloatProgressModel",
            "_view_count": null,
            "_view_module": "@jupyter-widgets/controls",
            "_view_module_version": "1.5.0",
            "_view_name": "ProgressView",
            "bar_style": "success",
            "description": "",
            "description_tooltip": null,
            "layout": "IPY_MODEL_d1c31a1855f8413bad91b78f0959e41a",
            "max": 2225,
            "min": 0,
            "orientation": "horizontal",
            "style": "IPY_MODEL_cb781cbfb2f4424ba89d0d56944b54a6",
            "value": 2225
          }
        },
        "6d5d0938e07140a780a5a318415efb74": {
          "model_module": "@jupyter-widgets/controls",
          "model_name": "HTMLModel",
          "model_module_version": "1.5.0",
          "state": {
            "_dom_classes": [],
            "_model_module": "@jupyter-widgets/controls",
            "_model_module_version": "1.5.0",
            "_model_name": "HTMLModel",
            "_view_count": null,
            "_view_module": "@jupyter-widgets/controls",
            "_view_module_version": "1.5.0",
            "_view_name": "HTMLView",
            "description": "",
            "description_tooltip": null,
            "layout": "IPY_MODEL_4d9b73de86fd4807ba8545d8f58e11ac",
            "placeholder": "​",
            "style": "IPY_MODEL_6f32464a478e4b83955cbd109b1155f2",
            "value": " 2225/2225 [00:00&lt;00:00, 3354.83it/s]"
          }
        },
        "9ffa1f2ff9e34385873bcd6791a65616": {
          "model_module": "@jupyter-widgets/base",
          "model_name": "LayoutModel",
          "model_module_version": "1.2.0",
          "state": {
            "_model_module": "@jupyter-widgets/base",
            "_model_module_version": "1.2.0",
            "_model_name": "LayoutModel",
            "_view_count": null,
            "_view_module": "@jupyter-widgets/base",
            "_view_module_version": "1.2.0",
            "_view_name": "LayoutView",
            "align_content": null,
            "align_items": null,
            "align_self": null,
            "border": null,
            "bottom": null,
            "display": null,
            "flex": null,
            "flex_flow": null,
            "grid_area": null,
            "grid_auto_columns": null,
            "grid_auto_flow": null,
            "grid_auto_rows": null,
            "grid_column": null,
            "grid_gap": null,
            "grid_row": null,
            "grid_template_areas": null,
            "grid_template_columns": null,
            "grid_template_rows": null,
            "height": null,
            "justify_content": null,
            "justify_items": null,
            "left": null,
            "margin": null,
            "max_height": null,
            "max_width": null,
            "min_height": null,
            "min_width": null,
            "object_fit": null,
            "object_position": null,
            "order": null,
            "overflow": null,
            "overflow_x": null,
            "overflow_y": null,
            "padding": null,
            "right": null,
            "top": null,
            "visibility": null,
            "width": null
          }
        },
        "25c167263a3949f78a8d41f82ae77d23": {
          "model_module": "@jupyter-widgets/base",
          "model_name": "LayoutModel",
          "model_module_version": "1.2.0",
          "state": {
            "_model_module": "@jupyter-widgets/base",
            "_model_module_version": "1.2.0",
            "_model_name": "LayoutModel",
            "_view_count": null,
            "_view_module": "@jupyter-widgets/base",
            "_view_module_version": "1.2.0",
            "_view_name": "LayoutView",
            "align_content": null,
            "align_items": null,
            "align_self": null,
            "border": null,
            "bottom": null,
            "display": null,
            "flex": null,
            "flex_flow": null,
            "grid_area": null,
            "grid_auto_columns": null,
            "grid_auto_flow": null,
            "grid_auto_rows": null,
            "grid_column": null,
            "grid_gap": null,
            "grid_row": null,
            "grid_template_areas": null,
            "grid_template_columns": null,
            "grid_template_rows": null,
            "height": null,
            "justify_content": null,
            "justify_items": null,
            "left": null,
            "margin": null,
            "max_height": null,
            "max_width": null,
            "min_height": null,
            "min_width": null,
            "object_fit": null,
            "object_position": null,
            "order": null,
            "overflow": null,
            "overflow_x": null,
            "overflow_y": null,
            "padding": null,
            "right": null,
            "top": null,
            "visibility": null,
            "width": null
          }
        },
        "19c3e1933dfe49aeae5b0ced591a1ce7": {
          "model_module": "@jupyter-widgets/controls",
          "model_name": "DescriptionStyleModel",
          "model_module_version": "1.5.0",
          "state": {
            "_model_module": "@jupyter-widgets/controls",
            "_model_module_version": "1.5.0",
            "_model_name": "DescriptionStyleModel",
            "_view_count": null,
            "_view_module": "@jupyter-widgets/base",
            "_view_module_version": "1.2.0",
            "_view_name": "StyleView",
            "description_width": ""
          }
        },
        "d1c31a1855f8413bad91b78f0959e41a": {
          "model_module": "@jupyter-widgets/base",
          "model_name": "LayoutModel",
          "model_module_version": "1.2.0",
          "state": {
            "_model_module": "@jupyter-widgets/base",
            "_model_module_version": "1.2.0",
            "_model_name": "LayoutModel",
            "_view_count": null,
            "_view_module": "@jupyter-widgets/base",
            "_view_module_version": "1.2.0",
            "_view_name": "LayoutView",
            "align_content": null,
            "align_items": null,
            "align_self": null,
            "border": null,
            "bottom": null,
            "display": null,
            "flex": null,
            "flex_flow": null,
            "grid_area": null,
            "grid_auto_columns": null,
            "grid_auto_flow": null,
            "grid_auto_rows": null,
            "grid_column": null,
            "grid_gap": null,
            "grid_row": null,
            "grid_template_areas": null,
            "grid_template_columns": null,
            "grid_template_rows": null,
            "height": null,
            "justify_content": null,
            "justify_items": null,
            "left": null,
            "margin": null,
            "max_height": null,
            "max_width": null,
            "min_height": null,
            "min_width": null,
            "object_fit": null,
            "object_position": null,
            "order": null,
            "overflow": null,
            "overflow_x": null,
            "overflow_y": null,
            "padding": null,
            "right": null,
            "top": null,
            "visibility": null,
            "width": null
          }
        },
        "cb781cbfb2f4424ba89d0d56944b54a6": {
          "model_module": "@jupyter-widgets/controls",
          "model_name": "ProgressStyleModel",
          "model_module_version": "1.5.0",
          "state": {
            "_model_module": "@jupyter-widgets/controls",
            "_model_module_version": "1.5.0",
            "_model_name": "ProgressStyleModel",
            "_view_count": null,
            "_view_module": "@jupyter-widgets/base",
            "_view_module_version": "1.2.0",
            "_view_name": "StyleView",
            "bar_color": null,
            "description_width": ""
          }
        },
        "4d9b73de86fd4807ba8545d8f58e11ac": {
          "model_module": "@jupyter-widgets/base",
          "model_name": "LayoutModel",
          "model_module_version": "1.2.0",
          "state": {
            "_model_module": "@jupyter-widgets/base",
            "_model_module_version": "1.2.0",
            "_model_name": "LayoutModel",
            "_view_count": null,
            "_view_module": "@jupyter-widgets/base",
            "_view_module_version": "1.2.0",
            "_view_name": "LayoutView",
            "align_content": null,
            "align_items": null,
            "align_self": null,
            "border": null,
            "bottom": null,
            "display": null,
            "flex": null,
            "flex_flow": null,
            "grid_area": null,
            "grid_auto_columns": null,
            "grid_auto_flow": null,
            "grid_auto_rows": null,
            "grid_column": null,
            "grid_gap": null,
            "grid_row": null,
            "grid_template_areas": null,
            "grid_template_columns": null,
            "grid_template_rows": null,
            "height": null,
            "justify_content": null,
            "justify_items": null,
            "left": null,
            "margin": null,
            "max_height": null,
            "max_width": null,
            "min_height": null,
            "min_width": null,
            "object_fit": null,
            "object_position": null,
            "order": null,
            "overflow": null,
            "overflow_x": null,
            "overflow_y": null,
            "padding": null,
            "right": null,
            "top": null,
            "visibility": null,
            "width": null
          }
        },
        "6f32464a478e4b83955cbd109b1155f2": {
          "model_module": "@jupyter-widgets/controls",
          "model_name": "DescriptionStyleModel",
          "model_module_version": "1.5.0",
          "state": {
            "_model_module": "@jupyter-widgets/controls",
            "_model_module_version": "1.5.0",
            "_model_name": "DescriptionStyleModel",
            "_view_count": null,
            "_view_module": "@jupyter-widgets/base",
            "_view_module_version": "1.2.0",
            "_view_name": "StyleView",
            "description_width": ""
          }
        },
        "32d28150cc044c66b9ed4157aa1f0de3": {
          "model_module": "@jupyter-widgets/controls",
          "model_name": "HBoxModel",
          "model_module_version": "1.5.0",
          "state": {
            "_dom_classes": [],
            "_model_module": "@jupyter-widgets/controls",
            "_model_module_version": "1.5.0",
            "_model_name": "HBoxModel",
            "_view_count": null,
            "_view_module": "@jupyter-widgets/controls",
            "_view_module_version": "1.5.0",
            "_view_name": "HBoxView",
            "box_style": "",
            "children": [
              "IPY_MODEL_0291fa3d01634f0e88cd33d5d6cb6d0b",
              "IPY_MODEL_00f6ea845dc54312bc8066cfeeb82047",
              "IPY_MODEL_bcb0ed36c6a6417da45095af1dfe42af"
            ],
            "layout": "IPY_MODEL_cbbbb78cb9a748caa315427d999c63a1"
          }
        },
        "0291fa3d01634f0e88cd33d5d6cb6d0b": {
          "model_module": "@jupyter-widgets/controls",
          "model_name": "HTMLModel",
          "model_module_version": "1.5.0",
          "state": {
            "_dom_classes": [],
            "_model_module": "@jupyter-widgets/controls",
            "_model_module_version": "1.5.0",
            "_model_name": "HTMLModel",
            "_view_count": null,
            "_view_module": "@jupyter-widgets/controls",
            "_view_module_version": "1.5.0",
            "_view_name": "HTMLView",
            "description": "",
            "description_tooltip": null,
            "layout": "IPY_MODEL_e0b36e158b73489d92aeadcf73b32a1c",
            "placeholder": "​",
            "style": "IPY_MODEL_dd7f07fa1ec54f67aa968fffc0489f4c",
            "value": "100%"
          }
        },
        "00f6ea845dc54312bc8066cfeeb82047": {
          "model_module": "@jupyter-widgets/controls",
          "model_name": "FloatProgressModel",
          "model_module_version": "1.5.0",
          "state": {
            "_dom_classes": [],
            "_model_module": "@jupyter-widgets/controls",
            "_model_module_version": "1.5.0",
            "_model_name": "FloatProgressModel",
            "_view_count": null,
            "_view_module": "@jupyter-widgets/controls",
            "_view_module_version": "1.5.0",
            "_view_name": "ProgressView",
            "bar_style": "success",
            "description": "",
            "description_tooltip": null,
            "layout": "IPY_MODEL_9df1caa8c68a45a0aee1df7f04024635",
            "max": 2225,
            "min": 0,
            "orientation": "horizontal",
            "style": "IPY_MODEL_bc819329db10451ebbb3fcbb1bb641f7",
            "value": 2225
          }
        },
        "bcb0ed36c6a6417da45095af1dfe42af": {
          "model_module": "@jupyter-widgets/controls",
          "model_name": "HTMLModel",
          "model_module_version": "1.5.0",
          "state": {
            "_dom_classes": [],
            "_model_module": "@jupyter-widgets/controls",
            "_model_module_version": "1.5.0",
            "_model_name": "HTMLModel",
            "_view_count": null,
            "_view_module": "@jupyter-widgets/controls",
            "_view_module_version": "1.5.0",
            "_view_name": "HTMLView",
            "description": "",
            "description_tooltip": null,
            "layout": "IPY_MODEL_6f3e9378456d4256853734d356da8020",
            "placeholder": "​",
            "style": "IPY_MODEL_aad6f18d6a044154a97565fdcddca4b2",
            "value": " 2225/2225 [00:03&lt;00:00, 645.13it/s]"
          }
        },
        "cbbbb78cb9a748caa315427d999c63a1": {
          "model_module": "@jupyter-widgets/base",
          "model_name": "LayoutModel",
          "model_module_version": "1.2.0",
          "state": {
            "_model_module": "@jupyter-widgets/base",
            "_model_module_version": "1.2.0",
            "_model_name": "LayoutModel",
            "_view_count": null,
            "_view_module": "@jupyter-widgets/base",
            "_view_module_version": "1.2.0",
            "_view_name": "LayoutView",
            "align_content": null,
            "align_items": null,
            "align_self": null,
            "border": null,
            "bottom": null,
            "display": null,
            "flex": null,
            "flex_flow": null,
            "grid_area": null,
            "grid_auto_columns": null,
            "grid_auto_flow": null,
            "grid_auto_rows": null,
            "grid_column": null,
            "grid_gap": null,
            "grid_row": null,
            "grid_template_areas": null,
            "grid_template_columns": null,
            "grid_template_rows": null,
            "height": null,
            "justify_content": null,
            "justify_items": null,
            "left": null,
            "margin": null,
            "max_height": null,
            "max_width": null,
            "min_height": null,
            "min_width": null,
            "object_fit": null,
            "object_position": null,
            "order": null,
            "overflow": null,
            "overflow_x": null,
            "overflow_y": null,
            "padding": null,
            "right": null,
            "top": null,
            "visibility": null,
            "width": null
          }
        },
        "e0b36e158b73489d92aeadcf73b32a1c": {
          "model_module": "@jupyter-widgets/base",
          "model_name": "LayoutModel",
          "model_module_version": "1.2.0",
          "state": {
            "_model_module": "@jupyter-widgets/base",
            "_model_module_version": "1.2.0",
            "_model_name": "LayoutModel",
            "_view_count": null,
            "_view_module": "@jupyter-widgets/base",
            "_view_module_version": "1.2.0",
            "_view_name": "LayoutView",
            "align_content": null,
            "align_items": null,
            "align_self": null,
            "border": null,
            "bottom": null,
            "display": null,
            "flex": null,
            "flex_flow": null,
            "grid_area": null,
            "grid_auto_columns": null,
            "grid_auto_flow": null,
            "grid_auto_rows": null,
            "grid_column": null,
            "grid_gap": null,
            "grid_row": null,
            "grid_template_areas": null,
            "grid_template_columns": null,
            "grid_template_rows": null,
            "height": null,
            "justify_content": null,
            "justify_items": null,
            "left": null,
            "margin": null,
            "max_height": null,
            "max_width": null,
            "min_height": null,
            "min_width": null,
            "object_fit": null,
            "object_position": null,
            "order": null,
            "overflow": null,
            "overflow_x": null,
            "overflow_y": null,
            "padding": null,
            "right": null,
            "top": null,
            "visibility": null,
            "width": null
          }
        },
        "dd7f07fa1ec54f67aa968fffc0489f4c": {
          "model_module": "@jupyter-widgets/controls",
          "model_name": "DescriptionStyleModel",
          "model_module_version": "1.5.0",
          "state": {
            "_model_module": "@jupyter-widgets/controls",
            "_model_module_version": "1.5.0",
            "_model_name": "DescriptionStyleModel",
            "_view_count": null,
            "_view_module": "@jupyter-widgets/base",
            "_view_module_version": "1.2.0",
            "_view_name": "StyleView",
            "description_width": ""
          }
        },
        "9df1caa8c68a45a0aee1df7f04024635": {
          "model_module": "@jupyter-widgets/base",
          "model_name": "LayoutModel",
          "model_module_version": "1.2.0",
          "state": {
            "_model_module": "@jupyter-widgets/base",
            "_model_module_version": "1.2.0",
            "_model_name": "LayoutModel",
            "_view_count": null,
            "_view_module": "@jupyter-widgets/base",
            "_view_module_version": "1.2.0",
            "_view_name": "LayoutView",
            "align_content": null,
            "align_items": null,
            "align_self": null,
            "border": null,
            "bottom": null,
            "display": null,
            "flex": null,
            "flex_flow": null,
            "grid_area": null,
            "grid_auto_columns": null,
            "grid_auto_flow": null,
            "grid_auto_rows": null,
            "grid_column": null,
            "grid_gap": null,
            "grid_row": null,
            "grid_template_areas": null,
            "grid_template_columns": null,
            "grid_template_rows": null,
            "height": null,
            "justify_content": null,
            "justify_items": null,
            "left": null,
            "margin": null,
            "max_height": null,
            "max_width": null,
            "min_height": null,
            "min_width": null,
            "object_fit": null,
            "object_position": null,
            "order": null,
            "overflow": null,
            "overflow_x": null,
            "overflow_y": null,
            "padding": null,
            "right": null,
            "top": null,
            "visibility": null,
            "width": null
          }
        },
        "bc819329db10451ebbb3fcbb1bb641f7": {
          "model_module": "@jupyter-widgets/controls",
          "model_name": "ProgressStyleModel",
          "model_module_version": "1.5.0",
          "state": {
            "_model_module": "@jupyter-widgets/controls",
            "_model_module_version": "1.5.0",
            "_model_name": "ProgressStyleModel",
            "_view_count": null,
            "_view_module": "@jupyter-widgets/base",
            "_view_module_version": "1.2.0",
            "_view_name": "StyleView",
            "bar_color": null,
            "description_width": ""
          }
        },
        "6f3e9378456d4256853734d356da8020": {
          "model_module": "@jupyter-widgets/base",
          "model_name": "LayoutModel",
          "model_module_version": "1.2.0",
          "state": {
            "_model_module": "@jupyter-widgets/base",
            "_model_module_version": "1.2.0",
            "_model_name": "LayoutModel",
            "_view_count": null,
            "_view_module": "@jupyter-widgets/base",
            "_view_module_version": "1.2.0",
            "_view_name": "LayoutView",
            "align_content": null,
            "align_items": null,
            "align_self": null,
            "border": null,
            "bottom": null,
            "display": null,
            "flex": null,
            "flex_flow": null,
            "grid_area": null,
            "grid_auto_columns": null,
            "grid_auto_flow": null,
            "grid_auto_rows": null,
            "grid_column": null,
            "grid_gap": null,
            "grid_row": null,
            "grid_template_areas": null,
            "grid_template_columns": null,
            "grid_template_rows": null,
            "height": null,
            "justify_content": null,
            "justify_items": null,
            "left": null,
            "margin": null,
            "max_height": null,
            "max_width": null,
            "min_height": null,
            "min_width": null,
            "object_fit": null,
            "object_position": null,
            "order": null,
            "overflow": null,
            "overflow_x": null,
            "overflow_y": null,
            "padding": null,
            "right": null,
            "top": null,
            "visibility": null,
            "width": null
          }
        },
        "aad6f18d6a044154a97565fdcddca4b2": {
          "model_module": "@jupyter-widgets/controls",
          "model_name": "DescriptionStyleModel",
          "model_module_version": "1.5.0",
          "state": {
            "_model_module": "@jupyter-widgets/controls",
            "_model_module_version": "1.5.0",
            "_model_name": "DescriptionStyleModel",
            "_view_count": null,
            "_view_module": "@jupyter-widgets/base",
            "_view_module_version": "1.2.0",
            "_view_name": "StyleView",
            "description_width": ""
          }
        },
        "4fe688c6022e4a31a9cd5fd10ee536a8": {
          "model_module": "@jupyter-widgets/controls",
          "model_name": "HBoxModel",
          "model_module_version": "1.5.0",
          "state": {
            "_dom_classes": [],
            "_model_module": "@jupyter-widgets/controls",
            "_model_module_version": "1.5.0",
            "_model_name": "HBoxModel",
            "_view_count": null,
            "_view_module": "@jupyter-widgets/controls",
            "_view_module_version": "1.5.0",
            "_view_name": "HBoxView",
            "box_style": "",
            "children": [
              "IPY_MODEL_1532514d39684cf0a2abba87412faaf6",
              "IPY_MODEL_8abad63f35e646ec9d338b59f8d541e9",
              "IPY_MODEL_6aa6b65ca6ab46299944bad3f2cd0efc"
            ],
            "layout": "IPY_MODEL_9190cd6fa6a54ffcad2411a5d6c1aac9"
          }
        },
        "1532514d39684cf0a2abba87412faaf6": {
          "model_module": "@jupyter-widgets/controls",
          "model_name": "HTMLModel",
          "model_module_version": "1.5.0",
          "state": {
            "_dom_classes": [],
            "_model_module": "@jupyter-widgets/controls",
            "_model_module_version": "1.5.0",
            "_model_name": "HTMLModel",
            "_view_count": null,
            "_view_module": "@jupyter-widgets/controls",
            "_view_module_version": "1.5.0",
            "_view_name": "HTMLView",
            "description": "",
            "description_tooltip": null,
            "layout": "IPY_MODEL_d67b40d7d4994e97b82278d99024c5e6",
            "placeholder": "​",
            "style": "IPY_MODEL_c1c0064301e949c69dda974803a91a00",
            "value": "100%"
          }
        },
        "8abad63f35e646ec9d338b59f8d541e9": {
          "model_module": "@jupyter-widgets/controls",
          "model_name": "FloatProgressModel",
          "model_module_version": "1.5.0",
          "state": {
            "_dom_classes": [],
            "_model_module": "@jupyter-widgets/controls",
            "_model_module_version": "1.5.0",
            "_model_name": "FloatProgressModel",
            "_view_count": null,
            "_view_module": "@jupyter-widgets/controls",
            "_view_module_version": "1.5.0",
            "_view_name": "ProgressView",
            "bar_style": "success",
            "description": "",
            "description_tooltip": null,
            "layout": "IPY_MODEL_f505fa27f6c24b6a944e9fc0892d7c9e",
            "max": 2225,
            "min": 0,
            "orientation": "horizontal",
            "style": "IPY_MODEL_2ff931e51d764611b970b928fafedfea",
            "value": 2225
          }
        },
        "6aa6b65ca6ab46299944bad3f2cd0efc": {
          "model_module": "@jupyter-widgets/controls",
          "model_name": "HTMLModel",
          "model_module_version": "1.5.0",
          "state": {
            "_dom_classes": [],
            "_model_module": "@jupyter-widgets/controls",
            "_model_module_version": "1.5.0",
            "_model_name": "HTMLModel",
            "_view_count": null,
            "_view_module": "@jupyter-widgets/controls",
            "_view_module_version": "1.5.0",
            "_view_name": "HTMLView",
            "description": "",
            "description_tooltip": null,
            "layout": "IPY_MODEL_e286f921cb674f9a8802020c5baa3181",
            "placeholder": "​",
            "style": "IPY_MODEL_5eea1cf7e6564ad69944a5f3a4c713f9",
            "value": " 2225/2225 [00:00&lt;00:00, 11007.92it/s]"
          }
        },
        "9190cd6fa6a54ffcad2411a5d6c1aac9": {
          "model_module": "@jupyter-widgets/base",
          "model_name": "LayoutModel",
          "model_module_version": "1.2.0",
          "state": {
            "_model_module": "@jupyter-widgets/base",
            "_model_module_version": "1.2.0",
            "_model_name": "LayoutModel",
            "_view_count": null,
            "_view_module": "@jupyter-widgets/base",
            "_view_module_version": "1.2.0",
            "_view_name": "LayoutView",
            "align_content": null,
            "align_items": null,
            "align_self": null,
            "border": null,
            "bottom": null,
            "display": null,
            "flex": null,
            "flex_flow": null,
            "grid_area": null,
            "grid_auto_columns": null,
            "grid_auto_flow": null,
            "grid_auto_rows": null,
            "grid_column": null,
            "grid_gap": null,
            "grid_row": null,
            "grid_template_areas": null,
            "grid_template_columns": null,
            "grid_template_rows": null,
            "height": null,
            "justify_content": null,
            "justify_items": null,
            "left": null,
            "margin": null,
            "max_height": null,
            "max_width": null,
            "min_height": null,
            "min_width": null,
            "object_fit": null,
            "object_position": null,
            "order": null,
            "overflow": null,
            "overflow_x": null,
            "overflow_y": null,
            "padding": null,
            "right": null,
            "top": null,
            "visibility": null,
            "width": null
          }
        },
        "d67b40d7d4994e97b82278d99024c5e6": {
          "model_module": "@jupyter-widgets/base",
          "model_name": "LayoutModel",
          "model_module_version": "1.2.0",
          "state": {
            "_model_module": "@jupyter-widgets/base",
            "_model_module_version": "1.2.0",
            "_model_name": "LayoutModel",
            "_view_count": null,
            "_view_module": "@jupyter-widgets/base",
            "_view_module_version": "1.2.0",
            "_view_name": "LayoutView",
            "align_content": null,
            "align_items": null,
            "align_self": null,
            "border": null,
            "bottom": null,
            "display": null,
            "flex": null,
            "flex_flow": null,
            "grid_area": null,
            "grid_auto_columns": null,
            "grid_auto_flow": null,
            "grid_auto_rows": null,
            "grid_column": null,
            "grid_gap": null,
            "grid_row": null,
            "grid_template_areas": null,
            "grid_template_columns": null,
            "grid_template_rows": null,
            "height": null,
            "justify_content": null,
            "justify_items": null,
            "left": null,
            "margin": null,
            "max_height": null,
            "max_width": null,
            "min_height": null,
            "min_width": null,
            "object_fit": null,
            "object_position": null,
            "order": null,
            "overflow": null,
            "overflow_x": null,
            "overflow_y": null,
            "padding": null,
            "right": null,
            "top": null,
            "visibility": null,
            "width": null
          }
        },
        "c1c0064301e949c69dda974803a91a00": {
          "model_module": "@jupyter-widgets/controls",
          "model_name": "DescriptionStyleModel",
          "model_module_version": "1.5.0",
          "state": {
            "_model_module": "@jupyter-widgets/controls",
            "_model_module_version": "1.5.0",
            "_model_name": "DescriptionStyleModel",
            "_view_count": null,
            "_view_module": "@jupyter-widgets/base",
            "_view_module_version": "1.2.0",
            "_view_name": "StyleView",
            "description_width": ""
          }
        },
        "f505fa27f6c24b6a944e9fc0892d7c9e": {
          "model_module": "@jupyter-widgets/base",
          "model_name": "LayoutModel",
          "model_module_version": "1.2.0",
          "state": {
            "_model_module": "@jupyter-widgets/base",
            "_model_module_version": "1.2.0",
            "_model_name": "LayoutModel",
            "_view_count": null,
            "_view_module": "@jupyter-widgets/base",
            "_view_module_version": "1.2.0",
            "_view_name": "LayoutView",
            "align_content": null,
            "align_items": null,
            "align_self": null,
            "border": null,
            "bottom": null,
            "display": null,
            "flex": null,
            "flex_flow": null,
            "grid_area": null,
            "grid_auto_columns": null,
            "grid_auto_flow": null,
            "grid_auto_rows": null,
            "grid_column": null,
            "grid_gap": null,
            "grid_row": null,
            "grid_template_areas": null,
            "grid_template_columns": null,
            "grid_template_rows": null,
            "height": null,
            "justify_content": null,
            "justify_items": null,
            "left": null,
            "margin": null,
            "max_height": null,
            "max_width": null,
            "min_height": null,
            "min_width": null,
            "object_fit": null,
            "object_position": null,
            "order": null,
            "overflow": null,
            "overflow_x": null,
            "overflow_y": null,
            "padding": null,
            "right": null,
            "top": null,
            "visibility": null,
            "width": null
          }
        },
        "2ff931e51d764611b970b928fafedfea": {
          "model_module": "@jupyter-widgets/controls",
          "model_name": "ProgressStyleModel",
          "model_module_version": "1.5.0",
          "state": {
            "_model_module": "@jupyter-widgets/controls",
            "_model_module_version": "1.5.0",
            "_model_name": "ProgressStyleModel",
            "_view_count": null,
            "_view_module": "@jupyter-widgets/base",
            "_view_module_version": "1.2.0",
            "_view_name": "StyleView",
            "bar_color": null,
            "description_width": ""
          }
        },
        "e286f921cb674f9a8802020c5baa3181": {
          "model_module": "@jupyter-widgets/base",
          "model_name": "LayoutModel",
          "model_module_version": "1.2.0",
          "state": {
            "_model_module": "@jupyter-widgets/base",
            "_model_module_version": "1.2.0",
            "_model_name": "LayoutModel",
            "_view_count": null,
            "_view_module": "@jupyter-widgets/base",
            "_view_module_version": "1.2.0",
            "_view_name": "LayoutView",
            "align_content": null,
            "align_items": null,
            "align_self": null,
            "border": null,
            "bottom": null,
            "display": null,
            "flex": null,
            "flex_flow": null,
            "grid_area": null,
            "grid_auto_columns": null,
            "grid_auto_flow": null,
            "grid_auto_rows": null,
            "grid_column": null,
            "grid_gap": null,
            "grid_row": null,
            "grid_template_areas": null,
            "grid_template_columns": null,
            "grid_template_rows": null,
            "height": null,
            "justify_content": null,
            "justify_items": null,
            "left": null,
            "margin": null,
            "max_height": null,
            "max_width": null,
            "min_height": null,
            "min_width": null,
            "object_fit": null,
            "object_position": null,
            "order": null,
            "overflow": null,
            "overflow_x": null,
            "overflow_y": null,
            "padding": null,
            "right": null,
            "top": null,
            "visibility": null,
            "width": null
          }
        },
        "5eea1cf7e6564ad69944a5f3a4c713f9": {
          "model_module": "@jupyter-widgets/controls",
          "model_name": "DescriptionStyleModel",
          "model_module_version": "1.5.0",
          "state": {
            "_model_module": "@jupyter-widgets/controls",
            "_model_module_version": "1.5.0",
            "_model_name": "DescriptionStyleModel",
            "_view_count": null,
            "_view_module": "@jupyter-widgets/base",
            "_view_module_version": "1.2.0",
            "_view_name": "StyleView",
            "description_width": ""
          }
        }
      }
    }
  },
  "nbformat": 4,
  "nbformat_minor": 0
}